{
 "cells": [
  {
   "cell_type": "markdown",
   "metadata": {},
   "source": [
    "### Review\n",
    "\n",
    "* functions can call other functions and pass arguments to the other functions. Functions can ALSO BE PASSED AS OBJECTS TO OTHER FUNCTIONS (everything in Python is an object)\n",
    "\n",
    "* list comprehensions (Lecture_2Cii) compared to for loops\n",
    "Example: "
   ]
  },
  {
   "cell_type": "code",
   "execution_count": 1,
   "metadata": {},
   "outputs": [
    {
     "name": "stdout",
     "output_type": "stream",
     "text": [
      "[0, 2, 4, 6, 8, 10, 12, 14, 16, 18, 20, 22, 24, 26, 28, 30, 32, 34, 36, 38, 40, 42, 44, 46, 48, 50]\n",
      "[0, 2, 4, 6, 8, 10, 12, 14, 16, 18, 20, 22, 24, 26, 28, 30, 32, 34, 36, 38, 40, 42, 44, 46, 48, 50]\n"
     ]
    }
   ],
   "source": [
    "# **list comprehension**\n",
    "evens_to_50=[i for i in range(51) if i%2==0]\n",
    "\n",
    "print(evens_to_50)\n",
    "\n",
    "# **imperative programming solution**\n",
    "evens_to_50=[]\n",
    "for i in range(51):\n",
    "    if i%2==0:\n",
    "        evens_to_50.append(i)\n",
    "        \n",
    "print(evens_to_50)"
   ]
  },
  {
   "cell_type": "markdown",
   "metadata": {},
   "source": [
    "## Functional Programming\n",
    "\n",
    "-----------------------------------------------\n",
    "##### Tip: remember how I told you about rosettacode.org in an earlier lecture (Lecture_2E, I showed you the monty hall program solution)? You may find it useful to explore that website and compare the solutions for common programming problems in Haskell versus Python to get a feel for the difference between functional programming languages and Python. \n",
    "-----------------------------------------------\n",
    "* Preamble: You can break down programming problems in three major ways in Python (…yet another reason why python is so flexible):\n",
    "\n",
    "        1. imperative - what we have learned about so far in this course (I have also called it the outdated term: procedural). This is the \"top to bottom\" executed programming. \n",
    "        \n",
    "        2. OOP – manipulates collections of objects which have methods associated with them.\n",
    "        \n",
    "        3. Functional- decomposes a problem into a pipeline of a set of functions which **only take inputs and output and whose output should be dependent on the specific input that is fed to the function**(this means that there should be no ‘side effects’).\n",
    "      \n",
    "* Usually you will get a mix of both of these styles since it is challenging to program in only one or the other\n",
    "\n",
    "* although there are other programs that have other ways of decomposing problems (We will see SQLite/MYSQL in module 4 and this adopts the philosophy of declaration: you craft a query describing the data set you want to retrieve)\n",
    "\n",
    "* Map, Filter, Sorted and Reduce are fairly universal (Perl, Java, C++, R etc)\n",
    "    * Guido van Rossum (inventor of Python) is not a fan of functional programming and didn't initially design Python to include these higher order functions (he wanted everything to be a list comprehension). But they are useful and users demanded that he add them. He begrudgingly complied.  \n",
    "\n",
    "--------------------------\n",
    "* As part of Python 3, you will also need to use the list() function in conjunction with the higher order functions that we will learn about. Sorry!\n",
    "--------------------------"
   ]
  },
  {
   "cell_type": "markdown",
   "metadata": {},
   "source": [
    "### (some) features of functional programming\n",
    "1. removing side effects\n",
    "2. liberal use of anonymous functions\n",
    "3. functions being treated as objects and being passed to other functions\n",
    "4. Higher order functions (first class): map, filter, sorted, reduce"
   ]
  },
  {
   "cell_type": "markdown",
   "metadata": {},
   "source": [
    "__________________________________________________________________________________________\n",
    "\n",
    "#### Removing \"side effects\" \n",
    "##### What is a 'side effect'? \n",
    "* Anything besides returning a value is side effect. Modifying an internal state or making changes can mean:\n",
    "         * Printing something\n",
    "         * Modifying an 'out of scope' object (such as a list or a mutable object)\n",
    "         * Saving something\n",
    "* You can understand side effect as \"modifying the outside world\". \n",
    "__________________________________________________________________________________________\n",
    "\n",
    "* Functional style discourages functions with side effects that modify internal state or make other changes that aren’t visible in the return value of the function. \n",
    "\n",
    "***The best metaphor I have read describing no side effects: If your function code could be switched with a table (even an infinite one) than it has no side effects.***\n",
    "\n",
    "* Theoretical and technical: Functional programming can be considered the opposite of object-oriented programming. Objects are little capsules containing some internal state along with a collection of method calls that let you modify this state, and programs consist of making the right set of state changes. Functional programming wants to avoid state changes as much as possible and works with data flowing between functions. In Python you might combine the two approaches by writing functions that take and return instances representing objects in your application (e-mail messages, transactions, etc.).\n",
    "\n",
    "* Practical application: Functional programming means that you can treat functions as variables and pass them to other functions in the pipeline (Not all languages allow you to pass functions as variables so we should appreciate that Python allows us to do this!)"
   ]
  },
  {
   "cell_type": "code",
   "execution_count": 3,
   "metadata": {},
   "outputs": [
    {
     "name": "stdout",
     "output_type": "stream",
     "text": [
      "1\n",
      "-----------------\n",
      "1\n"
     ]
    }
   ],
   "source": [
    "# one of many examples we'll see of a imperative programming function and a \n",
    "# companion functional answer for comparison\n",
    "# imperative program\n",
    "def increment(a):\n",
    "    a+=1\n",
    "    return a\n",
    "# b has state here since we are setting it to be equal to 0\n",
    "# state is a problem because we could change the value of b at a different place in the\n",
    "# program so functional programming removes state. \n",
    "b=0\n",
    "print(increment(b))\n",
    "\n",
    "# same intention as above but FUNCTIONAL programming \n",
    "print(\"-----------------\")\n",
    "def increment_func(a):\n",
    "    return a+1\n",
    "print(increment_func(0))"
   ]
  },
  {
   "cell_type": "markdown",
   "metadata": {},
   "source": [
    "### Let's return to \"STATE\"\n",
    "* In contrast to “Objected oriented programming”(in which we create objects that have attributes and we manipulate those attributes)\n",
    "    * Approach to programming which tries to avoid the use of state\n",
    "    * State <-- a variable that changes during the execution of  a program\n",
    "\n",
    "<div class=\"alert alert-block alert-warning\">\n",
    "    \n",
    "* Example of program with state:\n",
    "\n",
    "        x=0\n",
    "        print(x)\n",
    "        for i in range(10):\n",
    "            x=x+i\n",
    "        print(x)\n",
    "        \n",
    "* We can tell that x has state because the value stored in x changes as the program runs (it is mutable)\n",
    "\n",
    "* Let's run the program and see what happens **AND THEN RE-WRITE THE PROGRAM SO THAT IT IS STATELESS BUT DOES THE SAME THING**\n",
    "\n",
    "    * Value of variable y (instead of x) is set once and never changed\n",
    "\n"
   ]
  },
  {
   "cell_type": "code",
   "execution_count": 28,
   "metadata": {},
   "outputs": [
    {
     "name": "stdout",
     "output_type": "stream",
     "text": [
      "0\n",
      "0\n",
      "0\n",
      "0 ------- \n",
      "0\n",
      "1\n",
      "1 ------- \n",
      "1\n",
      "3\n",
      "2 ------- \n",
      "3\n",
      "6\n",
      "3 ------- \n",
      "6\n",
      "10\n",
      "4 ------- \n",
      "10\n",
      "15\n",
      "5 ------- \n",
      "15\n",
      "21\n",
      "6 ------- \n",
      "21\n",
      "28\n",
      "7 ------- \n",
      "28\n",
      "36\n",
      "8 ------- \n",
      "36\n",
      "45\n",
      "9 ------- \n",
      "45\n",
      "____FIN_____\n"
     ]
    }
   ],
   "source": [
    "x=0\n",
    "#this is a variable with state - x is initialized with value =0 and then it is changed\n",
    "#within the loop to be 45 - permanently.\n",
    "print(x)\n",
    "for i in range(10):\n",
    "    print(x)\n",
    "    x=x+i\n",
    "    print(x)\n",
    "    print(str(i)+\" ------- \")\n",
    "print(x)\n",
    "print(\"____FIN_____\")"
   ]
  },
  {
   "cell_type": "code",
   "execution_count": 1,
   "metadata": {},
   "outputs": [
    {
     "name": "stdout",
     "output_type": "stream",
     "text": [
      "45\n",
      "45\n"
     ]
    }
   ],
   "source": [
    "# Re-write to make the above program using y instead of x and make\n",
    "# the program \"stateless\"\n",
    "#Built-in function sum takes list as argument and returns the\n",
    "# sum of the elements\n",
    "print(sum(list(range(10))))\n",
    "# the value is set once and never changed - you can think of this as\n",
    "# the following (but we are fudging functional programming a bit by printing the variable)\n",
    "x=sum(list(range(10)))\n",
    "print(x)"
   ]
  },
  {
   "cell_type": "markdown",
   "metadata": {},
   "source": [
    "### Return to \"SIDE EFFECTS\"\n",
    "* Functional programming avoids writing functions with side effects (remember \"side effects\"is another way of saying that the variable state is changed during the execution of the program. We don't want 'side effects' in functional programming!)\n",
    "\n",
    "* In the following example a list is used an argument and three more elements are added to it by using list extend method so it changes the value of the list that’s given as an argument--> That is a side effect!\n",
    "\n",
    "* Beneath it is a different solution to the same problem but without side effects.\n",
    "\n",
    "**Pure Functions** have no side-effects\n",
    "    * Easier to reason about what a program is doing\n",
    "    * Ensures program is more predictable\n",
    "    * Allows you to 'parallelize' the program\n",
    "\n",
    "* What’s the big deal about side-effects? \n",
    "       * If you have a function that calls other functions, if the variable is modified within functions **you have no idea what the value of the variable is at different points in your program! The program may not be doing what you believe it should be doing!\n",
    "        * A function should always return the same value if given the same input but when a function references variables other than its arguments then it breaks this rule because it will depend on the value of the other variables at the time the function is called"
   ]
  },
  {
   "cell_type": "code",
   "execution_count": 7,
   "metadata": {},
   "outputs": [
    {
     "name": "stdout",
     "output_type": "stream",
     "text": [
      "The initial list is set to be: ['Hello', 'Hola', 'Bonjour']\n",
      "my_function is now called and uses the initial list as an argument. What is the initial list after the loop? \n",
      "['Hello', 'Hola', 'Bonjour', 'a', 'b', 'c']\n",
      "*******\n",
      "We are back in the main body of the program. What is the intial list now? \n",
      "['Hello', 'Hola', 'Bonjour', 'a', 'b', 'c']\n",
      "The original list passed to the function has been permanently changed. D'oh!\n",
      "___FIN___\n"
     ]
    }
   ],
   "source": [
    "# Example WITH POTENTIAL SIDE EFFECTS:\n",
    "# this function permanently changes the list- from outside the function - that is \n",
    "# passed to it. That is a SIDE EFFECT. \n",
    "def my_function(i):\n",
    "    i.extend([\"a\",\"b\",\"c\"])\n",
    "    return(i)\n",
    "\n",
    "greetings_list=[\"Hello\",\"Hola\",\"Bonjour\"]\n",
    "print(\"The initial list is set to be: \"+str(greetings_list))\n",
    "print(\"my_function is now called and uses the initial list as an argument. What is the initial list after the loop? \")\n",
    "print(my_function(greetings_list))\n",
    "print(\"*******\")\n",
    "print(\"We are back in the main body of the program. What is the intial list now? \")\n",
    "print(greetings_list)\n",
    "print(\"The original list passed to the function has been permanently changed. D'oh!\")\n",
    "print(\"___FIN___\")"
   ]
  },
  {
   "cell_type": "code",
   "execution_count": 16,
   "metadata": {},
   "outputs": [
    {
     "name": "stdout",
     "output_type": "stream",
     "text": [
      "The initial list is set to be: ['Guten Tag', 'Namaste', 'Ciao']\n",
      "my_function is now called and uses the initial list as an argument. What is the initial list after the loop? \n",
      "['Guten Tag', 'Namaste', 'Ciao', 'D', 'E', 'F']\n",
      "*******\n",
      "We are back in the main body of the program. What is the intial list now? \n",
      "['Guten Tag', 'Namaste', 'Ciao']\n",
      "Great! No side effects! The original list is still intact. \n"
     ]
    }
   ],
   "source": [
    "# NOW WITHOUT SIDE EFFECTS! (different variable names though so it doesn't confuse anyone)\n",
    "# My_list is not changed outside of the function (as you can see by the print statements)\n",
    "def my_new_function(m):\n",
    "    #using the concatenate operator doesn't permanently change the list like extend \n",
    "    # does (remember this little difference?)\n",
    "    m=m+[\"D\",\"E\",\"F\"]\n",
    "    return m\n",
    "\n",
    "new_greetings_list=[\"Guten Tag\",\"Namaste\",\"Ciao\"]\n",
    "print(\"The initial list is set to be: \"+str(new_greetings_list))\n",
    "print(\"my_function is now called and uses the initial list as an argument.\\\n",
    " What is the initial list after the loop? \")\n",
    "print(my_new_function(new_greetings_list))\n",
    "print(\"*******\")\n",
    "print(\"We are back in the main body of the program. What is the intial list now? \")\n",
    "print(new_greetings_list)\n",
    "print(\"Great! No side effects! The original list is still intact. \")"
   ]
  },
  {
   "cell_type": "markdown",
   "metadata": {},
   "source": [
    "__________________________________________________________________________________________\n",
    "#### Anonymous Functions:  allows us to not bother defining a new function as long as the function conditions are given in a list comprehension\n",
    "* Use ‘lambda’ as a placeholder for the function definition\n",
    "* Useful for a small, quick function not a detailed function that you expect to use more than once or twice\n",
    "* In the cell below, we are passing the **lambda** function to ‘filter’. In this case, the lambda function is equivalent to the following approximate code:\n",
    "     \n",
    "         def by_three(x):\n",
    "             for i in range(10): \n",
    "                 if x % 3 == 0\n",
    "                     return  x"
   ]
  },
  {
   "cell_type": "code",
   "execution_count": 2,
   "metadata": {},
   "outputs": [
    {
     "name": "stdout",
     "output_type": "stream",
     "text": [
      "range(0, 10)\n",
      "[0, 3, 6, 9]\n"
     ]
    }
   ],
   "source": [
    "my_boring_list = list(range(10))\n",
    "\n",
    "#-------------------------------------------------\n",
    "# In Python 3, range evaluates simultaneously (not one item at a time as in earlier \n",
    "# versions of Python) and has its own type so you need to use the list() function \n",
    "# when passing in the higher order functions)\n",
    "#-------------------------------------------------\n",
    "# You can see that by unhashing the following code. Note: you can still\n",
    "# pass the results of the range() as an argument, but printing\n",
    "# to the screen won't work as expected without list\n",
    "#my_boring_list = range(10)\n",
    "print(my_boring_list)\n",
    "#what is this doing?\n",
    "print(list(filter(lambda x: x % 3 == 0, my_boring_list)))"
   ]
  },
  {
   "cell_type": "code",
   "execution_count": 30,
   "metadata": {},
   "outputs": [
    {
     "name": "stdout",
     "output_type": "stream",
     "text": [
      "[0, 3, 6, 9]\n"
     ]
    }
   ],
   "source": [
    "#here is the same code but in imperative coding\n",
    "def by_three(x):\n",
    "    for i in range(x): \n",
    "        if i%3==0:\n",
    "            only_threes.append(i)\n",
    "\n",
    "only_threes=[]\n",
    "by_three(10)\n",
    "print(only_threes)"
   ]
  },
  {
   "cell_type": "code",
   "execution_count": 2,
   "metadata": {},
   "outputs": [
    {
     "name": "stdout",
     "output_type": "stream",
     "text": [
      "[3, 5, 6, 9, 10, 12, 15]\n"
     ]
    }
   ],
   "source": [
    "# The names are pretty big hints, but can you tell what the following will print out? \n",
    "threes_and_fives=list(filter(lambda x: x%3==0 or x%5==0, range(1,16)))\n",
    "print(threes_and_fives)"
   ]
  },
  {
   "cell_type": "code",
   "execution_count": 2,
   "metadata": {},
   "outputs": [
    {
     "name": "stdout",
     "output_type": "stream",
     "text": [
      "[3, 5, 6, 9, 10, 12, 15]\n"
     ]
    }
   ],
   "source": [
    "#we could write a full loop to compare to the above cell: \n",
    "three_fives=[]\n",
    "print(three_fives)\n",
    "for i in range(1,16):\n",
    "    if i%3==0 or i%5==0:\n",
    "        three_fives.append(i)\n",
    "print(three_fives)"
   ]
  },
  {
   "cell_type": "markdown",
   "metadata": {},
   "source": [
    "### functions can be objects\n",
    "* We haven’t officially discussed objects yet (we will in Lecture_3F) (we have seen string objects, match objects, file objects etc)\n",
    "* VERY Briefly: functions can be thought of as discrete objects that can be passed around which means that they can be stored in variables, passed to other functions and returned from other functions as return values\n",
    "* Remember: if you have a function that calls other functions, if the variable is modified within functions, you have no idea what the value of the variable is at different points in your function!\n",
    "\n",
    "* Example of higher order function: \n",
    "    * a higher order function is one that takes another function as one of its arguments (it can take built-in functions or ones that you create yourself)\n",
    "\n",
    "What is the following program doing?\n",
    "--------------------------------------------------\n",
    "  <div class=\"alert alert-block alert-warning\">      \n",
    "       \n",
    "       def print_list_fun(my_list,my_function):         \n",
    "            for element in my_list:\n",
    "                print(my_function(element))\n"
   ]
  },
  {
   "cell_type": "code",
   "execution_count": 24,
   "metadata": {},
   "outputs": [
    {
     "name": "stdout",
     "output_type": "stream",
     "text": [
      "['Hello', 'Hola', 'Bonjour']\n",
      "~~~~~~~~~~~~~~~~~~~~\n",
      "['Hello', 'Hola', 'Bonjour', 'a', 'b', 'c']\n",
      "Drat! We have changed the original list: ['Hello', 'Hola', 'Bonjour', 'a', 'b', 'c']\n",
      "**********\n",
      "Hello\n",
      "********\n",
      "Hello\n",
      "e\n",
      "Hola\n",
      "********\n",
      "Hola\n",
      "o\n",
      "Bonjour\n",
      "********\n",
      "Bonjour\n",
      "o\n",
      "a\n",
      "********\n",
      "a\n",
      "there is no second element\n",
      "b\n",
      "********\n",
      "b\n",
      "there is no second element\n",
      "c\n",
      "********\n",
      "c\n",
      "there is no second element\n"
     ]
    }
   ],
   "source": [
    "def get_second(word):\n",
    "    print(word)\n",
    "    if len(word)>1:\n",
    "        return(word[1])\n",
    "    else:\n",
    "        return(\"there is no second element\")\n",
    "\n",
    "#def print_list_fun(my_list,get_second):\n",
    "def print_list_fun(my_list):\n",
    "    for element in my_list:\n",
    "        print(element)\n",
    "        print(\"********\")\n",
    "        print(get_second(element))\n",
    "\n",
    "def my_function(i):\n",
    "    i.extend([\"a\",\"b\",\"c\"])\n",
    "    return(i)\n",
    "\n",
    "my_list=[\"Hello\",\"Hola\",\"Bonjour\"]\n",
    "print(my_list)\n",
    "print(\"~\"*20)\n",
    "print(my_function(my_list))\n",
    "#we have altered my_list to include three additional elements\n",
    "print(\"Drat! We have changed the original list: \"+ str(my_list))\n",
    "print(\"**********\")\n",
    "print_list_fun(my_list)"
   ]
  },
  {
   "cell_type": "code",
   "execution_count": 29,
   "metadata": {},
   "outputs": [
    {
     "name": "stdout",
     "output_type": "stream",
     "text": [
      "['Hello', 'Hola', 'Bonjour']\n",
      "['Hello', 'Hola', 'Bonjour', 'a', 'b', 'c']\n",
      "['Hello', 'Hola', 'Bonjour', 'a', 'b', 'c']\n",
      "['Hello', 'Hola', 'Bonjour', 'a', 'b', 'c']\n",
      "I'm hanging out in this function, now!\n",
      "5\n",
      "4\n",
      "7\n",
      "1\n",
      "1\n",
      "1\n",
      "Done!\n"
     ]
    }
   ],
   "source": [
    "# a more straightforward example of what we were doing above that you can play with yourself\n",
    "def my_function(i):\n",
    "    #extended the list to include 3 more elements\n",
    "    i.extend([\"a\",\"b\",\"c\"])\n",
    "    return(i)\n",
    "\n",
    "def print_list_fun(my_list,len):# <-- BUILT IN FUNCTION LEN As argument\n",
    "    print(my_list)\n",
    "    print(\"I'm hanging out in this function, now!\")\n",
    "    for element in my_list:\n",
    "    #A SIMPLE USE OF BUILT IN FUNCTION LEN()\n",
    "        print(len(element))\n",
    "    return(\"Done!\")\n",
    "\n",
    "my_list=[\"Hello\",\"Hola\",\"Bonjour\"]\n",
    "print(my_list)\n",
    "print(my_function(my_list))\n",
    "print(my_list)\n",
    "#my_function seems to permanently modify my_list so that new longer list is passed to print_list_fun\n",
    "print(print_list_fun(my_list,len))\n",
    "#we are applying the len function to each element of this list"
   ]
  },
  {
   "cell_type": "code",
   "execution_count": 30,
   "metadata": {},
   "outputs": [
    {
     "name": "stdout",
     "output_type": "stream",
     "text": [
      "[4, 9, 3, 8]\n"
     ]
    }
   ],
   "source": [
    "#More biologically relevant example (but same principles!)\n",
    "# We will build on this example as we work through the lambda\n",
    "# and built in higher order functions\n",
    "dna_list=[\"TAGC\",\"ACGTATCGC\",\"ATG\",\"ACGGCTAG\"]\n",
    "lengths=[]\n",
    "for dna in dna_list:\n",
    "    lengths.append(len(dna))\n",
    "print(lengths)"
   ]
  },
  {
   "cell_type": "markdown",
   "metadata": {},
   "source": [
    "## LAMBDA EXPRESSIONS\n",
    "* special reserved word called lambda. It approximates \"return\".\n",
    "* Very short functions can be compacted into a single line (Like list comprehensions)\n",
    "* ALMOST ALWAYS USED WITH MAP,FILTER or REDUCE. In fact, if you try to use lambda without these other functions, you will get a pointer <-- in fact, with Python 3, you will get a pointer if you use these other functions but also don't use list() as shown in the next cell. \n",
    "--------------------------------------------------------------------------------------------------\n",
    "* For instance, this function: \n",
    "\n",
    "        def fun_lam_ex (x,y):\n",
    "\t\t\treturn x+y\n",
    "\n",
    "* could be replaced by the following: \n",
    "        fun_lam_ex=lambda x,y:x+y\t\t\n",
    "--------------------------------------------------------------------------------------------------  \n",
    " * **Anonymous Lambda functions** are not assigned to a variable (in the example above, the results of the lambda function are NOT anonymous\n"
   ]
  },
  {
   "cell_type": "code",
   "execution_count": 35,
   "metadata": {},
   "outputs": [
    {
     "name": "stdout",
     "output_type": "stream",
     "text": [
      "[0, 1, 2, 3, 4, 5, 6, 7, 8, 9, 10, 11, 12, 13, 14, 15]\n",
      "[0, 3, 6, 9, 12, 15]\n",
      "<filter object at 0x10b417550>\n"
     ]
    }
   ],
   "source": [
    "# Here is the list\n",
    "my_list = list(range(16))\n",
    "print(my_list)\n",
    "\n",
    "#here is the anonymous lambda function that prints out only numbers divisible by 3 from my_list\n",
    "print(list(filter(lambda x: x % 3 == 0, my_list)))\n",
    "\n",
    "# You need to use the list() in front of the higher level functions with Python 3.0+\n",
    "# if you fail to use list(), you will simply get a pointer\n",
    "print(filter(lambda x: x % 3 == 0, my_list))"
   ]
  },
  {
   "cell_type": "markdown",
   "metadata": {},
   "source": [
    "# Lecture_2Dii begins here!"
   ]
  },
  {
   "cell_type": "markdown",
   "metadata": {},
   "source": [
    "## Higher Order Functions\n",
    "* The following website will help you understand the higher order functions discussed here: https://www.python-course.eu/python3_lambda.php\n",
    "* It will likely help you a lot as you learn about lambda, map, filter and sort (which are challenging concepts). \n",
    "1. **Map**\n",
    "* Allows you to take a list and apply the same operation/function on all elements of the list resulting in the creation of a new list\n",
    "* **map(function, series)**\n",
    "* One-to-one ‘mapping’ between elements of old list and new list\n",
    "* We could do this with for loops as well but it is such a common procedure that python has a built in function \n",
    "    * Promotes encapsulation \n",
    "* A BIG difference btw python 2 and python 3 for this function <-- be careful!\n",
    "    * The map function sets up an empty list, iterates over original list and runs transformation function on each element\n",
    "    * Python 3 map function results in a map object which you can iterate over; python 2 results in a list where the entire list is created at once.\n",
    "**This is an important distinction because it means that the elements are generated AS NEEDED in python 3 - called “lazy” evaluation. So if we are dealing with a very large list, python 3 is more efficient.**\n",
    "\n",
    "Why are map and reduce better than loops?:\n",
    "\n",
    "* they are often one-liners. The important parts of the iteration - the collection, the operation and the return value - are always in the same places in every map and reduce.\n",
    "\n",
    "* The code in a loop may affect variables defined before it or code that runs after it. By convention, maps and reduces are functional.\n",
    "\n",
    "* map and reduce are elemental operations. Every time a person reads a for loop, they have to work through the logic line by line. There are few structural regularities they can use to create a scaffolding on which to hang their understanding of the code.\n",
    "\n",
    "* map and reduce have many friends that provide useful, tweaked versions of their basic behaviour. For example: filter (<--we'll discuss ) all, any and find (<--we won't discuss these ones)."
   ]
  },
  {
   "cell_type": "code",
   "execution_count": 2,
   "metadata": {},
   "outputs": [
    {
     "name": "stdout",
     "output_type": "stream",
     "text": [
      "[0, 1, 4, 9, 16]\n",
      "<map object at 0x103d48610>\n"
     ]
    }
   ],
   "source": [
    "# An example of the use of map function: \n",
    "squares = list(map(lambda x: x * x, [0, 1, 2, 3, 4]))\n",
    "#if you fail to use list()\n",
    "square_no_List=map(lambda x: x * x, [0, 1, 2, 3, 4])\n",
    "print(squares)\n",
    "print(square_no_List)"
   ]
  },
  {
   "cell_type": "code",
   "execution_count": 38,
   "metadata": {},
   "outputs": [
    {
     "name": "stdout",
     "output_type": "stream",
     "text": [
      "[4, 9, 3, 8]\n",
      "_____FIN_____\n"
     ]
    }
   ],
   "source": [
    "# Using a plain old vanilla for loop that takes nt sequences\n",
    "# and puts their length into a new list called lengths\n",
    "dna_list=[\"TAGC\",\"ACGTATCGC\",\"ATG\",\"ACGGCTAG\"]\n",
    "lengths=[]\n",
    "for dna in dna_list:\n",
    "    lengths.append(len(dna))\n",
    "print(lengths)\n",
    "print(\"_____FIN_____\")"
   ]
  },
  {
   "cell_type": "code",
   "execution_count": 39,
   "metadata": {},
   "outputs": [
    {
     "name": "stdout",
     "output_type": "stream",
     "text": [
      "[4, 9, 3, 8]\n",
      "----------\n",
      "[0.5, 0.44, 0.67, 0.38]\n",
      "[True, True, False, False]\n"
     ]
    }
   ],
   "source": [
    "# Here we have translated the above loop into functional python: \n",
    "dna_list_2=[\"TAGC\",\"ACGTATCGC\",\"ATG\",\"ACGGCTAG\"]\n",
    "lengths_2=list(map(len,dna_list_2))\n",
    "print(lengths_2)\n",
    "print(\"----------\")\n",
    "\n",
    "#If we wanted a user defined function instead of a built in\n",
    "# function like len, we could use a lambda function instead\n",
    "# defining the function. \n",
    "# Same thing but using a map function and a lambda function\n",
    "at_contents=list(map(lambda dna : round((dna.count(\"A\")+dna.count(\"T\"))/len(dna),2),dna_list_2))\n",
    "print(at_contents)\n",
    "\n",
    "#another example\n",
    "Is_terminal_C=list(map(lambda x: x.endswith(\"C\"),dna_list_2))\n",
    "print(Is_terminal_C)"
   ]
  },
  {
   "cell_type": "code",
   "execution_count": 33,
   "metadata": {},
   "outputs": [
    {
     "name": "stdout",
     "output_type": "stream",
     "text": [
      "[0, 1, 2, 3, 4, 5, 6, 7, 8, 9, 10, 11, 12, 13, 14, 15, 16, 17, 18, 19, 20, 21, 22, 23, 24, 25, 26, 27, 28, 29, 30, 31, 32, 33, 34, 35, 36, 37, 38, 39, 40, 41, 42, 43, 44, 45, 46, 47, 48, 49, 50, 51, 52, 53, 54, 55, 56, 57, 58, 59, 60, 61, 62, 63, 64, 65, 66, 67, 68, 69, 70, 71, 72, 73, 74, 75, 76, 77, 78, 79, 80, 81, 82, 83, 84, 85, 86, 87, 88, 89, 90, 91, 92, 93, 94, 95, 96, 97, 98, 99, 100, 101, 102, 103, 104, 105, 106, 107, 108, 109, 110, 111, 112, 113, 114, 115, 116, 117, 118, 119, 120, 121, 122, 123, 124, 125, 126, 127, 128, 129, 130, 131, 132, 133, 134, 135, 136, 137, 138, 139, 140, 141, 142, 143, 144, 145, 146, 147, 148, 149, 150, 151, 152, 153, 154, 155, 156, 157, 158, 159, 160, 161, 162, 163, 164, 165, 166, 167, 168, 169, 170, 171, 172, 173, 174, 175, 176, 177, 178, 179, 180, 181, 182, 183, 184, 185, 186, 187, 188, 189, 190, 191, 192, 193, 194, 195, 196, 197, 198, 199, 200, 201, 202, 203, 204, 205, 206, 207, 208, 209, 210, 211, 212, 213, 214, 215, 216, 217, 218, 219, 220, 221, 222, 223, 224, 225, 226, 227, 228, 229, 230, 231, 232, 233, 234, 235, 236, 237, 238, 239, 240, 241, 242, 243, 244, 245, 246, 247, 248, 249, 250, 251, 252, 253, 254, 255, 256, 257, 258, 259, 260, 261, 262, 263, 264, 265, 266, 267, 268, 269, 270, 271, 272, 273, 274, 275, 276, 277, 278, 279, 280, 281, 282, 283, 284, 285, 286, 287, 288, 289, 290, 291, 292, 293, 294, 295, 296, 297, 298, 299, 300, 301, 302, 303, 304, 305, 306, 307, 308, 309, 310, 311, 312, 313, 314, 315, 316, 317, 318, 319, 320, 321, 322, 323, 324, 325, 326, 327, 328, 329, 330, 331, 332, 333, 334, 335, 336, 337, 338, 339, 340, 341, 342, 343, 344, 345, 346, 347, 348, 349, 350, 351, 352, 353, 354, 355, 356, 357, 358, 359, 360, 361, 362, 363, 364, 365, 366, 367, 368, 369, 370, 371, 372, 373, 374, 375, 376, 377, 378, 379, 380, 381, 382, 383, 384, 385, 386, 387, 388, 389, 390, 391, 392, 393, 394, 395, 396, 397, 398, 399, 400, 401, 402, 403, 404, 405, 406, 407, 408, 409, 410, 411, 412, 413, 414, 415, 416, 417, 418, 419, 420, 421, 422, 423, 424, 425, 426, 427, 428, 429, 430, 431, 432, 433, 434, 435, 436, 437, 438, 439, 440, 441, 442, 443, 444, 445, 446, 447, 448, 449, 450, 451, 452, 453, 454, 455, 456, 457, 458, 459, 460, 461, 462, 463, 464, 465, 466, 467, 468, 469, 470, 471, 472, 473, 474, 475, 476, 477, 478, 479, 480, 481, 482, 483, 484, 485, 486, 487, 488, 489, 490, 491, 492, 493, 494, 495, 496, 497, 498, 499, 500, 501, 502, 503, 504, 505, 506, 507, 508, 509, 510, 511, 512, 513, 514, 515, 516, 517, 518, 519, 520, 521, 522, 523, 524, 525, 526, 527, 528, 529, 530, 531, 532, 533, 534, 535, 536, 537, 538, 539, 540, 541, 542, 543, 544, 545, 546, 547, 548, 549, 550, 551, 552, 553, 554, 555, 556, 557, 558, 559, 560, 561, 562, 563, 564, 565, 566, 567, 568, 569, 570, 571, 572, 573, 574, 575, 576, 577, 578, 579, 580, 581, 582, 583, 584, 585, 586, 587, 588, 589, 590, 591, 592, 593, 594, 595, 596, 597, 598, 599, 600, 601, 602, 603, 604, 605, 606, 607, 608, 609, 610, 611, 612, 613, 614, 615, 616, 617, 618, 619, 620, 621, 622, 623, 624, 625, 626, 627, 628, 629, 630, 631, 632, 633, 634, 635, 636, 637, 638, 639, 640, 641, 642, 643, 644, 645, 646, 647, 648, 649, 650, 651, 652, 653, 654, 655, 656, 657, 658, 659, 660, 661, 662, 663, 664, 665, 666, 667, 668, 669, 670, 671, 672, 673, 674, 675, 676, 677, 678, 679, 680, 681, 682, 683, 684, 685, 686, 687, 688, 689, 690, 691, 692, 693, 694, 695, 696, 697, 698, 699, 700, 701, 702, 703, 704, 705, 706, 707, 708, 709, 710, 711, 712, 713, 714, 715, 716, 717, 718, 719, 720, 721, 722, 723, 724, 725, 726, 727, 728, 729, 730, 731, 732, 733, 734, 735, 736, 737, 738, 739, 740, 741, 742, 743, 744, 745, 746, 747, 748, 749, 750, 751, 752, 753, 754, 755, 756, 757, 758, 759, 760, 761, 762, 763, 764, 765, 766, 767, 768, 769, 770, 771, 772, 773, 774, 775, 776, 777, 778, 779, 780, 781, 782, 783, 784, 785, 786, 787, 788, 789, 790, 791, 792, 793, 794, 795, 796, 797, 798, 799, 800, 801, 802, 803, 804, 805, 806, 807, 808, 809, 810, 811, 812, 813, 814, 815, 816, 817, 818, 819, 820, 821, 822, 823, 824, 825, 826, 827, 828, 829, 830, 831, 832, 833, 834, 835, 836, 837, 838, 839, 840, 841, 842, 843, 844, 845, 846, 847, 848, 849, 850, 851, 852, 853, 854, 855, 856, 857, 858, 859, 860, 861, 862, 863, 864, 865, 866, 867, 868, 869, 870, 871, 872, 873, 874, 875, 876, 877, 878, 879, 880, 881, 882, 883, 884, 885, 886, 887, 888, 889, 890, 891, 892, 893, 894, 895, 896, 897, 898, 899, 900, 901, 902, 903, 904, 905, 906, 907, 908, 909, 910, 911, 912, 913, 914, 915, 916, 917, 918, 919, 920, 921, 922, 923, 924, 925, 926, 927, 928, 929, 930, 931, 932, 933, 934, 935, 936, 937, 938, 939, 940, 941, 942, 943, 944, 945, 946, 947, 948, 949, 950, 951, 952, 953, 954, 955, 956, 957, 958, 959, 960, 961, 962, 963, 964, 965, 966, 967, 968, 969, 970, 971, 972, 973, 974, 975, 976, 977, 978, 979, 980, 981, 982, 983, 984, 985, 986, 987, 988, 989, 990, 991, 992, 993, 994, 995, 996, 997, 998, 999]\n",
      "[0, 1, 4, 9, 16, 25, 36, 49, 64, 81, 100, 121, 144, 169, 196, 225, 256, 289, 324, 361, 400, 441, 484, 529, 576, 625, 676, 729, 784, 841, 900, 961, 1024, 1089, 1156, 1225, 1296, 1369, 1444, 1521, 1600, 1681, 1764, 1849, 1936, 2025, 2116, 2209, 2304, 2401, 2500, 2601, 2704, 2809, 2916, 3025, 3136, 3249, 3364, 3481, 3600, 3721, 3844, 3969, 4096, 4225, 4356, 4489, 4624, 4761, 4900, 5041, 5184, 5329, 5476, 5625, 5776, 5929, 6084, 6241, 6400, 6561, 6724, 6889, 7056, 7225, 7396, 7569, 7744, 7921, 8100, 8281, 8464, 8649, 8836, 9025, 9216, 9409, 9604, 9801, 10000, 10201, 10404, 10609, 10816, 11025, 11236, 11449, 11664, 11881, 12100, 12321, 12544, 12769, 12996, 13225, 13456, 13689, 13924, 14161, 14400, 14641, 14884, 15129, 15376, 15625, 15876, 16129, 16384, 16641, 16900, 17161, 17424, 17689, 17956, 18225, 18496, 18769, 19044, 19321, 19600, 19881, 20164, 20449, 20736, 21025, 21316, 21609, 21904, 22201, 22500, 22801, 23104, 23409, 23716, 24025, 24336, 24649, 24964, 25281, 25600, 25921, 26244, 26569, 26896, 27225, 27556, 27889, 28224, 28561, 28900, 29241, 29584, 29929, 30276, 30625, 30976, 31329, 31684, 32041, 32400, 32761, 33124, 33489, 33856, 34225, 34596, 34969, 35344, 35721, 36100, 36481, 36864, 37249, 37636, 38025, 38416, 38809, 39204, 39601, 40000, 40401, 40804, 41209, 41616, 42025, 42436, 42849, 43264, 43681, 44100, 44521, 44944, 45369, 45796, 46225, 46656, 47089, 47524, 47961, 48400, 48841, 49284, 49729, 50176, 50625, 51076, 51529, 51984, 52441, 52900, 53361, 53824, 54289, 54756, 55225, 55696, 56169, 56644, 57121, 57600, 58081, 58564, 59049, 59536, 60025, 60516, 61009, 61504, 62001, 62500, 63001, 63504, 64009, 64516, 65025, 65536, 66049, 66564, 67081, 67600, 68121, 68644, 69169, 69696, 70225, 70756, 71289, 71824, 72361, 72900, 73441, 73984, 74529, 75076, 75625, 76176, 76729, 77284, 77841, 78400, 78961, 79524, 80089, 80656, 81225, 81796, 82369, 82944, 83521, 84100, 84681, 85264, 85849, 86436, 87025, 87616, 88209, 88804, 89401, 90000, 90601, 91204, 91809, 92416, 93025, 93636, 94249, 94864, 95481, 96100, 96721, 97344, 97969, 98596, 99225, 99856, 100489, 101124, 101761, 102400, 103041, 103684, 104329, 104976, 105625, 106276, 106929, 107584, 108241, 108900, 109561, 110224, 110889, 111556, 112225, 112896, 113569, 114244, 114921, 115600, 116281, 116964, 117649, 118336, 119025, 119716, 120409, 121104, 121801, 122500, 123201, 123904, 124609, 125316, 126025, 126736, 127449, 128164, 128881, 129600, 130321, 131044, 131769, 132496, 133225, 133956, 134689, 135424, 136161, 136900, 137641, 138384, 139129, 139876, 140625, 141376, 142129, 142884, 143641, 144400, 145161, 145924, 146689, 147456, 148225, 148996, 149769, 150544, 151321, 152100, 152881, 153664, 154449, 155236, 156025, 156816, 157609, 158404, 159201, 160000, 160801, 161604, 162409, 163216, 164025, 164836, 165649, 166464, 167281, 168100, 168921, 169744, 170569, 171396, 172225, 173056, 173889, 174724, 175561, 176400, 177241, 178084, 178929, 179776, 180625, 181476, 182329, 183184, 184041, 184900, 185761, 186624, 187489, 188356, 189225, 190096, 190969, 191844, 192721, 193600, 194481, 195364, 196249, 197136, 198025, 198916, 199809, 200704, 201601, 202500, 203401, 204304, 205209, 206116, 207025, 207936, 208849, 209764, 210681, 211600, 212521, 213444, 214369, 215296, 216225, 217156, 218089, 219024, 219961, 220900, 221841, 222784, 223729, 224676, 225625, 226576, 227529, 228484, 229441, 230400, 231361, 232324, 233289, 234256, 235225, 236196, 237169, 238144, 239121, 240100, 241081, 242064, 243049, 244036, 245025, 246016, 247009, 248004, 249001, 250000, 251001, 252004, 253009, 254016, 255025, 256036, 257049, 258064, 259081, 260100, 261121, 262144, 263169, 264196, 265225, 266256, 267289, 268324, 269361, 270400, 271441, 272484, 273529, 274576, 275625, 276676, 277729, 278784, 279841, 280900, 281961, 283024, 284089, 285156, 286225, 287296, 288369, 289444, 290521, 291600, 292681, 293764, 294849, 295936, 297025, 298116, 299209, 300304, 301401, 302500, 303601, 304704, 305809, 306916, 308025, 309136, 310249, 311364, 312481, 313600, 314721, 315844, 316969, 318096, 319225, 320356, 321489, 322624, 323761, 324900, 326041, 327184, 328329, 329476, 330625, 331776, 332929, 334084, 335241, 336400, 337561, 338724, 339889, 341056, 342225, 343396, 344569, 345744, 346921, 348100, 349281, 350464, 351649, 352836, 354025, 355216, 356409, 357604, 358801, 360000, 361201, 362404, 363609, 364816, 366025, 367236, 368449, 369664, 370881, 372100, 373321, 374544, 375769, 376996, 378225, 379456, 380689, 381924, 383161, 384400, 385641, 386884, 388129, 389376, 390625, 391876, 393129, 394384, 395641, 396900, 398161, 399424, 400689, 401956, 403225, 404496, 405769, 407044, 408321, 409600, 410881, 412164, 413449, 414736, 416025, 417316, 418609, 419904, 421201, 422500, 423801, 425104, 426409, 427716, 429025, 430336, 431649, 432964, 434281, 435600, 436921, 438244, 439569, 440896, 442225, 443556, 444889, 446224, 447561, 448900, 450241, 451584, 452929, 454276, 455625, 456976, 458329, 459684, 461041, 462400, 463761, 465124, 466489, 467856, 469225, 470596, 471969, 473344, 474721, 476100, 477481, 478864, 480249, 481636, 483025, 484416, 485809, 487204, 488601, 490000, 491401, 492804, 494209, 495616, 497025, 498436, 499849, 501264, 502681, 504100, 505521, 506944, 508369, 509796, 511225, 512656, 514089, 515524, 516961, 518400, 519841, 521284, 522729, 524176, 525625, 527076, 528529, 529984, 531441, 532900, 534361, 535824, 537289, 538756, 540225, 541696, 543169, 544644, 546121, 547600, 549081, 550564, 552049, 553536, 555025, 556516, 558009, 559504, 561001, 562500, 564001, 565504, 567009, 568516, 570025, 571536, 573049, 574564, 576081, 577600, 579121, 580644, 582169, 583696, 585225, 586756, 588289, 589824, 591361, 592900, 594441, 595984, 597529, 599076, 600625, 602176, 603729, 605284, 606841, 608400, 609961, 611524, 613089, 614656, 616225, 617796, 619369, 620944, 622521, 624100, 625681, 627264, 628849, 630436, 632025, 633616, 635209, 636804, 638401, 640000, 641601, 643204, 644809, 646416, 648025, 649636, 651249, 652864, 654481, 656100, 657721, 659344, 660969, 662596, 664225, 665856, 667489, 669124, 670761, 672400, 674041, 675684, 677329, 678976, 680625, 682276, 683929, 685584, 687241, 688900, 690561, 692224, 693889, 695556, 697225, 698896, 700569, 702244, 703921, 705600, 707281, 708964, 710649, 712336, 714025, 715716, 717409, 719104, 720801, 722500, 724201, 725904, 727609, 729316, 731025, 732736, 734449, 736164, 737881, 739600, 741321, 743044, 744769, 746496, 748225, 749956, 751689, 753424, 755161, 756900, 758641, 760384, 762129, 763876, 765625, 767376, 769129, 770884, 772641, 774400, 776161, 777924, 779689, 781456, 783225, 784996, 786769, 788544, 790321, 792100, 793881, 795664, 797449, 799236, 801025, 802816, 804609, 806404, 808201, 810000, 811801, 813604, 815409, 817216, 819025, 820836, 822649, 824464, 826281, 828100, 829921, 831744, 833569, 835396, 837225, 839056, 840889, 842724, 844561, 846400, 848241, 850084, 851929, 853776, 855625, 857476, 859329, 861184, 863041, 864900, 866761, 868624, 870489, 872356, 874225, 876096, 877969, 879844, 881721, 883600, 885481, 887364, 889249, 891136, 893025, 894916, 896809, 898704, 900601, 902500, 904401, 906304, 908209, 910116, 912025, 913936, 915849, 917764, 919681, 921600, 923521, 925444, 927369, 929296, 931225, 933156, 935089, 937024, 938961, 940900, 942841, 944784, 946729, 948676, 950625, 952576, 954529, 956484, 958441, 960400, 962361, 964324, 966289, 968256, 970225, 972196, 974169, 976144, 978121, 980100, 982081, 984064, 986049, 988036, 990025, 992016, 994009, 996004, 998001]\n",
      "CPU times: user 2.55 ms, sys: 402 µs, total: 2.96 ms\n",
      "Wall time: 4.7 ms\n"
     ]
    }
   ],
   "source": [
    "%%time\n",
    "#One last example to discuss. This example SHOULD SHOW THE DIFFERENCE BETWEEN PYTHON 2 \n",
    "# AND PYTHON 3 \n",
    "#l=list(range(100000))\n",
    "l=list(range(1000))\n",
    "print(l)\n",
    "# In Python 2, this is too big and will take too long because in Python 2, the entire list\n",
    "# created simultaneously. \n",
    "# but python 3 is 'lazy' - it doesn't read all elements in at the \n",
    "# same time so a really looooooong list SHOULD still be easily parsed. \n",
    "# However, in our case jupyter is the limiting factor. \n",
    "m=list(map(lambda x:x**2,l))\n",
    "print(m)"
   ]
  },
  {
   "cell_type": "markdown",
   "metadata": {},
   "source": [
    "2. Filter\n",
    "    * __we have a list from which we want to select only elements that satisfy a particular condition__\n",
    "    * once again, we could do this through a for loop (1st example in next cell) or with the higher order function, filter\n"
   ]
  },
  {
   "cell_type": "code",
   "execution_count": 42,
   "metadata": {},
   "outputs": [
    {
     "name": "stdout",
     "output_type": "stream",
     "text": [
      "{'gene': 'foxp2', 'length': 2145}\n",
      "------\n",
      "*******\n",
      "2145\n",
      "1\n",
      "{'gene': 'EDAR', 'length': 1344}\n",
      "------\n",
      "*******\n",
      "1344\n",
      "2\n",
      "{'gene': 'BRCA1'}\n",
      "------\n",
      "1744.5\n"
     ]
    }
   ],
   "source": [
    "# OOOOOH! This combines a bunch of stuff that we have been investigating lately.\n",
    "# a list of anonymous dictionaries. \n",
    "human_genes = [{'gene': 'foxp2', 'length': 2145},{'gene': 'EDAR', 'length': 1344},{'gene': 'BRCA1'}]\n",
    "\n",
    "length_total = 0\n",
    "length_count = 0\n",
    "for gene in human_genes:\n",
    "    print(gene)\n",
    "    print(\"------\")\n",
    "    if 'length' in gene:\n",
    "        print(\"*******\")\n",
    "        print(gene['length'])\n",
    "        length_total += gene['length']\n",
    "        length_count += 1\n",
    "        print(length_count)\n",
    "\n",
    "if length_count > 0:\n",
    "    average_length = length_total / length_count\n",
    "\n",
    "    print(average_length)\n",
    " "
   ]
  },
  {
   "cell_type": "code",
   "execution_count": 41,
   "metadata": {},
   "outputs": [
    {
     "name": "stdout",
     "output_type": "stream",
     "text": [
      "**********\n",
      "[2145, 1344]\n",
      "~~~~~~~~~~\n",
      "1744.5\n"
     ]
    }
   ],
   "source": [
    "# Now we can re-write this with functional programming\n",
    "# This is a challenging way of thinking. It takes a lot of \n",
    "# practice hours to make it stick in your brain...\n",
    "# or at least in mine...YMMV. \n",
    "\n",
    "# ------------------\n",
    "# We will use the reduce function - we'll see it later - for now, we need to import it\n",
    "# ------------------\n",
    "\n",
    "from functools import reduce\n",
    "\n",
    "def add(x,y):\n",
    "    return x+y\n",
    "\n",
    "human_genes = [{'gene': 'foxp2', 'length': 2145},{'gene': 'EDAR', 'length': 1344},{'gene': 'BRCA1'}]\n",
    "\n",
    "#what are we actually doing in this code?\n",
    "# Take some time to think about what is happening here!\n",
    "#syntax of map is: map(function, list)\n",
    "lengths = list(map(lambda x: x['length'],filter(lambda x: 'length' in x, human_genes)))\n",
    "print(\"**********\")\n",
    "print(lengths)\n",
    "print(\"~~~~~~~~~~\")\n",
    "if len(lengths) > 0:\n",
    "    average_length = reduce(add, lengths)/len(lengths)\n",
    "    print(average_length)"
   ]
  },
  {
   "cell_type": "code",
   "execution_count": 5,
   "metadata": {},
   "outputs": [
    {
     "name": "stdout",
     "output_type": "stream",
     "text": [
      "['ACGTATCGC', 'ACGGCTAG']\n",
      "__FIN__\n"
     ]
    }
   ],
   "source": [
    "# For loop way: \n",
    "dna_list=[\"TAGC\",\"ACGTATCGC\",\"ATG\",\"ACGGCTAG\"]\n",
    "long_dna=[]\n",
    "for dna in dna_list:\n",
    "    if len(dna) >5:\n",
    "        long_dna.append(dna)\n",
    "        \n",
    "print(long_dna)\n",
    "print(\"__FIN__\")"
   ]
  },
  {
   "cell_type": "code",
   "execution_count": 34,
   "metadata": {},
   "outputs": [
    {
     "name": "stdout",
     "output_type": "stream",
     "text": [
      "['ACGTATCGC', 'ACGGCTAG']\n",
      "['TAGC', 'ACGTATCGC', 'ATG', 'ACGGCTAG']\n",
      "__FIN__\n"
     ]
    }
   ],
   "source": [
    "#\"Now with the mighty FILTER function\"\n",
    "#even more efficient way of handling this code is the following\n",
    "def is_long(dna):\n",
    "    return len(dna)>5\n",
    "\n",
    "dna_list_2=[\"TAGC\",\"ACGTATCGC\",\"ATG\",\"ACGGCTAG\"]\n",
    "\n",
    "long_dna_2=list(filter(is_long,dna_list_2))\n",
    "\n",
    "print(long_dna_2)\n",
    "#this hasn't changed the original list - see? We can print it out!\n",
    "print(dna_list_2)\n",
    "print(\"__FIN__\")"
   ]
  },
  {
   "cell_type": "markdown",
   "metadata": {},
   "source": [
    "3. sorted\n",
    "    * The most complicated of the higher order functions\n",
    "    * Note that it is a different function than the sort method (which can only be used by lists)\n",
    "    * We supply sorted function with another function that tells python the property of each element that we want to sort on\n",
    "    * Doesn’t change the original list\n",
    "    * Can use any kind of custom ordering\n",
    "        * need to use key= something. The key function manages the sort; it must take a single argument and return the value that we want to sort on (in the second example in the cell below, key=len which means that the criteria for the sort is ths length of the sequence. In the first example, no key is specified so it will use the default value of alphabetical or ascending)\n",
    "        * you can also combine previous ideas that we have used - such as regular expressions - in a sorted call. "
   ]
  },
  {
   "cell_type": "code",
   "execution_count": 4,
   "metadata": {},
   "outputs": [
    {
     "name": "stdout",
     "output_type": "stream",
     "text": [
      "['ACGGCTAG', 'ACGTATCGC', 'ATG', 'TAGC']\n",
      "sorted doesn't change the original list: \n",
      "['TAGC', 'ACGTATCGC', 'ATG', 'ACGGCTAG']\n",
      "__FIN__\n"
     ]
    }
   ],
   "source": [
    "# basic sorted example with just the built in criteria\n",
    "dna_list_sorted=[\"TAGC\",\"ACGTATCGC\",\"ATG\",\"ACGGCTAG\"]\n",
    "# without an explicit order given, it will sort sequences alphabetically and numbers in ascending order\n",
    "#sorted takes an iterable as the first argument and can take a key function but here we just see an iterable\n",
    "#in this case, a list\n",
    "sorted_dna=sorted(dna_list_sorted)\n",
    "print(sorted_dna)\n",
    "print(\"sorted doesn't change the original list: \") \n",
    "print(dna_list_sorted)\n",
    "print(\"__FIN__\")"
   ]
  },
  {
   "cell_type": "code",
   "execution_count": 36,
   "metadata": {},
   "outputs": [
    {
     "name": "stdout",
     "output_type": "stream",
     "text": [
      "A more complicated example of sorting sequences by length instead of the default of alphabetical \n",
      "['ATG', 'TAGC', 'ACGGCTAG', 'ACGTATCGC']\n"
     ]
    }
   ],
   "source": [
    "print(\"A more complicated example of sorting sequences by length instead of the default of alphabetical \")\n",
    "dna_list_sorted_2=[\"TAGC\",\"ACGTATCGC\",\"ATG\",\"ACGGCTAG\"]\n",
    "# we are still providing an iterable as the first argument but a built-in KEY FUNCTION, len, as the sort criteria\n",
    "sorted_dna=sorted(dna_list_sorted_2, key=len) \n",
    "print(sorted_dna)"
   ]
  },
  {
   "cell_type": "code",
   "execution_count": 37,
   "metadata": {},
   "outputs": [
    {
     "name": "stdout",
     "output_type": "stream",
     "text": [
      "We can also reverse the sort\n",
      "['ACGTATCGC', 'ACGGCTAG', 'TAGC', 'ATG']\n",
      "Here is the sorted list: \n",
      "['ATG', 'TAGC', 'ACGGCTAG', 'ACGTATCGC']\n",
      "Here is the above criteria reversed\n",
      "['ACGTATCGC', 'ACGGCTAG', 'TAGC', 'ATG']\n",
      "****FIN 2****\n"
     ]
    }
   ],
   "source": [
    "print(\"We can also reverse the sort\")\n",
    "dna_list_sorted_2b=[\"TAGC\",\"ACGTATCGC\",\"ATG\",\"ACGGCTAG\"]\n",
    "sorted_dna_2b=sorted(dna_list_sorted_2b, key=len, reverse=True)\n",
    "print(sorted_dna_2b)\n",
    "print(\"Here is the sorted list: \")\n",
    "print(sorted_dna)\n",
    "print(\"Here is the above criteria reversed\")\n",
    "print(sorted_dna_2b)\n",
    "print(\"****FIN 2****\")"
   ]
  },
  {
   "cell_type": "code",
   "execution_count": 41,
   "metadata": {},
   "outputs": [
    {
     "name": "stdout",
     "output_type": "stream",
     "text": [
      "['AATG', 'GTAGCA', 'ACGGCTAGAA', 'CCGTATCGCAAAA']\n",
      "___FIN3___\n"
     ]
    }
   ],
   "source": [
    "#What about the following code? What does it do? What are we searching for in this case? \n",
    "import re\n",
    "def poly_a_length(dna):\n",
    "    poly_a_match=re.search(r\"A+$\",dna)\n",
    "    if poly_a_match:\n",
    "        a_len=len(poly_a_match.group())\n",
    "        return a_len\n",
    "    else:\n",
    "        return 0\n",
    "\n",
    "another_dna_list=[\"GTAGCA\",\"CCGTATCGCAAAA\",\"AATG\",\"ACGGCTAGAA\"]\n",
    "# -------------------------------------------\n",
    "# We can sort based on a function that we create ourselves\n",
    "# instead of relying on built-in functions\n",
    "# -------------------------------------------\n",
    "print(sorted(another_dna_list,key=poly_a_length))\n",
    "print(\"___FIN3___\")"
   ]
  },
  {
   "cell_type": "code",
   "execution_count": 42,
   "metadata": {},
   "outputs": [
    {
     "name": "stdout",
     "output_type": "stream",
     "text": [
      "['ACGGTACG', 'TAGC', 'ACGTATCG', 'ATG']\n"
     ]
    }
   ],
   "source": [
    "# What are we doing here with this sort? \n",
    "def get_cg(dna):\n",
    "    return (dna.count(\"G\")+dna.count(\"C\"))/len(dna)\n",
    "\n",
    "dna_list_4=[\"TAGC\", \"ACGTATCG\", \"ATG\", \"ACGGTACG\"]\n",
    "sorted_dna=sorted(dna_list_4,key=get_cg)\n",
    "print(sorted_dna)"
   ]
  },
  {
   "cell_type": "markdown",
   "metadata": {},
   "source": [
    "4. reduce\n",
    "    * As of this course in Python 3, you will need to import a module called 'functools' in order to use the reduce function. \n",
    "    * takes two arguments (function, list) and it uses the function to reduce the list to a single value\n",
    "    * example:\n",
    "            * What is happening? Reduce calls multiply using 2 and 6 as arguments to get 12. then it takes 3 and 12 as arguments to get 36 and then it will take 36 and 8 etc. \n",
    "            * Last common ancestor and phylogenies might use this strategy. \n",
    "--------------------------------------------------\n",
    "<div class=\"alert alert-block alert-warning\">  \n",
    "    \n",
    "    from functools import reduce\n",
    "    def multiply(x,y):\n",
    "        \n",
    "        return x*y\n",
    "\t\n",
    "    numbers=[2,6,3,8,5,4]\n",
    "    \n",
    "    print(reduce(multiply, numbers))\n"
   ]
  },
  {
   "cell_type": "code",
   "execution_count": 9,
   "metadata": {},
   "outputs": [
    {
     "name": "stdout",
     "output_type": "stream",
     "text": [
      "--------\n",
      "5760\n"
     ]
    }
   ],
   "source": [
    "from functools import reduce\n",
    "def multiply(x,y):\n",
    "    return x*y\n",
    "\n",
    "numbers=[2,6,3,8,5,4]\n",
    "print(\"--------\")\n",
    "print(reduce(multiply,numbers))"
   ]
  },
  {
   "cell_type": "markdown",
   "metadata": {},
   "source": [
    "### We can mix-in-match our higher order functions and throw in some anonymous lambda function as wel. "
   ]
  },
  {
   "cell_type": "code",
   "execution_count": 6,
   "metadata": {},
   "outputs": [
    {
     "name": "stdout",
     "output_type": "stream",
     "text": [
      "[(4, 8766, 'gene 3'), (4, 9200, 'gene 1'), (6, 63788, 'gene 2')]\n",
      "__FIN1__\n",
      "['A', 'B', 'C', 'D', 'E', 'F']\n",
      "NOW SECOND\n",
      "['A', 'B']\n",
      "['A', 'C', 'A']\n"
     ]
    }
   ],
   "source": [
    "# In this example, we have a tuple with chromosome number, position of gene and gene name. \n",
    "# This script applies two rounds of sorting\n",
    "# 1. Chromosome number\n",
    "# 2. Within each chromosome the base position \n",
    "\n",
    "Loci=[(4,9200,\"gene 1\"),(6,63788,\"gene 2\"),(4,8766,\"gene 3\")]\n",
    "def get_chromosome(locus):\n",
    "    return locus[0]\n",
    "def get_base_position(locus):\n",
    "    return locus[1]\n",
    "\n",
    "sorted_by_base=sorted(Loci,key =get_base_position)\n",
    "\n",
    "final_sort=sorted(sorted_by_base,key =get_chromosome)\n",
    "print(final_sort)\n",
    "print(\"__FIN1__\")\n",
    "\n",
    "#you can combine anonymous lambda functions with higher order functions\n",
    "# Use map to process characters in a string and then pass the resulting\n",
    "# iterable object straight to filter\n",
    "\n",
    "first=list(map(lambda x:x.upper(),\"abcdef\"))\n",
    "Second=list(filter(lambda x:x in [\"A\",\"B\"],first))\n",
    "print(first)\n",
    "print(\"NOW SECOND\")\n",
    "print(Second)\n",
    "\n",
    "result= list(filter(lambda x:x in [\"C\",\"A\"],map(lambda x:x.upper(),\"atgcag\")))\n",
    "print(result)\n"
   ]
  },
  {
   "cell_type": "markdown",
   "metadata": {},
   "source": [
    "### Function Factories\n",
    "* \tHow to write higher order functions\n",
    "* __Example:__ \n",
    "\n",
    "* We want to write a script that creates a list of overlapping 4-mers for a DNA sequence\n",
    "--------------------------------------------------\n",
    "    def get_4mers(dna):\n",
    "\t\t4mers=[]\n",
    "\t\tfor i in range(len(dna)-1):\n",
    "\t\t\t\t4mers.append(dna[i:i+4])\n",
    "\t\treturn 4mers\t\n",
    "--------------------------------------------------\n",
    "\n",
    "\n",
    "* Now for 6-mers: \n",
    "--------------------------------------------------\n",
    "    def get_6mers(dna):\n",
    "\t\t6mers=[]\n",
    "\t\tfor i in range(len(dna)-1):\n",
    "\t\t\t\t6mers.append(dna[i:i+6])\n",
    "\t\treturn 6mers\t\n",
    "\n",
    "\n",
    "* Abstract it out to get a flexible function that can have any size mer specified by the user:   \n",
    "--------------------------------------------------\n",
    "    def get_kmers(dna,k):\n",
    "\t\tkmers=[]\n",
    "\t\tfor i in range(len(dna)-k+1):\n",
    "\t\t\t\tkmers.append(dna[i:i+k])\n",
    "\t\treturn kmers\t\n",
    "\n"
   ]
  },
  {
   "cell_type": "code",
   "execution_count": null,
   "metadata": {},
   "outputs": [],
   "source": []
  }
 ],
 "metadata": {
  "kernelspec": {
   "display_name": "Python 3",
   "language": "python",
   "name": "python3"
  },
  "language_info": {
   "codemirror_mode": {
    "name": "ipython",
    "version": 3
   },
   "file_extension": ".py",
   "mimetype": "text/x-python",
   "name": "python",
   "nbconvert_exporter": "python",
   "pygments_lexer": "ipython3",
   "version": "3.7.4"
  }
 },
 "nbformat": 4,
 "nbformat_minor": 2
}
