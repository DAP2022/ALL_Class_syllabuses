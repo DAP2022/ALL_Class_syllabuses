{
 "cells": [
  {
   "cell_type": "markdown",
   "metadata": {},
   "source": [
    "### Summary\n",
    "\n",
    "* Procedural programming (so does OOP) has an emphasis on bundling repeatable 'chunks' together in: \n",
    "\n",
    "    A. for loops\n",
    "    \n",
    "    B. Functions\n",
    "    \n",
    "    C. Modules (eventually, when too large, external libraries/packages)\n",
    "\n",
    "* also saw de-bugging methods: \n",
    "\n",
    "    A. print statements\n",
    "    \n",
    "    B. commenting your code\n",
    "    \n",
    "    C. googling exceptions that are raised\n",
    "    \n",
    "    D. assert statements to ensure that a function is giving expected output\n",
    "    \n",
    "   (E. try/except loops) <-- we didn't see this but I mentioned it and we'll see it when we encounter while loops in Lecture_2Eii\n",
    "   \n",
    "   (F. raise command - we won't discuss this but you can also use the 'raise' command to raise an exception.) "
   ]
  },
  {
   "cell_type": "markdown",
   "metadata": {},
   "source": [
    "# Control Statements\n",
    "* As a reminder that everyone always needs at this point in the course: Comment your code! Here is an excellent illustration of commenting your code: https://xkcd.com/2200/\n",
    "\n",
    "* We sometimes want our code to ‘make decisions’ based on user input etc.\n",
    "\n",
    "1. We can use Conditional Statements!\n",
    "    * __If/elif/else__\n",
    "    \n",
    "2. Boolean operators!\n",
    "    * Not, And, Or\n",
    "    \n",
    "3. Comparators!\n",
    "    * True or False (Boolean)\n",
    "    * ==, !=, <, >, <=, >="
   ]
  },
  {
   "cell_type": "markdown",
   "metadata": {},
   "source": [
    "<div>\n",
    "<img src=\"Conditional_flow_chart.jpg\" width=\"450\"/>\n",
    "</div>"
   ]
  },
  {
   "cell_type": "markdown",
   "metadata": {},
   "source": [
    "<div>\n",
    "<img src=\"attachment:Conditional_flow_chart.jpg\" width=\"500\"/>\n",
    "</div>"
   ]
  },
  {
   "cell_type": "code",
   "execution_count": 17,
   "metadata": {},
   "outputs": [
    {
     "name": "stdout",
     "output_type": "stream",
     "text": [
      "1933\n",
      "__________________\n",
      "I don't know where you want to go! But assuming no plane ticket, \n",
      "This costs: $  880\n"
     ]
    }
   ],
   "source": [
    "# how much will a vacation cost us? \n",
    "# this cell reminds you how we define functions AND demonstrates \n",
    "# decision making and flow control!\n",
    "def hotel_cost(days):\n",
    "    return 140*days\n",
    "\n",
    "def plane_ride_cost(city):\n",
    "    if city==\"Charlotte\":\n",
    "        return 183\n",
    "    elif city==\"Tampa\":\n",
    "        return 220\n",
    "    elif city==\"Pittsburgh\":\n",
    "        return 222\n",
    "    elif city==\"Los Angeles\":\n",
    "        return 475\n",
    "    else:\n",
    "        print(\"I don't know where you want to go! But assuming no plane ticket, \")\n",
    "        return 0\n",
    "        \n",
    "def rental_car_cost(days):\n",
    "    if days >=7:\n",
    "        return (days*40-50)\n",
    "    elif days >=3:\n",
    "        return (days*40-20)\n",
    "    else:\n",
    "        return days*40\n",
    "        \n",
    "def trip_cost(city, days):\n",
    "    return rental_car_cost(days)+plane_ride_cost(city)+hotel_cost(days)\n",
    "\n",
    "print(trip_cost(\"Charlotte\",10))\n",
    "print(\"__________________\")\n",
    "# NYC instead - oops it isn't included as an explicit option. What does it do?\n",
    "print(\"This costs: $  \"+ str(trip_cost(\"NYC\",5)))"
   ]
  },
  {
   "cell_type": "markdown",
   "metadata": {},
   "source": [
    "## Breaking down a problem using comparators  \n",
    "* Programs need to make decisions\n",
    "* Conditions to evaluate which path to follow\n",
    "    * Statements that are True or False\n",
    "    * Examples: ==,>, <,>=, <=, !=\n",
    "* Note difference between assignment and evaluation\n",
    "    * remember that == is a comparator NOT an assignment (which is just one =)\n",
    "* Capitalization of T and F in True and False (special reserved words)\n",
    "* Aside on good programming practices: if you find yourself using more than 3 levels of indentation (so more than 3 nested conditional statements), you may need to encapsulate code into a function"
   ]
  },
  {
   "cell_type": "code",
   "execution_count": 18,
   "metadata": {},
   "outputs": [
    {
     "name": "stdout",
     "output_type": "stream",
     "text": [
      "False\n",
      "False\n",
      "True\n",
      "False\n",
      "True\n",
      "True\n",
      "False\n",
      "True\n",
      "False\n"
     ]
    }
   ],
   "source": [
    "#comparators\n",
    "print(3==5)\n",
    "print(3>5)\n",
    "print(3 <=5)\n",
    "print(len(\"ATGC\")>5)\n",
    "print(\"GAATTC\".count(\"T\")>1)\n",
    "print(\"ATGCTT\".startswith(\"ATG\"))\n",
    "print(\"ATGCTT\".endswith(\"TTT\"))\n",
    "print(\"V\" in [\"L\",\"V\",\"W\"])\n",
    "print(\"V\" in [\"L\",\"X\",\"W\"])"
   ]
  },
  {
   "cell_type": "markdown",
   "metadata": {},
   "source": [
    "## Boolean: True or False\n",
    "* Boolean operators compare statements and result in Boolean values. There are three operators: \n",
    "    - __not__  - opposite of statement. This is the most challenging for individuals to use.\n",
    "    - __and__ – only if BOTH statements are true\n",
    "    - __or__ – if AT LEAST one statement is true\n",
    "     \n",
    "* Precedence: __NOT__ > __AND__ > __OR__\n",
    "* We will see that we can build up complex conditions combining boolean operators \n",
    "\n",
    "<div class=\"alert alert-block alert-warning\">\n",
    "Example:  Fill in the equation to make the variable equal to a true or a false boolean\n",
    "    #### Make me true!\n",
    "    bool_one = 3 < 5\n",
    "    #### Make me false!\n",
    "    bool_two = 10 < 4\n",
    "\n",
    "    #### Make me true!\n",
    "    bool_three = 10**3 == 1000\n",
    "\n",
    "    #### Make me false!\n",
    "    bool_four = -6 > -4\n",
    "\n",
    "    #### Make me true!\n",
    "    bool_five = 9 == 3**2\n"
   ]
  },
  {
   "cell_type": "markdown",
   "metadata": {},
   "source": [
    "## Conditional Statements: \n",
    "* If condition evaluates to True: \n",
    "    \n",
    "    * expression will be printed\n",
    "    * if __option a__ is True\n",
    "    \n",
    "* Elif True: \n",
    "\n",
    "    * expression will be printed\n",
    "    * optional, allows for more than 1 alternative\n",
    "    * if __option a__ is False; __option b__ is True\n",
    "\n",
    "* Else:\n",
    "\n",
    "    * not covered by if or elif\n",
    "    * optional\n",
    "    * if __option a__ is False; __option b__ is False\n",
    "   \n"
   ]
  },
  {
   "cell_type": "code",
   "execution_count": 21,
   "metadata": {
    "scrolled": true
   },
   "outputs": [
    {
     "name": "stdout",
     "output_type": "stream",
     "text": [
      "You've just entered the clinic!\n",
      "Do you take the door on the left or the right?\n",
      "Type left or right and hit 'Enter'.t\n",
      "You didn't pick left or right! Try again.\n"
     ]
    }
   ],
   "source": [
    "# Another modified CA example:\n",
    "# this example explicitly points out some simple ways to use if/elif/else statements\n",
    "# with user-inputted information to ensure that the user submitted what was expected!\n",
    "def clinic():\n",
    "    print(\"You've just entered the clinic!\")\n",
    "    print(\"Do you take the door on the left or the right?\")\n",
    "    answer = input(\"Type left or right and hit 'Enter'.\").lower()\n",
    "    if answer == \"left\" or answer == \"l\":\n",
    "        print(\"This is the Verbal Abuse Room, you heap of parrot droppings!\")\n",
    "    elif answer == \"right\" or answer == \"r\":\n",
    "        print(\"Of course this is the Argument Room, I've told you that already!\")\n",
    "    else:\n",
    "        print(\"You didn't pick left or right! Try again.\")\n",
    "              \n",
    "# Call the clinic function here!\n",
    "# remember that there is a difference between defining a function - as we did above -\n",
    "# and ACTUALLY CALLING IT.\n",
    "clinic()"
   ]
  },
  {
   "cell_type": "markdown",
   "metadata": {},
   "source": [
    "## If/Else\n",
    "* If is a conditional statement that **executes a specified code after determining that the expression is True** \n",
    "* Remember/notice the indentation formatting and the \":\"\n",
    "\n",
    "__Example:__ \n",
    ">answer = \"Left\"\n",
    "\n",
    ">if answer == \"Left\":\n",
    "\n",
    ">>print( ”Something interesting to the screen”)\n",
    "\n",
    "\n",
    "\n",
    "<div class=\"alert alert-block alert-warning\">\n",
    "Example:  \n",
    "    # if means that the expression is only evaluated if it is determined to be True \n",
    "    \t\n",
    "        if expression_level >100:\n",
    "        \n",
    "\t\t\t\tblah blah\n",
    "                \n",
    "    #else is for an either/or situation\n",
    "    \n",
    "        if conditional statement: <- is false then you evaluate else\n",
    "        \n",
    "                blah blah\n",
    "                \n",
    "        else:\t<- no conditions are specified\n",
    "        \n",
    "                blah\n",
    "                \n",
    "    #Notice that else and if have the same indentation level\n"
   ]
  },
  {
   "cell_type": "code",
   "execution_count": 24,
   "metadata": {},
   "outputs": [
    {
     "name": "stdout",
     "output_type": "stream",
     "text": [
      "Enter a word: chihuahua\n",
      "hihuahuacay\n"
     ]
    }
   ],
   "source": [
    "#let's try to combine user input with conditional statements\n",
    "#this example is stolen from codeacademy. They provided a great section on \n",
    "# introductory comparisons and it is FREE. \n",
    "pyg=\"ay\"\n",
    "original=input(\"Enter a word: \")\n",
    "#ensure that it is all lower case\n",
    "# -------------------------\n",
    "# To remind you (from an earlier lecture): \n",
    "# you can refresh your memory about all the methods that are associated with strings by\n",
    "# typing: \n",
    "#str. and then pressing the tab button. This will bring up a pull down menu in your \n",
    "# jupyter cell that will show you all the string methods. \n",
    "# -------------------------\n",
    "word=original.lower()\n",
    "#the first is the first character of the string that has been inputted\n",
    "first=word[0]\n",
    "#this is how we speak piglatin\n",
    "#We start with the second character in the string and add the first and ay\n",
    "new_word=word[1:len(word)]+first+pyg\n",
    "\n",
    "if len(original)>0 and original.isalpha():\n",
    "    print(new_word)\n",
    "else:\n",
    "    print(\"That's not a word\")"
   ]
  },
  {
   "cell_type": "markdown",
   "metadata": {},
   "source": [
    "## Else\n",
    "An alternative branch if the paired if statement does not evaluate to true\n",
    "\n",
    "<div class=\"alert alert-block alert-warning\">\n",
    "Example:  \n",
    "    \n",
    "    if False:\n",
    "        print(“This will never get printed!”)\n",
    "    else:\n",
    "        print(“I get printed!”)\n"
   ]
  },
  {
   "cell_type": "markdown",
   "metadata": {},
   "source": [
    "### For loops are useful for flow control when they are combined with conditional statements\n"
   ]
  },
  {
   "cell_type": "code",
   "execution_count": 8,
   "metadata": {},
   "outputs": [
    {
     "name": "stdout",
     "output_type": "stream",
     "text": [
      "0\n",
      "1 is not an even number\n",
      "2\n",
      "3 is not an even number\n",
      "4\n",
      "5 is not an even number\n",
      "6\n",
      "7 is not an even number\n",
      "8\n",
      "9 is not an even number\n",
      "10\n",
      "11 is not an even number\n",
      "12\n",
      "13 is not an even number\n"
     ]
    }
   ],
   "source": [
    "a = [0, 1, 2, 3, 4, 5, 6, 7, 8, 9, 10, 11, 12, 13]\n",
    "for num in a: \n",
    "# if the element in list a is even - that is, it can be divided by 2 with no remainder:\n",
    "    if a[num]%2==0:\n",
    "        print(a[num])\n",
    "    else:\n",
    "        print(str(a[num])+\" is not an even number\")"
   ]
  },
  {
   "cell_type": "code",
   "execution_count": 25,
   "metadata": {},
   "outputs": [
    {
     "name": "stdout",
     "output_type": "stream",
     "text": [
      "13\n",
      "13\n",
      "13\n",
      "13\n",
      "13\n",
      "13\n"
     ]
    }
   ],
   "source": [
    "#this program takes a list of accession numbers and splits them up into two files\n",
    "#based on particular criteria. The two *output* files look like this: \n",
    "#one.txt    two.txt \n",
    "#-------      -------\n",
    "#ab56        bh84\n",
    "#ay93        hv76\n",
    "#ap97        bd72\n",
    "#---------------------\n",
    "# remember the difference between w and w+\n",
    "file1=open(\"one.txt\",\"w\")\n",
    "file2=open(\"two.txt\",\"w\")\n",
    "accs=[\"ab56\",\"bh84\",\"hv76\",\"ay93\",\"ap97\",\"bd72\"]\n",
    "#print(accession)\n",
    "for accession in accs:\n",
    "    #print(num)\n",
    "    if accession.startswith(\"a\"):\n",
    "        file1.write(accession+\"\\n\")\n",
    "    else:\n",
    "        file2.write(accession+\"\\n\")\n",
    "\n",
    "file1.close()\n",
    "file2.close()"
   ]
  },
  {
   "cell_type": "markdown",
   "metadata": {},
   "source": [
    "## Elif\n",
    "* An alternative branch if the paired if statement does not evaluate to true but a second condition might evaluate to true\n",
    "\n",
    "<div class=\"alert alert-block alert-warning\">\n",
    "Example:  \n",
    "    \n",
    "    if False:\n",
    "        print(“Nothing since if statement is false”)\n",
    "    elif True:\n",
    "        print(“Oh, you bet I get printed!”)\n",
    "    else:\n",
    "        print(“I also don’t get printed since elif was executed”)  \n"
   ]
  },
  {
   "cell_type": "code",
   "execution_count": 10,
   "metadata": {},
   "outputs": [],
   "source": [
    "#this program takes a list of accession numbers and splits them up into two files\n",
    "#based on particular criteria\n",
    "# You could write this as a series of nested for loops but the elif makes \n",
    "# it tidier and more clearly reflects what we are trying to do\n",
    "file1=open(\"one.txt\",\"w\")\n",
    "file2=open(\"two.txt\",\"w\")\n",
    "file3=open(\"three.txt\",\"w\")\n",
    "accs=[\"ab56\",\"bh84\",\"hv76\",\"ay93\",\"ap97\",\"bd72\"]\n",
    "for accession in accs:\n",
    "    if accession.startswith(\"a\"):\n",
    "        file1.write(accession+\"\\n\")\n",
    "    elif accession.startswith(\"b\"):\n",
    "        file3.write(accession+\"\\n\")\n",
    "    else:\n",
    "        file2.write(accession+\"\\n\")\n",
    "# Remember what happens when we don't close our file? I have hashed the following out. What will happen\n",
    "# when I un-hash them? \n",
    "file1.close()\n",
    "file2.close()\n",
    "file3.close()"
   ]
  },
  {
   "cell_type": "code",
   "execution_count": 34,
   "metadata": {},
   "outputs": [
    {
     "name": "stdout",
     "output_type": "stream",
     "text": [
      "one_test.fsa\n",
      "~~~~~~\n",
      "ABC123\n",
      "ABC123\n",
      "2 0\n",
      "ABC123\n",
      "2 1\n",
      "ATGC\n",
      "ATGC\n",
      "2 0\n",
      "ATGC\n",
      "2 1\n",
      "def456\n",
      "DEF456\n",
      "2 0\n",
      "DEF456\n",
      "2 1\n",
      "gcgca\n",
      "GCGCA\n",
      "2 0\n",
      "GCGCA\n",
      "2 1\n",
      "ghi789\n",
      "GHI789\n",
      "2 0\n",
      "GHI789\n",
      "2 1\n",
      "TGCa\n",
      "TGCA\n",
      "2 0\n",
      "TGCA\n",
      "2 1\n",
      "two_test.fsa\n",
      "~~~~~~\n",
      "ABC123\n",
      "ABC123\n",
      "2 0\n",
      "ABC123\n",
      "2 1\n",
      "ATGC\n",
      "ATGC\n",
      "2 0\n",
      "ATGC\n",
      "2 1\n",
      "def456\n",
      "DEF456\n",
      "2 0\n",
      "DEF456\n",
      "2 1\n",
      "gcgca\n",
      "GCGCA\n",
      "2 0\n",
      "GCGCA\n",
      "2 1\n",
      "ghi789\n",
      "GHI789\n",
      "2 0\n",
      "GHI789\n",
      "2 1\n",
      "TGCa\n",
      "TGCA\n",
      "2 0\n",
      "TGCA\n",
      "2 1\n",
      "three_test.fsa\n",
      "~~~~~~\n",
      "ABC123\n",
      "ABC123\n",
      "2 0\n",
      "ABC123\n",
      "2 1\n",
      "ATGC\n",
      "ATGC\n",
      "2 0\n",
      "ATGC\n",
      "2 1\n",
      "def456\n",
      "DEF456\n",
      "2 0\n",
      "DEF456\n",
      "2 1\n",
      "gcgca\n",
      "GCGCA\n",
      "2 0\n",
      "GCGCA\n",
      "2 1\n",
      "ghi789\n",
      "GHI789\n",
      "2 0\n",
      "GHI789\n",
      "2 1\n",
      "TGCa\n",
      "TGCA\n",
      "2 0\n",
      "TGCA\n",
      "2 1\n"
     ]
    }
   ],
   "source": []
  },
  {
   "cell_type": "markdown",
   "metadata": {},
   "source": [
    "Discussion Thread question time:\n",
    "-----------------------------\n",
    "A DNA string is called an open reading frame (ORF) if it begins with 'ATG', ends with 'TGA', 'TAG', or 'TAA', and has a length that is a multiple of 3. ORFs are interesting because they can encode proteins.\n",
    "\n",
    "What would your strategy be to do the following: \n",
    "Write a function called ORFadviser(DNA) that takes a string called DNA as input and works as follows:\n",
    "The function returns the string 'This is an ORF.' if the input string satisfies all three of the conditions required of ORFs.\n",
    "Otherwise, if the first three symbols are not 'ATG', the function returns the string 'The first three bases are not ATG.'.\n",
    "Otherwise, if the string does not end with 'TGA', 'TAG', or 'TAA', the function returns the string 'The last three bases are not a stop codon.'.\n",
    "Otherwise, the function returns the string 'The string is not of the correct length.'\n"
   ]
  },
  {
   "cell_type": "markdown",
   "metadata": {},
   "source": [
    "## Complex conditions\n",
    "* __and, or, not__ can be combined \n",
    "* __and__ – joins conditions\n",
    "* __or__- if either condition is true\n",
    "* __not__ – not true  \n",
    "* Rules about priority:\n",
    "    * Order in which they are evaluated: __NOT  >  AND  >  OR__\n",
    "\n",
    "    * We can include parentheses to avoid ambiguity about which condition is met\n",
    "\n",
    "<div class=\"alert alert-block alert-warning\">\n",
    "THE RULES of Boolean Operator Combinations:  \n",
    "    \n",
    "    True and True is True\n",
    "    True and False is False\n",
    "    False and True is False\n",
    "    False and False is False\n",
    "\n",
    "    True or True is True\n",
    "    True or False is True\n",
    "    False or True is True\n",
    "    False or False is False\n",
    "\n",
    "    Not True is False\n",
    "    Not False is True\n",
    "  \n",
    "\n",
    "Example: What does the following return? \n",
    "\n",
    "    True or not False and False\n",
    "\n"
   ]
  },
  {
   "cell_type": "markdown",
   "metadata": {},
   "source": [
    "### AND\n",
    "<div class=\"alert alert-block alert-warning\">\n",
    "    Make False and False\n",
    "    bool_one = (-2>-1) AND (False)\n",
    "\n",
    "    MakeTrue and False\n",
    "    bool_two = \n",
    "\n",
    "    Make True and False\n",
    "    bool_three =\n",
    "\n",
    "    Make True and False\n",
    "    bool_four =\n",
    "\n",
    "    Make True and True\n",
    "    bool_five =\n"
   ]
  },
  {
   "cell_type": "markdown",
   "metadata": {},
   "source": [
    "### OR \n",
    "<div class=\"alert alert-block alert-warning\">\n",
    "    Make False or False\n",
    "    bool_one =\n",
    "\n",
    "    MakeTrue or False\n",
    "    bool_two = \n",
    "\n",
    "    Make True or  False\n",
    "    bool_three =\n",
    "\n",
    "    Make True or False\n",
    "    bool_four =\n",
    "\n",
    "    Make True or True\n",
    "    bool_five =\n"
   ]
  },
  {
   "cell_type": "markdown",
   "metadata": {},
   "source": [
    "### NOT\n",
    "### OR \n",
    "<div class=\"alert alert-block alert-warning\">\n",
    "    Make False:\n",
    "    bool_one =\n",
    "\n",
    "    Make True: \n",
    "    bool_two = \n",
    "\n",
    "    Make False:\n",
    "    bool_three =\n",
    "\n",
    "    Make True: \n",
    "    bool_four =\n",
    "\n",
    "    Make False:\n",
    "    bool_five =\n"
   ]
  },
  {
   "cell_type": "markdown",
   "metadata": {},
   "source": [
    "##### For the example a few cells up, we can impose additional criteria: \n",
    "\n",
    "accs=[\"ab56\",\"bh84\",\"hv76\",\"ay93\",\"ap97\",\"bd72\"]\n",
    "\n",
    "for accession in accs:\n",
    "\n",
    "    if accession.startswith(“a”):\n",
    "        if accession.endswith(‘3’):\n",
    "            print(accession)\n",
    "\n",
    "##### A more elegant way of writing the above is to combine conditional statements on one line: \n",
    "\n",
    "accs=[\"ab56\",\"bh84\",\"hv76\",\"ay93\",\"ap97\",\"bd72\"]\n",
    "\n",
    "for accession in accs:\n",
    "    \n",
    "    if accession.startswith(“a”) and accession.endswith(‘3’):\n",
    "\t\t\tprint(accession)\n",
    "\n",
    "##### What does this print out? \n",
    "\n",
    "accs=[\"ab56\",\"bh84\",\"hv76\",\"ay93\",\"ap97\",\"bd72\"]\n",
    "\n",
    "for accession in accs:\n",
    "\n",
    "    if accession.startswith(“a”) and not accession.endswith(‘6’):\n",
    "        print(accession)\n",
    "\n",
    "* when you do a google search, google automatically adds 'and' between words\n",
    "    * Biology Python -snake is really Biology AND Python NOT snake"
   ]
  },
  {
   "cell_type": "code",
   "execution_count": 12,
   "metadata": {},
   "outputs": [
    {
     "name": "stdout",
     "output_type": "stream",
     "text": [
      "True\n",
      "False\n"
     ]
    }
   ],
   "source": [
    "def is_GandC_rich(dna):\n",
    "    length = len(dna)\n",
    "    g_count = dna.upper().count(\"G\")\n",
    "    c_count = dna.upper().count(\"C\")\n",
    "    # not the same question as the homework since this one is interested in how rich an area is in both G and C independently\n",
    "    gc_count=(g_count + c_count)/length\n",
    "    if gc_count > 0.65:\n",
    "        return True\n",
    "    else:\n",
    "        return False\n",
    "#   return gc_content>0.65\n",
    "\n",
    "print(is_GandC_rich(\"CGCGCGTACG\"))\n",
    "print(is_GandC_rich(\"ATATATATATA\"))"
   ]
  },
  {
   "cell_type": "code",
   "execution_count": 13,
   "metadata": {},
   "outputs": [
    {
     "name": "stdout",
     "output_type": "stream",
     "text": [
      "True\n",
      "False\n"
     ]
    }
   ],
   "source": [
    "# The above can be re-written to be more concise\n",
    "def is_GandC_rich(dna):\n",
    "    length = len(dna)\n",
    "    g_count = dna.upper().count(\"G\")\n",
    "    c_count = dna.upper().count(\"C\")\n",
    "    gc_count=(g_count + c_count)/length\n",
    "    #return gc_content>0.65\n",
    "    return gc_count > 0.65\n",
    "\n",
    "\n",
    "print(is_GandC_rich(\"CGCGCGTACG\"))\n",
    "print(is_GandC_rich(\"ATATATATATA\"))"
   ]
  },
  {
   "cell_type": "markdown",
   "metadata": {},
   "source": [
    "## Break\n",
    "* A one-line statement that results in the current loop being exited\n",
    "* Can be used with any logic loop (if, for etc) but most often with while loops since they so easily become infinite loops\n",
    "* ### Breaks force the loop to run at least once whereas other types of loop conditions will not run even once unless the initial condition is true\n",
    "* For loops may have an else associated with them\n",
    "    * The else statement is executed after the for but ONLY if the for ends normally (not with a break – ending a for loop with a break forces a bypass of the associated else statement)\n",
    "<div class=\"alert alert-block alert-warning\">\n",
    "example:\n",
    "     \n",
    "    fruits = ['banana', 'apple', 'orange', 'tomato', 'pear', 'grape’]\n",
    "    \n",
    "    print('You have...’)\n",
    "    \n",
    "    for f in fruits:\n",
    "        if f == 'tomato':\n",
    "            print('A tomato is not a fruit!’) # (It actually is.)\n",
    "            break\n",
    "            print('A', f)\n",
    "    else:\n",
    "        print('A fine selection of fruits!’)\n",
    "       \n",
    "       \n",
    "* since there is a tomato in the given list, the if loop will be initiated and a break will happen so the else loop will not be executed (so “A fine selection of fruits!” will not be printed. If you removed the break command, it would print the final sentence)\n",
    "\n",
    "\n",
    "\n",
    "\n"
   ]
  },
  {
   "cell_type": "code",
   "execution_count": 28,
   "metadata": {},
   "outputs": [
    {
     "name": "stdout",
     "output_type": "stream",
     "text": [
      "You have...\n",
      "A fine selection of fruits!\n",
      "A fine selection of fruits!\n",
      "A fine selection of fruits!\n",
      "A tomato is not a fruit!\n",
      "______FIN_____\n"
     ]
    }
   ],
   "source": [
    "# We can demonstrate that the break will force the loop to run at least once by hashing out the list\n",
    "# that has tomato first and also hashing out the break statement to see what gets printed out when it isn't there\n",
    "fruits = [\"banana\", \"apple\", \"orange\",\"tomato\",\"pear\",\"grapes\"]\n",
    "#fruits = [\"tomato\",\"banana\", \"apple\", \"orange\",\"pear\",\"grapes\"]\n",
    "    \n",
    "print(\"You have...\")\n",
    "\n",
    "for f in fruits:\n",
    "    if f == \"tomato\":\n",
    "        print(\"A tomato is not a fruit!\") # (It actually is.)\n",
    "        # try hashing out the break below and predict what will happen with each of the two fruits list above\n",
    "        break\n",
    "        print(\"A\", f)\n",
    "    else:\n",
    "        print(\"A fine selection of fruits!\")\n",
    "\n",
    "print(\"______FIN_____\")"
   ]
  },
  {
   "cell_type": "code",
   "execution_count": 16,
   "metadata": {},
   "outputs": [
    {
     "name": "stdout",
     "output_type": "stream",
     "text": [
      "Stay = 324\n",
      "Switch =  676\n"
     ]
    }
   ],
   "source": [
    "# The Monty hall problem. I stole this from Rosetta code which is a website that translates popular\n",
    "# programming problems into multiple languages: \n",
    "# https://rosettacode.org/wiki/Monty_Hall_problem#Python_3_version:\n",
    "import random\n",
    " #1 represents a car\n",
    " #0 represent a goat\n",
    " \n",
    "stay = 0  #amount won if stay in the same position\n",
    "switch = 0 # amount won if you switch \n",
    " \n",
    "for i in range(1000):\n",
    "    lst = [1,0,0]           # one car and two goats\n",
    "    random.shuffle(lst)     # shuffles the list randomly\n",
    " \n",
    "    ran = random.randrange(3) # gets a random number for the random guess\n",
    " \n",
    "    user = lst[ran] #storing the random guess \n",
    " \n",
    "    del(lst[ran]) # deleting the random guess\n",
    " \n",
    "    huh = 0\n",
    "    for i in lst: # getting a value 0 and deleting it\n",
    "        if i ==0:\n",
    "            del(lst[huh]) # deletes a goat when it finds it\n",
    "            break\n",
    "        huh+=1\n",
    " \n",
    "    if user ==1: # if the original choice is 1 then stay adds 1\n",
    "        stay+=1\n",
    " \n",
    "    if lst[0] == 1: # if the switched value is 1 then switch adds 1\n",
    "        switch+=1\n",
    " \n",
    "print(\"Stay =\",stay)\n",
    "print(\"Switch = \",switch)\n",
    "#Done by Sam Witton 09/04/2014\n"
   ]
  }
 ],
 "metadata": {
  "kernelspec": {
   "display_name": "Python 3",
   "language": "python",
   "name": "python3"
  },
  "language_info": {
   "codemirror_mode": {
    "name": "ipython",
    "version": 3
   },
   "file_extension": ".py",
   "mimetype": "text/x-python",
   "name": "python",
   "nbconvert_exporter": "python",
   "pygments_lexer": "ipython3",
   "version": "3.7.4"
  }
 },
 "nbformat": 4,
 "nbformat_minor": 2
}
