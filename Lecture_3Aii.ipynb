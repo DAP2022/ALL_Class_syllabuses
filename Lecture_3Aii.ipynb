{
 "cells": [
  {
   "cell_type": "markdown",
   "metadata": {},
   "source": [
    "## Summary: \n",
    "* dictionaries are clearly quite important in Python\n",
    "* they have methods\n",
    "* there are other data types: most important TUPLE, less important (except for specific types of problems): sets"
   ]
  },
  {
   "cell_type": "markdown",
   "metadata": {},
   "source": [
    "## What is a tuple? \n",
    "* Another built-in data type\n",
    "* Tuples can be thought of as an immutable list\n",
    "* Like lists: multiple elements, you can iterate over elements and you retrieve a particular element by using []\n",
    "* Unlike lists: use () to define them \n",
    "* Immutability means that once you have assigned a tuple, you cannot change any of the elements!\n",
    "        * This may seem a little odd but it can be great for troubleshooting a program to know that an element hasn’t changed (we’ll discuss this type of idea more in the functional programming lecture)\n",
    "      \n",
    "\n",
    "## Why have an immutable data structure?\n",
    "* Fancy reasons such as optimization or trouble shooting code\n",
    "    * faster than searching lists\n",
    "* Mostly because…**it allows tuples to be as keys to a dictionary (which a list cannot do)**\n",
    "<div class=\"alert alert-block alert-warning\">\n",
    "EXAMPLE\n",
    "\n",
    "        x={(“CCA”,”CCC”,”CCG”,”CCT”):”Pro”}<-- fine (because the key is an immutable data type, a tuple)\n",
    "    \n",
    "        x={[“CCA”,”CCC”,”CCG”,”CCT”]:”Pro”}<-- NOT FINE. WILL RAISE EXCEPTION B/C key is mutable – list--data type so it can’t be a key of a dictionary\n",
    "\n",
    "* Using a tuple is sort of a type of safe coding – like “write protected”\n",
    "* Tuples are usually used with HETERGENEOUS data (elements of different types of data) and where the position  of the element tells you something about the data. THINK OF AN INDIVIDUAL ROW IN AN EXCEL SPREADSHEET - DIFFERENT TYPES OF INFORMATION STORED AT DIFFERENT POSITIONS\n",
    "            * ie. Tuple of three elements: sequence, accession number, genetic code – you would always want these elements to be the same order!\n",
    "<div class=\"alert alert-block alert-warning\">\n",
    "EXAMPLE\n",
    "\n",
    "    #tuples where each element contains, in the #following order: sequence, accession number, #identification code\n",
    "            tuple_1=(“atgctga”,”ABC123”, 1)\n",
    "            tuple_2=(“tcgcgcg”,”DEF456”, 1)\n",
    "\n",
    "\n",
    "### Immutable data types cannot be changed once they are created. \n",
    "* this is very much unlike a list which can be changed\n",
    "* This means you cannot append, swap, sort etc\n",
    "\n",
    "        * tuples don't have methods!\n",
    "        \n",
    "        * tuples CAN be sliced, however.\n",
    "        \n",
    "        * tuples CAN be converted to a list (and lists can be converted to tuples)\n",
    "        \n",
    "        * Technically, by the way, we have already seen an immutable data type: Strings!\n",
    "     \n",
    "     EXAMPLE: \n",
    "              S=\"spam\"\n",
    "              S[1]=\"c\"\n",
    "              \n",
    "              this should raise an exception because once set you shouldn't be able to overwrite any of the characters in \"spam\".\n",
    "             \n",
    "             * HOWEVER YOU SHOULD BE A LITTLE CONCERNED ABOUT CONSIDERING STRINGS TO BE IMMUTABLE - AFTER ALL, STRINGS CAN BE CHANGED- THEY HAVE METHODS! JUST KNOW THAT STRINGS BEHAVE A LITTLE WEIRDLY BUT ARE CONSIDERED TO BE IMMUTABLE. SORRY: STRINGS ARE RULE BREAKERS."
   ]
  },
  {
   "cell_type": "code",
   "execution_count": 10,
   "metadata": {},
   "outputs": [
    {
     "ename": "TypeError",
     "evalue": "'str' object does not support item assignment",
     "output_type": "error",
     "traceback": [
      "\u001b[0;31m---------------------------------------------------------------------------\u001b[0m",
      "\u001b[0;31mTypeError\u001b[0m                                 Traceback (most recent call last)",
      "\u001b[0;32m<ipython-input-10-303a5e5023d7>\u001b[0m in \u001b[0;36m<module>\u001b[0;34m\u001b[0m\n\u001b[1;32m      1\u001b[0m \u001b[0;31m# you can't change a string, remember:\u001b[0m\u001b[0;34m\u001b[0m\u001b[0;34m\u001b[0m\u001b[0;34m\u001b[0m\u001b[0m\n\u001b[1;32m      2\u001b[0m \u001b[0mS\u001b[0m\u001b[0;34m=\u001b[0m\u001b[0;34m\"spam\"\u001b[0m\u001b[0;34m\u001b[0m\u001b[0;34m\u001b[0m\u001b[0m\n\u001b[0;32m----> 3\u001b[0;31m \u001b[0mS\u001b[0m\u001b[0;34m[\u001b[0m\u001b[0;36m1\u001b[0m\u001b[0;34m]\u001b[0m\u001b[0;34m=\u001b[0m\u001b[0;34m\"c\"\u001b[0m\u001b[0;34m\u001b[0m\u001b[0;34m\u001b[0m\u001b[0m\n\u001b[0m",
      "\u001b[0;31mTypeError\u001b[0m: 'str' object does not support item assignment"
     ]
    }
   ],
   "source": [
    "# you can't change a string, remember: \n",
    "S=\"spam\"\n",
    "S[1]=\"c\""
   ]
  },
  {
   "cell_type": "code",
   "execution_count": null,
   "metadata": {},
   "outputs": [],
   "source": [
    "gencode = {\n",
    "    ('ATA','ATC', 'ATT'):'I','ATG':'M',\n",
    "    ('ACA','ACC','ACG','ACT'):'T',\n",
    "    ('AAC','AAT'):'N',('AAA','AAG'):'K',\n",
    "    ('AGC','AGT'):'S',('AGA','AGG'):'R',\n",
    "    ('CTA','CTC','CTG','CTT'):'L',\n",
    "    ('CCA','CCC','CCG','CCT'):'P',\n",
    "    ('CAC','CAT'):'H',('CAA','CAG'):'Q',\n",
    "    ('CGA','CGC','CGG','CGT'):'R',\n",
    "    ('GTA','GTC','GTG','GTT'):'V',\n",
    "    ('GCA','GCC','GCG','GCT'):'A',\n",
    "    ('GAC','GAT'):'D',('GAA','GAG'):'E',\n",
    "    ('GGA','GGC','GGG','GGT'):'G',\n",
    "    ('TCA','TCC','TCG','TCT'):'S',\n",
    "    ('TTC','TTT'):'F', ('TTA','TTG'):'L',\n",
    "    ('TAC','TAT'):'Y', ('TAA','TAG','TGA'):'_',\n",
    "    ('TGC','TGT'):'C','TGG':'W'}"
   ]
  },
  {
   "cell_type": "markdown",
   "metadata": {},
   "source": [
    "## Another data type: sets\n",
    "\n",
    "* An unordered collection with no duplicate elements\n",
    "\n",
    "* Like a dictionary that doesn’t store any values, just keys so you can quickly check if a particular key is in a set\n",
    "\n",
    "* Used: to test for membership (is there an item called something in this collection?) by using word **in**\n",
    "\n",
    "* syntax is: \n",
    "\n",
    "    Emptyset = set()\n",
    "    \n",
    "    If the set has values at the time of initialization, you can also use the syntax: \n",
    "    \n",
    "    Set1={'value1','value2','value3'}\n",
    "    \n",
    "    Set2={'value1','value4','value5'}\n",
    "   "
   ]
  },
  {
   "cell_type": "markdown",
   "metadata": {},
   "source": [
    "### Combinations of data types"
   ]
  },
  {
   "cell_type": "markdown",
   "metadata": {},
   "source": [
    "The most common ones: \n",
    "1. Lists of lists\n",
    "    * Lists of file objects, strings, numbers \n",
    "        example: [open(one.txt),open(two.txt)]\n",
    "        \n",
    "    * Lists of regular expression match objects\n",
    "        example: \n",
    "                    import re\n",
    "                    [re.search(r’[^ATGC]’,’ACTRGGT’), re.search(r’[^ATGC]’,’ACTYGGT’)]\n",
    "                 \n",
    "    * Lists of lists (two dimensional arrays)\n",
    "\n",
    "2. Lists of dictionaries\n",
    "3. Lists of tuples\n",
    "<div class=\"alert alert-block alert-warning\">\n",
    "    Example:  Note that in this example the dictionaries that constitute each element in the list are **anonymous** - they don't have a name!\n",
    "            \n",
    "        Records=[{“name”:”actgctagt”,”accession”:”ABC123”,”code”:1}, {“name”:”ttaggatc”,”accession”:”DEF456”,”code”:2}]\n",
    "        One_record=Records[1]\n",
    "        "
   ]
  },
  {
   "cell_type": "code",
   "execution_count": 13,
   "metadata": {},
   "outputs": [
    {
     "name": "stdout",
     "output_type": "stream",
     "text": [
      "{'name': 'ttaggatc', 'accession': 'DEF456', 'code': 2}\n",
      "ttaggatc\n"
     ]
    }
   ],
   "source": [
    "Records=[{\"name\":\"actgctagt\",\"accession\":\"ABC123\",\"code\":1}, {\"name\":\"ttaggatc\",\"accession\":\"DEF456\",\"code\":2}]\n",
    "One_record=Records[1]\n",
    "print(One_record)\n",
    "One_record_two=Records[1][\"name\"]\n",
    "print(One_record_two)"
   ]
  },
  {
   "cell_type": "code",
   "execution_count": 14,
   "metadata": {},
   "outputs": [
    {
     "name": "stdout",
     "output_type": "stream",
     "text": [
      "['T', '-', 'T', 'C', 'G']\n",
      "C\n",
      "['-', 'T']\n",
      "[4, 5, 6]\n",
      "4\n"
     ]
    }
   ],
   "source": [
    "# List of a list!\n",
    "aln=[[\"A\",\"T\",\"-\",\"T\",\"G\"],[\"A\",\"A\",\"T\",\"A\",\"G\"],[\"T\",\"-\",\"T\",\"C\",\"G\"],[\"A\",\"A\",\"-\",\"T\",\"A\"]]\n",
    "seq=aln[2]\n",
    "print(seq)\n",
    "char=aln[2][3]\n",
    "print(char)\n",
    "char_slice=aln[2][1:3]\n",
    "print(char_slice)\n",
    "#print(char)\n",
    "\n",
    "#less biologically motivated:\n",
    "lol=[[1,2,3],[4,5,6],[7,8,9]]\n",
    "print(lol[1])\n",
    "l=lol[1]\n",
    "#should print out 4\n",
    "print(l[0])"
   ]
  },
  {
   "cell_type": "code",
   "execution_count": null,
   "metadata": {},
   "outputs": [],
   "source": []
  }
 ],
 "metadata": {
  "kernelspec": {
   "display_name": "Python 3",
   "language": "python",
   "name": "python3"
  },
  "language_info": {
   "codemirror_mode": {
    "name": "ipython",
    "version": 3
   },
   "file_extension": ".py",
   "mimetype": "text/x-python",
   "name": "python",
   "nbconvert_exporter": "python",
   "pygments_lexer": "ipython3",
   "version": "3.7.4"
  }
 },
 "nbformat": 4,
 "nbformat_minor": 2
}
