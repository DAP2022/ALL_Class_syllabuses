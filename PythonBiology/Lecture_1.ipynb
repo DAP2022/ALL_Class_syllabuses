{
 "cells": [
  {
   "cell_type": "markdown",
   "metadata": {},
   "source": [
    "## Agenda for first lecture\n",
    "---------------------------------\n",
    "1. Please read the syllabus\n",
    "    (a) note that Python and SQLite are covered but R is no longer convered in this course. See Bio 218P (Data Analysis in R) **online** course for R. \n",
    "    (b) How you earn your grade\n",
    "    (c) Schedule and **due dates**\n",
    "    (d) Breakdown of the learning objectives for each of the modules\n",
    "    (e) I have included a separate checklist of due dates\n",
    "    \n",
    "2. Motivation!\n",
    "     \n",
    "3. Downloads: \n",
    "     (a) Downloading anaconda package manager\n",
    "     (b) Downloading Jupyter\n",
    "     \n",
    "4. Introduction to Python\n",
    "\n",
    "5. Introduction to Jupyter (How awesome is Jupyter?)\n",
    "\n",
    "6. Advice"
   ]
  },
  {
   "cell_type": "markdown",
   "metadata": {},
   "source": [
    "## Motivation\n",
    "\n",
    "(a) \"We suck, until we don't\": on learning new skills (and a bit about academia: http://www.academichermit.com/2016/06/27/novy-installation.html\n",
    "\n",
    "\"In spite of all these failures we press on going deeper and deeper. I recently tried to count the number of things that I learned as a PhD student 15 years ago that I still use today. The list consists of ... writing, giving talks, and perhaps most importantly, thinking. Of course, as time progresses so does the technology, the tools, and the medium that we apply them to. I love programming. I feel like Bob Ross when I use R to generate a figure - thinking of where to put a happy little legend or how to remove the always very sad looking pie chart. It’s fun and it’s something that I can do between filling out ICUCA protocols and trying to figure out how to tell the IBC how we know that bacteria are dead after being both bleached and autoclaved. Unlike a piece of wood, a script is perpetually malleable and I can come back years later and make it better. It reflects my progress as a scientist.\n",
    "\n",
    "I am regularly asked what I suggest doing to learn how to write computer programs. It is a great honor for someone else to recognize a set of skills that I work hard to hone, but I honestly want to answer “the hell if I know.” The honest truth is that I took a semester long class in a horrible programming language - Pascal - and promptly forgot most of it. Then I picked up other languages by looking at the horrendous code from others and modifying it to see what the code did. I would work chapter by chapter through a programming book and then write my own horrendous code. Over time, I like to think that it has gotten better. I hadn’t found a succinct way to describe this until I got a call from a colleague at another institution who was really interested in strengthening his group’s programming skills and perhaps converting some of their home grown code into a package for others to use. For the first time I answered honestly, “You’re going to suck, but it will get better.” .\n",
    "\n",
    "We live in a world where “sucking” isn’t something we can own and be proud of. We either expect that we can be experts in 24 hours or we can never be experts because intelligence or expertise is a gift. Both of these ideas are insulting to people that have busted their asses to get better. I know that whenever I’ve wanted to pick up a skill, it’s taken a lot of mistakes and repetition to get better at that skill. Similarly, when there’s a new thing I have learned, but can’t find the time to practice, I know I’m losing my skills. As some of you know too well, the 5 handicap I carried in high school would be a bit higher today because I only play golf once every couple of years. Learning new skills and technologies isn’t just about reading every book on the subject or running a new analysis for a study. We need to practice those skills under the guide of a mentor or a community to get better. We need the support of a community that will help us go beyond the expertise of the community. We are then able to give back to that community to raise the community with ourselves. We need time and mentors to help us along. We need to seek review of our work to get an external assessment of how we’re doing. Because we suck, until we don’t.\"\n",
    "\n",
    "#### Crux of this course: I want you to be able to understand the code that you will encounter ‘in the wild’ and to be able to create your own scripts (or modify your colleagues scripts’) when necessary for your work!"
   ]
  },
  {
   "cell_type": "markdown",
   "metadata": {},
   "source": [
    "### Why programming? \n",
    "Sooner or later you will need to tackle a novel question/problem in biology:\n",
    "\n",
    "•  Modeling complex biological phenomenon\n",
    "    – Too much information to parse ourselves\n",
    "    – Medically relevant problems (viral spread, genomics)\n",
    "    \n",
    "•  Computational Biology/Bioinformatics/Genomics\n",
    "\n",
    "•  Intellectually satisfying and will make you a better problem-solver/question-framer (ironically, learning to program may help make your career more ‘robot-proof’)\n",
    "    - Breaking down complex problems\n",
    "    \n",
    "    •  Tic-tac-toe\n",
    "    \n",
    "    •  Origami\n",
    "    \n",
    "    •  Is there a recognition sequence for a restriction enzyme in this very long sequence?\n",
    "    \n",
    "    •  Can we align these reads?"
   ]
  },
  {
   "cell_type": "markdown",
   "metadata": {},
   "source": [
    "# Python\n",
    "\n",
    "Why Python?  \n",
    " http://imgur.com/gallery/6t6gE\n",
    " \n",
    "* Which programming language is (almost) unimportant - start programming and learning to think like a programmer!\n",
    "* Python is easy(ish) and flexible\n",
    "* You will end up using multiple languages in your career\n",
    "* Excellent libraries <- widely used language –  Integrates well with other tools - lots of packages (we will see NumPy, MatPlotLib, Pandas and a few others)\n",
    "* interpreted language\n",
    "* syntax allows for beginners to develop good programming hygiene (Consistent syntax forces readability with indentations)\n",
    "    * spaces (convention suggests FOUR spaces) not brackets\n",
    "    * readable (almost pseudocode)\n",
    "* Everything is an object: numbers, strings, data structures, functions, classes, modules \n",
    "    * since each object has an associated type and data, this makes Python very flexible\n",
    "* popular - lots of tutorials available and you will have opportunities to apply it everywhere. \n",
    "* open source!\n",
    "* Jupyter notebooks have made life so much easier for Python-users!"
   ]
  },
  {
   "cell_type": "markdown",
   "metadata": {},
   "source": [
    "# Jupyter\n",
    "1. tip: create a new folder called \"mypython\" or something equally as descriptive and then put everything in that (Note: I am fairly confident that when you install the Anaconda manager, it will put this in the 'correct' path for you)\n",
    "2. integrated environment with markdown language and Python cells (IPython is what is running under the hood)\n",
    "     * not covered in this course but Anaconda does allow for cells with multiple languages (so you could have one cell that is written in Python and the next cell could be written in R, for example) \n",
    "     * Anaconda makes it easy to download packages (it is technically a package manager rather than a program)\n",
    "3. Host of useful shortcuts with Jupyter: \n",
    "    * tab completion - begin to type a variable name (or command or module or file path) and press tab button and it will offer you up suggestions\n",
    "    * introspection - use ? before or after any command and Jupyter will define it for you. Use ?? to get a functions source code\n",
    "    * magic commands that facilitate common tasks. They are prefixed by % and they can be thought of command-line programs that can be run within the Jupyter cells. Truthfully, Jupyter cells are so user-friendly already that I don't use them very much: \n",
    "        * %magic (this will pop up the definition and description of ALL available magic commands)  \n",
    "    * other keyboard short cuts that you will discover yourself (or you can google them and play around with them)\n",
    "    * https://jupyter-notebook.readthedocs.io/en/stable/examples/Notebook/Notebook%20Basics.html\n",
    "    * https://www.dataquest.io/blog/jupyter-notebook-tutorial/"
   ]
  },
  {
   "cell_type": "markdown",
   "metadata": {},
   "source": [
    "Let's take a quick tour of the basics of a Jupyter notebook\n",
    "\n",
    "1. pull down menu for File (save and checkpoint, rename)\n",
    "2. Insert and Cell\n",
    "3. Kernel - what language is a particular chunk going to use? (In this course, we'll stick to Python but you could use Python in one chunk, R in the next and Julia in the next one). "
   ]
  },
  {
   "cell_type": "markdown",
   "metadata": {},
   "source": [
    "Here are some basics of Markdown\n",
    "------------------------------------------\n",
    "\n",
    "## Slightly smaller subtitle can go here - see how this title has two hashtags instead of one?\n",
    "### Even SMALLER subtitle\n",
    "> __Note__ _that just because we can surround our code with text explanations, we will still need to comment our code within each code cell_\n",
    "\n",
    "Jupyter cheatsheet: https://s3.amazonaws.com/assets.datacamp.com/blog_assets/Jupyter_Notebook_Cheat_Sheet.pdf\n",
    "\n",
    "Markdown Language cheatsheet:\n",
    "1. https://medium.com/ibm-data-science-experience/markdown-for-jupyter-notebooks-cheatsheet-386c05aeebed\n",
    "2. https://www.markdownguide.org/cheat-sheet/\n",
    "3. https://www.edureka.co/blog/cheatsheets/Jupyter-Notebook-Cheat-Sheet"
   ]
  },
  {
   "cell_type": "markdown",
   "metadata": {},
   "source": [
    "### Pieces of advice from former students (asked on survey what they would tell future students on their first day)\n",
    "“I would say don't be afraid to ask for help, and also don't be intimidated by Python. It can be really intimidating at first, but it does get better.”\n",
    "–  Note: I have heard a version of this from many previous students : initially assignments take a looooong time and then, about half-way through the semester, you look back and wonder how those simple problems took so long. This means that you are growing as a programmer - which is quite exciting!- but it can wear down your confidence initially.\n",
    "\n",
    "“Google will be your best friend to help solve difficult problem sets when you have been struggling. The best way to learn python is to just open up a notebook and mess around by creating random functions.”\n",
    "\n",
    "“I would tell them that they should make sure they really understand what is going on in the problem sets”\n",
    "\n",
    "“Take some time out to look over lectures and personally run everything. Also HW are very useful for learning the language so utilize it!”\n",
    "\n",
    "“Advice I would give to future students is to go over the lectures within a couple days instead of the day before the problem set is due.”"
   ]
  },
  {
   "cell_type": "markdown",
   "metadata": {},
   "source": [
    "### Last piece of advice\n",
    "\n",
    "•  Start homework well in advance. Problem solving (and trouble shooting) can often take longer than you think it will and it is easy to get panicked when an assignment is due.\n",
    "\n",
    "•  Form a study group. Sometimes these naturally form when people visit TAs office hours but peer learning really cements knowledge. Be careful not to plagiarize but brainstorming solutions is encouraged!"
   ]
  },
  {
   "cell_type": "code",
   "execution_count": 3,
   "metadata": {},
   "outputs": [],
   "source": [
    "%magic"
   ]
  },
  {
   "cell_type": "code",
   "execution_count": 3,
   "metadata": {},
   "outputs": [],
   "source": [
    "#or you can just type the script - the 'code'- here\n",
    "#note: you can't run both the block above and this block in the same\n",
    "#session\n",
    "import antigravity"
   ]
  },
  {
   "cell_type": "code",
   "execution_count": null,
   "metadata": {},
   "outputs": [],
   "source": []
  }
 ],
 "metadata": {
  "kernelspec": {
   "display_name": "Python 3",
   "language": "python",
   "name": "python3"
  },
  "language_info": {
   "codemirror_mode": {
    "name": "ipython",
    "version": 3
   },
   "file_extension": ".py",
   "mimetype": "text/x-python",
   "name": "python",
   "nbconvert_exporter": "python",
   "pygments_lexer": "ipython3",
   "version": "3.7.4"
  }
 },
 "nbformat": 4,
 "nbformat_minor": 2
}
