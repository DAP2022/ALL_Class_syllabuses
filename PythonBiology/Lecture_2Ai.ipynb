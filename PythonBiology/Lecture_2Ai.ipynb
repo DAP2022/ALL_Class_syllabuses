{
 "cells": [
  {
   "cell_type": "markdown",
   "metadata": {},
   "source": [
    "# Lecture 2Ai: \n",
    "### Syntax of Python and Strings and, really, other data types\n",
    "\n",
    "https://www.reddit.com/r/ProgrammerHumor/comments/9bbect/what_are_your_current_state_and_dont_lie_loool/\n",
    "\n",
    "* There are conventions for how to 'properly' write out Python Code. At the very beginning of your Python journey, I don't want you to get overwhelmed by small details BUT it is always good practice to start your programming by following conventions. Therefore, here are the conventions: https://www.python.org/dev/peps/pep-0008/ Don't worry about all of them (yet, by the end of the course, you should be adopting the relevant conventions), just know you should be using 4 spaces (not tabs) for indentation. "
   ]
  },
  {
   "cell_type": "markdown",
   "metadata": {},
   "source": [
    "IMPORTANT * extra resource*\n",
    "#### From the mind of this guy --> http://www.pgbovine.net/index.html\n",
    "\n",
    "An important resource for playing with your code: \n",
    "\n",
    "http://pythontutor.com/visualize.html#mode=edit"
   ]
  },
  {
   "cell_type": "markdown",
   "metadata": {},
   "source": [
    "There are **FIVE** major components that we will need to do when we are programming: \n",
    "1. Data manipulation - a bit today\n",
    "2. User interaction (Input/Output) - in lecture_2B\n",
    "3. Repeats (repeats commands while condition is true) - Lecture_2C\n",
    "4. libraries/modules/encapsulation - (mostly) Module 4\n",
    "5. Decisions (Loops) -Lecture_2E "
   ]
  },
  {
   "cell_type": "markdown",
   "metadata": {},
   "source": [
    "How are we going to use Python to accomplish the five goals above? Let's look at Python **Syntax** for some clues. \n",
    "\n",
    "\n",
    "### Variables and assignment\n",
    "    * How do we assign in Python? \n",
    "        * assignment operator is =\n",
    "        \n",
    "    * What is a variable? \n",
    "        * name that indicates where in memory we 'parked' a value\n",
    "        \n",
    "    * variable names have restrictions in Python\n",
    "        * They can be letters, underscore, number\n",
    "        * They cannot be %, ^ \n",
    "        * We cannot begin a variable name with a number and beginning a variable name with an underscore has a special meaning in Python and shouldn't be done (we'll see this much later in the course) \n",
    "        \n",
    "    * With assignment, you are creating a reference to an object\n",
    "        - Everything in Python is an *object* and you don't need to define or ''declare'' variables in advance\n",
    "        - this is different than some other languages and can be have crucial implications for data manipulation\n",
    "        \n",
    "        - Let's test this with the following code. As we work through code examples, I strongly encourage you to predict what you think will happen and then see if your prediction was correct. Crucially, if it wasn't correct, why wasn't it?. \n",
    "        \n",
    "* We'll use the print() function\n",
    "* we will use so many unnecessary print statements as we debug: \n",
    " https://www.reddit.com/r/ProgrammerHumor/comments/9b6e3v/give_this_movie_a_name/\n"
   ]
  },
  {
   "cell_type": "code",
   "execution_count": 15,
   "metadata": {},
   "outputs": [
    {
     "name": "stdout",
     "output_type": "stream",
     "text": [
      "Here is the initial value of p:  100\n",
      "Here is the value of n:  100\n",
      "4459503856\n",
      "4459503856\n",
      "Here is the new value of p:  50\n",
      "We have changed the value of p so now what is the value of n:  100\n",
      "4459502256\n",
      "4459503856\n",
      "50\n",
      "4459502256\n",
      "4459502256\n",
      "4459503856\n"
     ]
    }
   ],
   "source": [
    "p=100\n",
    "print(\"Here is the initial value of p: \",p)\n",
    "n=p\n",
    "print(\"Here is the value of n: \",n)\n",
    "# we can see where the value is stored. id()\n",
    "print(id(p))\n",
    "print(id(n))\n",
    "#change the value associated with p and we're changing where p 'points'\n",
    "# in memory\n",
    "p=50\n",
    "print(\"Here is the new value of p: \",p)\n",
    "print(\"We have changed the value of p so now what is the value of n: \",n)\n",
    "# we can see where the value is stored\n",
    "print(id(p))\n",
    "print(id(n))\n",
    "# the two variables no longer point to the same memory slot\n",
    "#----------\n",
    "# Common programming trick: If we want to preserve a value while\n",
    "# still allowing two variables to point at the same memory slot, \n",
    "# introduce a third, intermediate variable to temporarily hold\n",
    "# the value.\n",
    "q=n\n",
    "n=p\n",
    "print(n)\n",
    "# confirm memory slots\n",
    "\n",
    "print(id(p))\n",
    "print(id(n))\n",
    "print(id(q))"
   ]
  },
  {
   "cell_type": "code",
   "execution_count": 14,
   "metadata": {},
   "outputs": [
    {
     "name": "stdout",
     "output_type": "stream",
     "text": [
      "-------------\n",
      "[1, 2, 3]\n",
      "4514157504\n",
      "4514157504\n",
      "[1, 2, 3, 4]\n",
      "********\n",
      "4514157504\n",
      "4514157504\n"
     ]
    }
   ],
   "source": [
    "# And now a more challenging example that will introduce a \n",
    "# crucial future concept, lists. This is advanced but, if it confuses\n",
    "# you, remember that you can return it when we learn about lists.\n",
    "# We'll learn about this formally in a couple of lectures!  \n",
    "# -------------------------------------------------\n",
    "# create a list \n",
    "a=[1,2,3]\n",
    "#assign that same list to variable b\n",
    "b=a\n",
    "print(\"-------------\")\n",
    "print(b)\n",
    "print(id(a))\n",
    "print(id(b))\n",
    "#now we will change the code at variable a by adding a 4 to the end of the list\n",
    "a.append(4)\n",
    "#call a to ensure that it is changed\n",
    "print(a)\n",
    "#now call b.\n",
    "print(\"********\")\n",
    "b\n",
    "#If the list is changed there as well, it shows us that 'b' is really a reference \n",
    "#to an underlying object that we have changed via 'a'.\n",
    "print(id(a))\n",
    "print(id(b))"
   ]
  },
  {
   "cell_type": "code",
   "execution_count": 16,
   "metadata": {},
   "outputs": [],
   "source": [
    "# what about introspection? Putting ? directly before or after a variable or a command will\n",
    "# pop up summary information about that variable. \n",
    "?a\n",
    "# or the other format: \n",
    "print?"
   ]
  },
  {
   "cell_type": "markdown",
   "metadata": {},
   "source": [
    "### variables have types: numeric, floating point, string\n",
    "     - it is considered a 'strongly typed' language so if you type the following into a cell, it won't convert the string (some languages like C would implicitly convert it); it will give you an error instead: \n",
    "     ``` python\n",
    "        '5'+5\n",
    "        # putting 5 in quotes, '5' tells python that it is a string so it will produce unexpected output\n",
    "        ```\n",
    " \n",
    "### Whitespace/indentation\n",
    "    * FOUR SPACES\n",
    "        "
   ]
  },
  {
   "cell_type": "markdown",
   "metadata": {},
   "source": [
    "### COMMENT YOUR CODE\n",
    "* there are two types of text: \n",
    "    1. comments to your future self/fellow programmer\n",
    "    * for comments we have hashtags or \"\"\" or print statements\n",
    "    \n",
    "    2. text that is **actual** data\n",
    "    * the data type is called strings and needs '' or \"\"\n",
    "    \n",
    "When you don't comment your code but return to it three months later: \n",
    "http://i.imgur.com/MuvRR6B.jpg\n",
    "\n",
    "*You MUST comment your code because you will **not** remember what the program you wrote last week actually does even though you will be tempted to lie to yourself about what your future self will remember.\n",
    "\n",
    "https://www.reddit.com/r/ProgrammerHumor/comments/9vzcdb/commenting_is_for_amateurs/\n",
    "\n",
    "* how you will probably begin when you comment your code: \n",
    "https://i.redd.it/fqq6ummu09431.png\n",
    "\n",
    "\n",
    "* one of the *underappreciated* reasons that we comment our code is because, even if we have a README file associated with our program, commenting the code within the code means that the commentary and the code CANNOT ACCIDENTALLY EVER BE SEPERATED. Additionally, it can be updated when you change the code. "
   ]
  },
  {
   "cell_type": "markdown",
   "metadata": {},
   "source": [
    "* for string text, we need \"\" or '', you can choose whichever works most appropriately but they need to match (ie. you can't start a string with a single quote and end it with a double quote)\n",
    "\n",
    "* we sometimes need to __escape characters__ and the letter 'r' before a string (<- in particular, we will see this in the next lecture because we will be looking at file paths) \n",
    "\n",
    "    * examples of escape characters include: \\n, \\t, \\ <-- this tells python to ignore the next character (useful if you are trying to use internal quotes in a string) - we'll see this in the last example cell of this notebook. "
   ]
  },
  {
   "cell_type": "markdown",
   "metadata": {
    "collapsed": true
   },
   "source": [
    "#You can comment in your coding chunk on one line by using a hashtag\n",
    "\n",
    "Here is an example so we can play around with some basic features/explore the behaviour of variables. \n",
    "\n",
    "1. assignment to variables: variables are placeholders\n",
    "2. math operators (BEDMAS rules) - // versus / versus %\n",
    "\n",
    "### For the next example, what do we expect to be printed to the screen?"
   ]
  },
  {
   "cell_type": "code",
   "execution_count": 13,
   "metadata": {},
   "outputs": [
    {
     "name": "stdout",
     "output_type": "stream",
     "text": [
      "100 1\n",
      "***************\n",
      "100.0 1.0 33.333333333333336 33.333333333333336\n",
      "modulus means that variable 2 is: 1 and variable 5 involves division of a non-floating point number:  33.333333333333336\n",
      "Finally, variable 6 is the same division but as a floating point 33.333333333333336\n"
     ]
    }
   ],
   "source": [
    "\"\"\"worst multi-line comment ever.....\n",
    "and I am super familar with poor commenting\"\"\"\n",
    "#assigning a variable in Python means that you are creating a reference to the object\n",
    "variable_1 = 100\n",
    "variable_2 = variable_1 % 3\n",
    "#what is this going to print out? \n",
    "#print(\"***************\")\n",
    "#print(\"\\n\")\n",
    "#print(\"***************\")\n",
    "print(variable_1, variable_2)\n",
    "print(\"***************\")\n",
    "# now let's see this operation with floating point numbers\n",
    "variable_3 = 100.0\n",
    "variable_4 = variable_3 % 3\n",
    "# note that not having spaces between your assignment and variable name is a bad practice aesthetically but your progam will still run\n",
    "variable_5=variable_1/3\n",
    "variable_6=variable_3/3\n",
    "print(variable_3, variable_4,variable_5,variable_6)\n",
    "\n",
    "#even fancier print statement: \n",
    "print(\"modulus means that variable 2 is:\",variable_2,\"and variable 5 involves division of a non-floating point number: \",variable_5)\n",
    "print(\"Finally, variable 6 is the same division but as a floating point\", variable_6)"
   ]
  },
  {
   "cell_type": "code",
   "execution_count": null,
   "metadata": {},
   "outputs": [],
   "source": []
  }
 ],
 "metadata": {
  "kernelspec": {
   "display_name": "Python 3",
   "language": "python",
   "name": "python3"
  },
  "language_info": {
   "codemirror_mode": {
    "name": "ipython",
    "version": 3
   },
   "file_extension": ".py",
   "mimetype": "text/x-python",
   "name": "python",
   "nbconvert_exporter": "python",
   "pygments_lexer": "ipython3",
   "version": "3.7.4"
  }
 },
 "nbformat": 4,
 "nbformat_minor": 2
}
