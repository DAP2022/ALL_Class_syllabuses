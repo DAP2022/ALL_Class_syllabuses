{
 "cells": [
  {
   "cell_type": "markdown",
   "metadata": {},
   "source": [
    "## Modularization: Tools when you need them, they don’t automatically load\n",
    "* Collection of specialized functions, data types\n",
    "    * More efficient\n",
    "    * Allows for code re-use\n",
    "    * Acts as documentation for other programmers (or you) who read your program later\n",
    "* Library – a module which contains groups of related functions (we will see this in R)\n",
    "* In Module 3 when we are dealing with regular functions we will see two particular modules that need to be imported (re,os)\n",
    "\n",
    "From Lecture_2Di:\n",
    "\n",
    "* We can import modules (we saw this in an earlier example) that contain functions and variables or we can create our own:\n",
    "\n",
    "<div class=\"alert alert-block alert-warning\">\n",
    "\t\t\n",
    "        \n",
    "        import math   \n",
    "#you can also import ALL functions from a module by using the astericks symbol, *\n",
    "\t\t\n",
    "        print(math.sqrt(100))\n",
    "        \n",
    " <div class=\"alert alert-block alert-warning\">\n",
    "    \n",
    "    \n",
    "#or, equivalently, we can bring in just one function from a module like so:\n",
    "        \n",
    "\t\tfrom math import sqrt\n",
    "\t\tprint(sqrt(100))"
   ]
  },
  {
   "cell_type": "markdown",
   "metadata": {},
   "source": [
    "# Modules\n",
    "\n",
    "* Python (and most other languages) have built-in functions that are general use\n",
    "* Modules and libraries (we’ll learn about them later) are a way to address discipline-centric functions\n",
    "    * Sometimes, we will will need to write a particular function for our own specific research needs\n",
    "* Come with documentation\n",
    "* The documentation should give you a list of names in the namespace\n",
    "* To get list of names in namespace: \n",
    "\n",
    ">import my_module\n",
    "\n",
    ">print(dir(my_module))\n",
    "\n",
    "* Conventions: \n",
    "* Uppercase names: constants\n",
    "* _names <- are internal use only\n",
    "* _ _ names <- special meaning\n",
    "\n",
    "## Namespace\n",
    "* Scope of the name of the function\n",
    "* Modules have their own namespace (the names of the functions that belong to that particular module)\n",
    "\n",
    ">from my_module import print (<--this imports the print function from my_module instead of using the global print function)\n",
    "\n",
    ">from my_module import * (this means import all functions from my_module)"
   ]
  },
  {
   "cell_type": "code",
   "execution_count": 7,
   "metadata": {},
   "outputs": [
    {
     "name": "stdout",
     "output_type": "stream",
     "text": [
      "['__builtins__', '__cached__', '__doc__', '__file__', '__loader__', '__name__', '__package__', '__spec__', 'get_at_content']\n",
      "7\n",
      "0.8571428571428571\n",
      "*******\n",
      "0.857\n"
     ]
    }
   ],
   "source": [
    "#We can re-use the get_at_content function by treating it as a module\n",
    "#We call the function by calling the file name without the “.py “ extension\n",
    "#Lecture_2Dii_module_ex.py\n",
    "\n",
    "import at_calculator\n",
    "# built in function dir() should give the functions that are in at_calculator.py but\n",
    "# only one is available to be called the others are built in constructors - we'll \n",
    "# worry about some of that when we create Objects of our own (in \n",
    "# object oriented programming section)\n",
    "print(dir(at_calculator))\n",
    "\n",
    "x=at_calculator.get_at_content(\"ATGATTA\")\n",
    "# we could even use the built in round function that we learned about previously. \n",
    "print(\"*******\")\n",
    "print(round(x,3))"
   ]
  },
  {
   "cell_type": "code",
   "execution_count": null,
   "metadata": {},
   "outputs": [],
   "source": [
    "# https://learnpythonthehardway.org/book/ex25.html\n",
    "# We are creating a module here which we will then import into our program below. \n",
    "def break_words(stuff):\n",
    "#This function will break up words for us.\n",
    "#the split method splits on whatever is specified - if nothing is specified, just whitespace\n",
    "    words=stuff.split()\n",
    "    return words\n",
    "\n",
    "def sort_words(words):\n",
    "#sorts the words. \n",
    "#NOTE: SORTED WILL RETURN A LIST THAT IS SORTED BUT IT WON'T MODIFY THE ORIGINAL LIST\n",
    "# WHICH IS WHAT SORT() DOES!\n",
    "    return sorted(words)\n",
    "\n",
    "def print_first_words(words):\n",
    "#Prints the first word after popping it off\n",
    "    word=words.pop(0)\n",
    "    print(word)\n",
    "\n",
    "def print_last_words(words):\n",
    "#Prints the last word after popping it off\n",
    "    word=words.pop(-1)\n",
    "    print(word)\n",
    "    \n",
    "def sort_sentence(sentence):\n",
    "#Takes in a full sentence and returns the sorted words.\n",
    "    #a function calling another function\n",
    "    words=break_words(sentence)\n",
    "    print(sort_words(words))\n",
    "\n",
    "def print_first_and_last(sentence):\n",
    "#Prints the first and the last words of a sentence\n",
    "#a function calling another function\n",
    "    words=break_words(sentence)\n",
    "    print_first_word(words)\n",
    "    print_last_word(words)\n",
    "\n",
    "def print_first_and_last_sorted(sentence):\n",
    "#sorts the words and then prints the first and last.\n",
    "#a function calling another function\n",
    "    words=sort_sentence(sentence)\n",
    "    print_first_words(words)\n",
    "    print_last_words(words)\n"
   ]
  },
  {
   "cell_type": "code",
   "execution_count": 8,
   "metadata": {},
   "outputs": [
    {
     "name": "stdout",
     "output_type": "stream",
     "text": [
      "['There', 'is', 'grandeur', 'in', 'this', 'view', 'of', 'life']\n",
      "['There', 'grandeur', 'in', 'is', 'life', 'of', 'this', 'view']\n",
      "There\n",
      "life\n",
      "['There', 'grandeur', 'in', 'is', 'life', 'of', 'this', 'view']\n"
     ]
    }
   ],
   "source": [
    "# We are going to call the program above- which is saved in the mypython folder \n",
    "# - as a module!\n",
    "# in order to do that, we will call it with the name only (no .py ending!)\n",
    "\n",
    "import Lecture_2dii_module_from_LPTHW\n",
    "\n",
    "sentence = \"There is grandeur in this view of life\"\n",
    "words = Lecture_2dii_module_from_LPTHW.break_words(sentence)\n",
    "print(words)\n",
    "sorted_words = Lecture_2dii_module_from_LPTHW.sort_words(words)\n",
    "print(sorted_words)\n",
    "Lecture_2dii_module_from_LPTHW.print_first_words(words)\n",
    "Lecture_2dii_module_from_LPTHW.print_last_words(words)\n",
    "print(sorted_words)"
   ]
  },
  {
   "cell_type": "markdown",
   "metadata": {},
   "source": [
    "## Lastly, this isn't entirely function-related but I think it sort of fits with the idea of modularization: \n",
    "    * you can call other languages in different cells. \n",
    "    \n",
    "    * Ju(lia)pyt(on)e(R)\n",
    "    \n",
    "    * You *CAN* try this with R in the cell below *BUT* You will need to install the Rstudio icon in Anaconda to run R, so you don't have to. I am including it just to remind you that you are capable of switching between languages in adjacent cells which is a pretty powerful (and just plain cool) feature of Jupyter.\n",
    "    \n",
    "    * CHANGE THE KERNEL TO RUN R in the next cell"
   ]
  },
  {
   "cell_type": "code",
   "execution_count": 1,
   "metadata": {},
   "outputs": [
    {
     "data": {
      "text/html": [
       "6"
      ],
      "text/latex": [
       "6"
      ],
      "text/markdown": [
       "6"
      ],
      "text/plain": [
       "[1] 6"
      ]
     },
     "metadata": {},
     "output_type": "display_data"
    },
    {
     "data": {
      "text/html": [
       "1"
      ],
      "text/latex": [
       "1"
      ],
      "text/markdown": [
       "1"
      ],
      "text/plain": [
       "[1] 1"
      ]
     },
     "metadata": {},
     "output_type": "display_data"
    },
    {
     "data": {
      "text/html": [
       "<table>\n",
       "<thead><tr><th scope=col>age</th><th scope=col>proportion.black</th></tr></thead>\n",
       "<tbody>\n",
       "\t<tr><td> 1.1</td><td>0.21</td></tr>\n",
       "\t<tr><td> 1.5</td><td>0.14</td></tr>\n",
       "\t<tr><td> 1.9</td><td>0.11</td></tr>\n",
       "\t<tr><td> 2.2</td><td>0.13</td></tr>\n",
       "\t<tr><td> 2.6</td><td>0.12</td></tr>\n",
       "\t<tr><td> 3.2</td><td>0.13</td></tr>\n",
       "\t<tr><td> 3.2</td><td>0.12</td></tr>\n",
       "\t<tr><td> 2.9</td><td>0.18</td></tr>\n",
       "\t<tr><td> 2.4</td><td>0.23</td></tr>\n",
       "\t<tr><td> 2.1</td><td>0.22</td></tr>\n",
       "\t<tr><td> 1.9</td><td>0.20</td></tr>\n",
       "\t<tr><td> 1.9</td><td>0.17</td></tr>\n",
       "\t<tr><td> 1.9</td><td>0.15</td></tr>\n",
       "\t<tr><td> 1.9</td><td>0.27</td></tr>\n",
       "\t<tr><td> 2.8</td><td>0.26</td></tr>\n",
       "\t<tr><td> 3.6</td><td>0.21</td></tr>\n",
       "\t<tr><td> 4.3</td><td>0.30</td></tr>\n",
       "\t<tr><td> 3.8</td><td>0.42</td></tr>\n",
       "\t<tr><td> 4.2</td><td>0.43</td></tr>\n",
       "\t<tr><td> 5.4</td><td>0.59</td></tr>\n",
       "\t<tr><td> 5.8</td><td>0.60</td></tr>\n",
       "\t<tr><td> 6.0</td><td>0.72</td></tr>\n",
       "\t<tr><td> 3.4</td><td>0.29</td></tr>\n",
       "\t<tr><td> 4.0</td><td>0.10</td></tr>\n",
       "\t<tr><td> 7.3</td><td>0.48</td></tr>\n",
       "\t<tr><td> 7.3</td><td>0.44</td></tr>\n",
       "\t<tr><td> 7.8</td><td>0.34</td></tr>\n",
       "\t<tr><td> 7.1</td><td>0.37</td></tr>\n",
       "\t<tr><td> 7.1</td><td>0.34</td></tr>\n",
       "\t<tr><td>13.1</td><td>0.74</td></tr>\n",
       "\t<tr><td> 8.8</td><td>0.79</td></tr>\n",
       "\t<tr><td> 5.4</td><td>0.51</td></tr>\n",
       "</tbody>\n",
       "</table>\n"
      ],
      "text/latex": [
       "\\begin{tabular}{r|ll}\n",
       " age & proportion.black\\\\\n",
       "\\hline\n",
       "\t  1.1 & 0.21\\\\\n",
       "\t  1.5 & 0.14\\\\\n",
       "\t  1.9 & 0.11\\\\\n",
       "\t  2.2 & 0.13\\\\\n",
       "\t  2.6 & 0.12\\\\\n",
       "\t  3.2 & 0.13\\\\\n",
       "\t  3.2 & 0.12\\\\\n",
       "\t  2.9 & 0.18\\\\\n",
       "\t  2.4 & 0.23\\\\\n",
       "\t  2.1 & 0.22\\\\\n",
       "\t  1.9 & 0.20\\\\\n",
       "\t  1.9 & 0.17\\\\\n",
       "\t  1.9 & 0.15\\\\\n",
       "\t  1.9 & 0.27\\\\\n",
       "\t  2.8 & 0.26\\\\\n",
       "\t  3.6 & 0.21\\\\\n",
       "\t  4.3 & 0.30\\\\\n",
       "\t  3.8 & 0.42\\\\\n",
       "\t  4.2 & 0.43\\\\\n",
       "\t  5.4 & 0.59\\\\\n",
       "\t  5.8 & 0.60\\\\\n",
       "\t  6.0 & 0.72\\\\\n",
       "\t  3.4 & 0.29\\\\\n",
       "\t  4.0 & 0.10\\\\\n",
       "\t  7.3 & 0.48\\\\\n",
       "\t  7.3 & 0.44\\\\\n",
       "\t  7.8 & 0.34\\\\\n",
       "\t  7.1 & 0.37\\\\\n",
       "\t  7.1 & 0.34\\\\\n",
       "\t 13.1 & 0.74\\\\\n",
       "\t  8.8 & 0.79\\\\\n",
       "\t  5.4 & 0.51\\\\\n",
       "\\end{tabular}\n"
      ],
      "text/markdown": [
       "\n",
       "| age | proportion.black |\n",
       "|---|---|\n",
       "|  1.1 | 0.21 |\n",
       "|  1.5 | 0.14 |\n",
       "|  1.9 | 0.11 |\n",
       "|  2.2 | 0.13 |\n",
       "|  2.6 | 0.12 |\n",
       "|  3.2 | 0.13 |\n",
       "|  3.2 | 0.12 |\n",
       "|  2.9 | 0.18 |\n",
       "|  2.4 | 0.23 |\n",
       "|  2.1 | 0.22 |\n",
       "|  1.9 | 0.20 |\n",
       "|  1.9 | 0.17 |\n",
       "|  1.9 | 0.15 |\n",
       "|  1.9 | 0.27 |\n",
       "|  2.8 | 0.26 |\n",
       "|  3.6 | 0.21 |\n",
       "|  4.3 | 0.30 |\n",
       "|  3.8 | 0.42 |\n",
       "|  4.2 | 0.43 |\n",
       "|  5.4 | 0.59 |\n",
       "|  5.8 | 0.60 |\n",
       "|  6.0 | 0.72 |\n",
       "|  3.4 | 0.29 |\n",
       "|  4.0 | 0.10 |\n",
       "|  7.3 | 0.48 |\n",
       "|  7.3 | 0.44 |\n",
       "|  7.8 | 0.34 |\n",
       "|  7.1 | 0.37 |\n",
       "|  7.1 | 0.34 |\n",
       "| 13.1 | 0.74 |\n",
       "|  8.8 | 0.79 |\n",
       "|  5.4 | 0.51 |\n",
       "\n"
      ],
      "text/plain": [
       "   age  proportion.black\n",
       "1   1.1 0.21            \n",
       "2   1.5 0.14            \n",
       "3   1.9 0.11            \n",
       "4   2.2 0.13            \n",
       "5   2.6 0.12            \n",
       "6   3.2 0.13            \n",
       "7   3.2 0.12            \n",
       "8   2.9 0.18            \n",
       "9   2.4 0.23            \n",
       "10  2.1 0.22            \n",
       "11  1.9 0.20            \n",
       "12  1.9 0.17            \n",
       "13  1.9 0.15            \n",
       "14  1.9 0.27            \n",
       "15  2.8 0.26            \n",
       "16  3.6 0.21            \n",
       "17  4.3 0.30            \n",
       "18  3.8 0.42            \n",
       "19  4.2 0.43            \n",
       "20  5.4 0.59            \n",
       "21  5.8 0.60            \n",
       "22  6.0 0.72            \n",
       "23  3.4 0.29            \n",
       "24  4.0 0.10            \n",
       "25  7.3 0.48            \n",
       "26  7.3 0.44            \n",
       "27  7.8 0.34            \n",
       "28  7.1 0.37            \n",
       "29  7.1 0.34            \n",
       "30 13.1 0.74            \n",
       "31  8.8 0.79            \n",
       "32  5.4 0.51            "
      ]
     },
     "metadata": {},
     "output_type": "display_data"
    }
   ],
   "source": [
    "# YOU NEED TO DOWNLOAD RSTUDIO SO THAT IT IS IN THE SAME PATH AS\n",
    "# ANACONDA AND YOU NEED TO change THE kernel for this cell to R\n",
    "sum(1+2+3)\n",
    "median(1,2,3,4,4,5,6)\n",
    "#I had to ensure that this file was in the correct path - in my case, mypython\n",
    "lion_age1<-read.csv(\"17e1LionAges.csv\")\n",
    "lion_age1"
   ]
  },
  {
   "cell_type": "code",
   "execution_count": null,
   "metadata": {},
   "outputs": [],
   "source": []
  },
  {
   "cell_type": "code",
   "execution_count": null,
   "metadata": {},
   "outputs": [],
   "source": []
  }
 ],
 "metadata": {
  "kernelspec": {
   "display_name": "Python 3",
   "language": "python",
   "name": "python3"
  },
  "language_info": {
   "codemirror_mode": {
    "name": "ipython",
    "version": 3
   },
   "file_extension": ".py",
   "mimetype": "text/x-python",
   "name": "python",
   "nbconvert_exporter": "python",
   "pygments_lexer": "ipython3",
   "version": "3.7.4"
  }
 },
 "nbformat": 4,
 "nbformat_minor": 2
}
