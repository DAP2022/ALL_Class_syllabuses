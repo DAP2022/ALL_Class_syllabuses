{
 "cells": [
  {
   "cell_type": "markdown",
   "metadata": {},
   "source": [
    "### Summary: \n",
    "1. I/O  - including input() user provided data\n",
    "2. lists and associated methods "
   ]
  },
  {
   "cell_type": "markdown",
   "metadata": {},
   "source": [
    "## For loops\n",
    "* When we need/want to apply the same procedure/manipulation to a bunch of items - for instance, not coincidentally, to a bunch of elements that are in a list!\n",
    "* We can *iterate* over each specified element in a list (we can also apply criteria/conditions to which elements are chosen but that will be lecture_2E)\n",
    "* when we have a specific number of items to iterate through, we use **for** (if we don't know how many items, we might use **while** but that is later)\n",
    "\n",
    "**Syntax**\n",
    "\n",
    "**for** number in my_list**:**\n",
    "    \n",
    "    Body of the loop - do something for each element in my_list\n",
    "    \n",
    "*The body of the loop must have the same indentation and you can use spaces or tabs but **not** a combination of both\n",
    "    * indentation errors can result\n",
    "    * STICK TO **FOUR SPACES**\n",
    "* we can exit a particular loop with the **break** keyword  (note that if you use break on an inner for loop, it will continue looping through any outer for loops; it only 'breaks' out of the for loop in it's scope)\n",
    "\n",
    "* we will probably encounter the **pass** keyword, too. This is used as a place holder for future code and mostly results from Python's use of whitespace. \n",
    "\n",
    "**Scope**\n",
    "\n",
    "* In the example in a couple of cells, **num** and **i** is a variable name that only exists - properly - in the loop; you can't call it outside of the loop and expect it to still be iterable. If you call it outside the loop, it should just give you the last element that was called (because that is what is stored in memory).\n",
    "\n",
    "* it automatically iterates through the provided list which means it is set to the next element of the list as it goes through the loop. This is markedly different from some other languages, say Java, which requires you to keep track of each iteration with an increment operator like i++ and explicitly set the initial variable to 0\n",
    "\n",
    "* Indent the **action** in the loop\n",
    "    * indentation is functionally the same as curly brackets in other languages\n",
    "    * incorrect indentation will lead to indentation errors"
   ]
  },
  {
   "cell_type": "code",
   "execution_count": 9,
   "metadata": {},
   "outputs": [
    {
     "name": "stdout",
     "output_type": "stream",
     "text": [
      "[]\n",
      "What's your hobby?: math\n",
      "['math']\n",
      "We are in the 0 iteration\n",
      "What's your hobby?: genetic\n",
      "['math', 'genetic']\n",
      "We are in the 1 iteration\n",
      "What's your hobby?: dogs\n",
      "['math', 'genetic', 'dogs']\n",
      "We are in the 2 iteration\n",
      "['math', 'genetic', 'dogs']\n",
      "2\n"
     ]
    }
   ],
   "source": [
    "#stolen from codeacademy which had an easily readable section on for loops, if you are confused!\n",
    "hobbies = []\n",
    "print(hobbies)\n",
    "# in the above example our iterator was 'number' but it could be anything. In this case,\n",
    "# it is 'i'\n",
    "# for loops always start at '0' element unless explicitly told not to by lower bound on\n",
    "# range. range behaves different ways depending on how many arguments are provided to it. \n",
    "# This behaviour is called \"overloading\" and we will see this is more detail below.\n",
    "# For now, notice that range(3) can also be written as: range(0,3) or range(0,3,1).\n",
    "for i in range(3):\n",
    "    hobby=input(\"What's your hobby?: \")\n",
    "    hobbies.append(hobby)\n",
    "    print(hobbies)\n",
    "    print(\"We are in the \"+str(i)+\" iteration\")\n",
    "    #if this was java, we would need to add 1 to the counter for each time through a loop\n",
    "    # But it isn't java so we don't have to! Hurray!\n",
    "print(hobbies)\n",
    "print(i)"
   ]
  },
  {
   "cell_type": "code",
   "execution_count": 8,
   "metadata": {},
   "outputs": [
    {
     "name": "stdout",
     "output_type": "stream",
     "text": [
      "Homo sapiens is an ape. Its name starts with H\n",
      "Its name has 12 letters\n",
      "This line will get printed each time through a loop\n",
      "Pan troglodytes is an ape. Its name starts with P\n",
      "Its name has 15 letters\n",
      "This line will get printed each time through a loop\n",
      "Gorilla gorilla is an ape. Its name starts with G\n",
      "Its name has 15 letters\n",
      "This line will get printed each time through a loop\n",
      "this line will only get printed once\n",
      "____________________________________________________________\n",
      "['Homo sapiens', 'Pan troglodytes', 'Gorilla gorilla']\n",
      "Gorilla gorilla\n"
     ]
    }
   ],
   "source": [
    "#stolen from previous list example in Lecture_Ci, this will show how we iterate through a loop\n",
    "apes = [\"Homo sapiens\", \"Pan troglodytes\", \"Gorilla gorilla\"]\n",
    "\n",
    "#Note that the iterator in this case is called 'ape'. This is a common convention. Note \n",
    "# that if you tried to print(ape) outside of the loop it will just give you the last\n",
    "# element that it iterated through.\n",
    "\n",
    "for ape in apes:\n",
    "    name_length=len(ape)\n",
    "    first_letter=ape[0]\n",
    "    print(ape+ \" is an ape. Its name starts with \"+first_letter)\n",
    "    print(\"Its name has \"+str(name_length)+ \" letters\")\n",
    "    print(\"This line will get printed each time through a loop\")\n",
    "print(\"this line will only get printed once\")\n",
    "print(\"___\"*20)\n",
    "print(apes)\n",
    "print(ape)"
   ]
  },
  {
   "cell_type": "code",
   "execution_count": 4,
   "metadata": {},
   "outputs": [
    {
     "name": "stdout",
     "output_type": "stream",
     "text": [
      "This list contains: \n",
      "7\n",
      "9\n",
      "12\n",
      "54\n",
      "99\n",
      "~~~~~~~~~~~~~~~~~~~\n",
      "49\n",
      "81\n",
      "144\n",
      "2916\n",
      "9801\n",
      "The value of the iterator, num: \n",
      "-------------------------------\n",
      "99\n",
      "The value of the iterator, i: \n",
      "-------------------------------\n",
      "99\n",
      "The value of the list itself, numbers: \n",
      "-------------------------------\n",
      "[7, 9, 12, 54, 99]\n"
     ]
    }
   ],
   "source": [
    "# a less interesting but illustrative example of SCOPE: \n",
    "#basic lists and for loops demonstration\n",
    "numbers=[7,9,12,54,99]\n",
    "\n",
    "print(\"This list contains: \")\n",
    "\n",
    "for num in numbers:\n",
    "    print(num)\n",
    "    \n",
    "print(\"~~~~~~~~~~~~~~~~~~~\")\n",
    "\n",
    "for i in numbers:\n",
    "    print(i**2)\n",
    "\n",
    "#this will print out the last iterated element for the above two loops since num and i \n",
    "# have scope that is limited to their loops  \n",
    "print(\"The value of the iterator, num: \")\n",
    "print(\"-------------------------------\")\n",
    "print(num)\n",
    "print(\"The value of the iterator, i: \")\n",
    "print(\"-------------------------------\")\n",
    "print(i)\n",
    "print(\"The value of the list itself, numbers: \")\n",
    "print(\"-------------------------------\")\n",
    "print(numbers)"
   ]
  },
  {
   "cell_type": "markdown",
   "metadata": {},
   "source": [
    "## Looping with ranges: \n",
    "* range() is a built in function that generates lists of numbers for us to loop over\n",
    "* behaviour of range() is dependent on how many arguments we give it (overloading): \n",
    "    1. one number: range(n) --> 0 to n-1\n",
    "    2. two numbers: range(lower number, higher number) --> lower number to higher number-1\n",
    "    3. three numbers: range(lower number, higher number,increment size)\n",
    "* inclusive on lower end, exclusive on upper end "
   ]
  },
  {
   "cell_type": "code",
   "execution_count": null,
   "metadata": {},
   "outputs": [],
   "source": [
    "#loops with ranges examples: \n",
    "#ranges\n",
    "for number in range(6):\n",
    "    print(number)\n",
    "\n",
    "print(\"-----\")\n",
    "for number in range(3, 8):\n",
    "    print(number)\n",
    "    \n",
    "print(\"*****\")\n",
    "for number in range(2, 14, 4):\n",
    "    print(number)"
   ]
  },
  {
   "cell_type": "markdown",
   "metadata": {},
   "source": [
    "### You will iterate over a string or a list A LOT\n",
    "* if you write a loop statement with a string where a list would be, the loop will process each character in the string as an element (one character at a time)\n",
    "* even though we don't explicitly have an enumerator in Python (like we do in C++, java etc), we sometimes need one: \n",
    "    * Built in function enumerate() which supplies an index to each element of the list as you go through it so you can count where each item is located\n"
   ]
  },
  {
   "cell_type": "code",
   "execution_count": 5,
   "metadata": {},
   "outputs": [
    {
     "name": "stdout",
     "output_type": "stream",
     "text": [
      "s\n",
      "p\n",
      "a\n",
      "m\n",
      "!\n",
      "e\n",
      "g\n",
      "g\n",
      "s\n",
      "!\n",
      "Your choices are:\n",
      "0 Spam pizza\n",
      "1 Spam & pasta\n",
      "2 Spam & salad\n",
      "3 Spam nachos\n"
     ]
    }
   ],
   "source": [
    "#Iteration over a String\n",
    "thing = \"spam!\"\n",
    "\n",
    "#iterate over each character in this string\n",
    "for c in thing:\n",
    "    print(c)\n",
    "\n",
    "word = \"eggs!\"\n",
    "for a in word:\n",
    "    print(a)\n",
    "    \n",
    "# You could also iterate over a list and use the built in function enumerate to keep \n",
    "# track of the index\n",
    "choices = [\"Spam pizza\", \"Spam & pasta\", \"Spam & salad\", \"Spam nachos\"]\n",
    "\n",
    "print(\"Your choices are:\")\n",
    "\n",
    "for index_1, item in enumerate(choices):\n",
    "    print(index_1, item)"
   ]
  },
  {
   "cell_type": "markdown",
   "metadata": {},
   "source": [
    "### Sometimes, we want to iterate over MULTIPLE lists simultaneously\n",
    "*Built in function **zip** which creates pairs (or more) of elements when passed two (or more) lists and will stop at the shorter list"
   ]
  },
  {
   "cell_type": "code",
   "execution_count": null,
   "metadata": {},
   "outputs": [],
   "source": [
    "print(\"And now for something completely different - multiple lists: \")\n",
    "# iterating over multiple lists simultaneously\n",
    "list_a = [3, 9, 17, 15, 40]\n",
    "list_b = [2, 4, 17, 15, 30, 40, 50, 60, 70, 80, 90]\n",
    "\n",
    "for a, b in zip(list_a, list_b):\n",
    "    # we will learn about Boolean logic soon. != means not equal to \n",
    "    if a != b:\n",
    "        if a >b:\n",
    "            print(a)\n",
    "        else:\n",
    "            print(b)\n",
    "    else:\n",
    "        print(\"a and b are equal\")"
   ]
  },
  {
   "cell_type": "markdown",
   "metadata": {},
   "source": [
    "### We can split a string to make a list!\n",
    "* .split() <--works on strings to produce a list which we can then iterate over!\n",
    "    * takes a single argument, a delimiter, which is the point at which the original string is split"
   ]
  },
  {
   "cell_type": "code",
   "execution_count": 13,
   "metadata": {},
   "outputs": [
    {
     "name": "stdout",
     "output_type": "stream",
     "text": [
      "This string is now a list: ['melanogaster', ' simulans', ' yakuba', ' ananassae']\n"
     ]
    }
   ],
   "source": [
    "names=\"melanogaster, simulans, yakuba, ananassae\"\n",
    "# note that the specified argument is what is being used as the \n",
    "# split criteria and is not included in the resulting list\n",
    "species=names.split(\",\")\n",
    "print(\"This string is now a list: \"+str(species))\n",
    "# you could substitute 'an' instead of ',' and see what is printed out\n",
    "#species2=names.split(\"an\")\n",
    "#print(\"This string is now a list: \"+str(species2))"
   ]
  },
  {
   "cell_type": "code",
   "execution_count": 1,
   "metadata": {},
   "outputs": [
    {
     "name": "stdout",
     "output_type": "stream",
     "text": [
      "['GGG', 'GAC', 'TTT', 'CCC', 'CGGA']\n",
      "['', 'GGG', 'GAC', 'TTT', 'CCC', 'CGG', '']\n"
     ]
    }
   ],
   "source": [
    "#split gives unanticipated behaviour if cut argument is at \n",
    "# the very beginning or the very end of string\n",
    "mySeq=\"GGGATGACATTTTATCCCATCGGA\"\n",
    "testlist=mySeq.split(\"AT\")\n",
    "print(testlist)\n",
    "mySeqBeginningorEnd=\"ATGGGATGACATTTTATCCCATCGGAT\"\n",
    "testlist2=mySeqBeginningorEnd.split(\"AT\")\n",
    "print(testlist2)\n",
    "# See? there are now two empty elements, corresponding to the AT\n",
    "# at the beginning of the string and at the end"
   ]
  },
  {
   "cell_type": "markdown",
   "metadata": {},
   "source": [
    "### We can iterate over a file object\n",
    "* file object can be turned into a list for the purpose of looping (similar to how a string is turned into a list)\n",
    "* When a file object is turned into a list, each line becomes an element that can be iterated over\n",
    "\n",
    "__Warning:__\n",
    "\n",
    "__When reading data from a file use either read method (lecture_2B), which stores entire contents in a variable, or use loop method, which deals with each line separately. If you mix them you will get unexpected behaviour!__ "
   ]
  },
  {
   "cell_type": "code",
   "execution_count": 4,
   "metadata": {},
   "outputs": [
    {
     "name": "stdout",
     "output_type": "stream",
     "text": [
      "<_io.TextIOWrapper name='data.csv' mode='r' encoding='UTF-8'>\n",
      "********************\n",
      "['Drosophila melanogaster,atatatatatcgcgtatatatacgactatatgcattaattatagcatatcgatatatatatcgatattatatcgcattatacgcgcgtaattatatcgcgtaattacga,kdy647,264\\n', 'Drosophila melanogaster,actgtgacgtgtactgtacgactatcgatacgtagtactgatcgctactgtaatgcatccatgctgacgtatctaagt,jdg766,185\\n', 'Drosophila simulans,atcgatcatgtcgatcgatgatgcatccgactatcgtcgatcgtgatcgatcgatcgatcatcgatcgatgtcgatcatgtcgatatcgt,kdy533,485\\n', 'Drosophila yakuba,cgcgcgctcgcgcatacggcctaatgcgcgcgctagcgatgc,hdt739,85\\n', 'Drosophila ananassae,ttacgatcgatcgatcgatcgatcgtcgatcgtcgatgctacatcgatcatcatcggattagtcacatcgatcgatcatcgactgatcgtcgatcgtagatgctgacatcgatagca,hdu045,356\\n', 'Drosophila ananassae,gcatcgatcgatcgcggcgcatcgatcgcgatcatcgatcatacgcgtcatatctatacgtcactgccgcgcgtatctacgcgatgactagctagact,teg436,222']\n",
      "********************\n",
      "The length is 145\n",
      "0 Drosophila melanogaster,atatatatatcgcgtatatatacgactatatgcattaattatagcatatcgatatatatatcgatattatatcgcattatacgcgcgtaattatatcgcgtaattacga,kdy647,264\n",
      "\n",
      "The length is 114\n",
      "1 Drosophila melanogaster,actgtgacgtgtactgtacgactatcgatacgtagtactgatcgctactgtaatgcatccatgctgacgtatctaagt,jdg766,185\n",
      "\n",
      "The length is 122\n",
      "2 Drosophila simulans,atcgatcatgtcgatcgatgatgcatccgactatcgtcgatcgtgatcgatcgatcgatcatcgatcgatgtcgatcatgtcgatatcgt,kdy533,485\n",
      "\n",
      "The length is 71\n",
      "3 Drosophila yakuba,cgcgcgctcgcgcatacggcctaatgcgcgcgctagcgatgc,hdt739,85\n",
      "\n",
      "The length is 150\n",
      "4 Drosophila ananassae,ttacgatcgatcgatcgatcgatcgtcgatcgtcgatgctacatcgatcatcatcggattagtcacatcgatcgatcatcgactgatcgtcgatcgtagatgctgacatcgatagca,hdu045,356\n",
      "\n",
      "The length is 130\n",
      "5 Drosophila ananassae,gcatcgatcgatcgcggcgcatcgatcgcgatcatcgatcatacgcgtcatatctatacgtcactgccgcgcgtatctacgcgatgactagctagact,teg436,222\n",
      "The first character is D\n",
      "The first character is D\n",
      "The first character is D\n",
      "The first character is D\n",
      "The first character is D\n",
      "The first character is D\n"
     ]
    }
   ],
   "source": [
    "#first store a list of lines in the file which, coincidentally, is what readlines() does!\n",
    "# you will need to create a file called \"data.csv\"\n",
    "file = open(\"data.csv\")\n",
    "#this will be a pointer to the file object, named 'file'\n",
    "print(file)\n",
    "print(\"*\"*20)\n",
    "all_lines = file.readlines()\n",
    "#all_lines will print out all the content of the file object\n",
    "print(all_lines)\n",
    "# useful to note that there are hidden characters present, \\n\n",
    "print(\"*\"*20)\n",
    "# print the lengths. Let's use the handy enumerate function to list the index of \n",
    "# each of the elements\n",
    "for index,line in enumerate(all_lines):\n",
    "    print(\"The length is \" + str(len(line)))\n",
    "    print(index, line)\n",
    "\n",
    "# print the first characters\n",
    "for line in all_lines:\n",
    "    print(\"The first character is \" + line[0])"
   ]
  },
  {
   "cell_type": "markdown",
   "metadata": {},
   "source": [
    "### Sorting lists\n",
    "*.sort() modifies the original list (strings will be alphabeticized) rather than returning a new list"
   ]
  },
  {
   "cell_type": "code",
   "execution_count": null,
   "metadata": {},
   "outputs": [],
   "source": [
    "#here is a boring list\n",
    "start_list = [5, 3, 1, 2, 4]\n",
    "# This is a common strategy: instantiate an empty list outside of a loop (due to 'scope')\n",
    "# and then fill it up/manipuate it in a loop\n",
    "square_list = []\n",
    "for number in start_list:\n",
    "    square_list.append(number**2)\n",
    "print(square_list)\n",
    "print(\"~~~~~~~~The list created in the loop, has been sorted: ~~~~~~~~~~~\")\n",
    "square_list.sort()\n",
    "print(square_list)\n",
    "print(\"~~~~~~~~~~The starting list is: ~~~~~~~~\")\n",
    "print(start_list)\n",
    "print(\"~~~~~~~~~~~Here it is sorted~~~~~~~~\")\n",
    "start_list.sort()\n",
    "print(start_list)\n",
    "print(\"~~~~~~~You can see above that the sort method has changed the original list~~~~~~~~~~~~\")"
   ]
  },
  {
   "cell_type": "markdown",
   "metadata": {},
   "source": [
    "## List Comprehensions!\n",
    "* AKA: ternary expressions\n",
    "* Generate lists according to rules and using for/in and if key words\n",
    "* Reduces loops to one line commands\n",
    "* Syntax is even more important than normal because they can be challenging to understand since they are 'short hand'\n",
    "* Basic format: \n",
    "        \n",
    "            L=[expression for variable in sequence]\n",
    "\n",
    "* the expression in a list comprehension will be evaluated once for every variable in a given sequence"
   ]
  },
  {
   "cell_type": "code",
   "execution_count": 1,
   "metadata": {},
   "outputs": [
    {
     "name": "stdout",
     "output_type": "stream",
     "text": [
      "[0, 2, 4, 6, 8, 10, 12, 14, 16, 18, 20, 22, 24, 26, 28, 30, 32, 34, 36, 38, 40, 42, 44, 46, 48, 50]\n",
      "[1, 4, 9, 16, 25, 36, 49, 64, 81, 100]\n",
      "[9, 25, 49, 81]\n",
      "List in reverse now:\n",
      "[81, 49, 25, 9]\n",
      "[6]\n",
      "[4, 16, 36, 64, 100]\n"
     ]
    }
   ],
   "source": [
    "#1. list comprehension that creates a list of even numbers up to and including 50\n",
    "evens_to_50=[i for i in range(51) if i%2==0]\n",
    "print(evens_to_50)\n",
    "\n",
    "#2. We can revisit slicing within a list comprehension: \n",
    "l = [i ** 2 for i in range(1, 11)]\n",
    "#this is an example of slicing a list - we are only printing out a subset\n",
    "\n",
    "print(l)\n",
    "print(l[2:9:2])\n",
    "# *****************************************\n",
    "# I realized that I had not emphasized this useful point before so.....\n",
    "# As an additional point, you can slice in reverse by using -increment like so:\n",
    "print(\"List in reverse now:\")\n",
    "print(l[8:1:-2])\n",
    "# *****************************************\n",
    "#3. prints out a listof numbers that are divisible by 3 when they are doubled from 2-10. So it should result in 6. \n",
    "\n",
    "doubles_by_3 = [x*2 for x in range(1,6) if (x*2) % 3 == 0]\n",
    "print(doubles_by_3)\n",
    "\n",
    "#4. Another example: This should only print out the power of 2 for even numbers so the result will be: 4,16,36,64,100\n",
    "\n",
    "even_squares = [x**2 for x in range(1,11) if x%2 ==0]\n",
    "\n",
    "print(even_squares)"
   ]
  },
  {
   "cell_type": "code",
   "execution_count": null,
   "metadata": {},
   "outputs": [],
   "source": [
    "#Expanded code that explains what the above 4 list comprehensions do\n",
    "#1. The larger script that is equivalent to the first list comprehension is: \n",
    "#initializing an empty list that you are going to fill using the for loop\n",
    "# evens_to_50=[i for i in range(51) if i%2==0]\n",
    "# print(evens_to_50)\n",
    "evens_to_50=[]\n",
    "# I decided to make another list that contains the odd numbers\n",
    "#odds_to_50=[]\n",
    "for i in range(51):\n",
    "    if i%2==0:\n",
    "        evens_to_50.append(i)\n",
    "    #else: \n",
    "     #   odds_to_50.append(i)\n",
    "print(evens_to_50)\n",
    "#print(odds_to_50)\n",
    "   \n",
    "#2. \n",
    "l=[]\n",
    "for i in range(1,11):\n",
    "    l.append(i**2)   \n",
    "print(l[2:9:2])\n",
    "\n",
    "#3\n",
    "doubles_by_3 = []\n",
    "for x in range(1,6):\n",
    "    if (x*2)%3 == 0:\n",
    "        doubles_by_3.append(x*2)\n",
    "#print(\"what do I expect: 6. What do I get:  \")\n",
    "print(doubles_by_3)\n",
    "\n",
    "#4\n",
    "even_squares = []\n",
    "for x in range(1,11):\n",
    "    if x%2 ==0:\n",
    "        even_squares.append(x**2)\n",
    "\n",
    "print(even_squares)"
   ]
  },
  {
   "cell_type": "markdown",
   "metadata": {},
   "source": [
    "# Discussion thread Example: \n",
    "_________________________________\n",
    "* let's see if we can combine our knowledge of lists and loops to create a string of random A,G,T,C values that is 25 nucleotides long. How about *n* nucleotides long? "
   ]
  }
 ],
 "metadata": {
  "kernelspec": {
   "display_name": "Python 3",
   "language": "python",
   "name": "python3"
  },
  "language_info": {
   "codemirror_mode": {
    "name": "ipython",
    "version": 3
   },
   "file_extension": ".py",
   "mimetype": "text/x-python",
   "name": "python",
   "nbconvert_exporter": "python",
   "pygments_lexer": "ipython3",
   "version": "3.7.4"
  }
 },
 "nbformat": 4,
 "nbformat_minor": 2
}
