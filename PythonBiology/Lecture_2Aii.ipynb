{
 "cells": [
  {
   "cell_type": "markdown",
   "metadata": {},
   "source": [
    "#### Summary: \n",
    "* Python has objects, including variables\n",
    "* Python has data types: integers, floats, strings\n",
    "* Each of these data types has associated **methods** that can be used to manipute that particular type of data (also: **attributes**, but we'll worry about those later) \n",
    "* Comment your code - even if you are in a hurry! "
   ]
  },
  {
   "cell_type": "markdown",
   "metadata": {},
   "source": [
    "### Facts about strings (data type)\n",
    "\n",
    "* We care a lot about strings in Biology because we\n",
    "care a lot about _**sequence data**_ like this:\n",
    "\n",
    "**5’-ATGCAGTACCTTA-3**\n",
    "\n",
    "* Strings are **immutable**. What do you think that means? \n",
    "\n",
    "* Like most computer programming languages (except weirdo languages\n",
    "like R and Matlab), we begin counting at 0 (not 1). This is true for\n",
    "strings as well so if we wanted to know what letter was at\n",
    "position X, we could find that out (see example in next cell)."
   ]
  },
  {
   "cell_type": "code",
   "execution_count": 2,
   "metadata": {},
   "outputs": [
    {
     "name": "stdout",
     "output_type": "stream",
     "text": [
      "ATGCGTA\n",
      "*********\n",
      "T\n",
      "___________\n",
      "G\n",
      "ATG\n"
     ]
    }
   ],
   "source": [
    "# assignment operator works like this (oh, and look! I am \n",
    "# commenting my code - even if it is a bit lame, it is a comment): \n",
    "\n",
    "my_DNA='ATGCGTA'\n",
    "\n",
    "# the string ATGCGTA is now stored in memory as the variable my_DNA\n",
    "# and can be accessed by typing my_DNA like so:\n",
    "\n",
    "print(my_DNA)\n",
    "print(\"*********\")\n",
    "\n",
    "#note that what we did above was use a built-in function called \n",
    "# 'print()' and provided it with an argument called my_DNA\n",
    "\n",
    "# we can ask about individual elements in the string. There is\n",
    "# another string slicing example at the end of this notebook.\n",
    "# what do we expect to be printed out by the following? \n",
    "\n",
    "print(my_DNA[5])\n",
    "print(\"___________\")\n",
    "print(my_DNA[4])\n",
    "\n",
    "# what does immutable mean? It is a bit tricky. \n",
    "# The following is allowed:\n",
    "# we can change the value of the variable my_DNA that we assigned above\n",
    "# like so:\n",
    "\n",
    "my_DNA ='ATG'\n",
    "\n",
    "#the following will cause an exception to be raised\n",
    "# Why? \n",
    "# because you can't modify the individual elements of the string\n",
    "# itself once they have been set but you CAN modify the variable\n",
    "# pointing to the string. In simple terms: immutable objects can't \n",
    "# be changed once they are set. However the variable pointing to them\n",
    "# can be changed so that it points to a different value(s)\n",
    "\n",
    "#my_DNA[3]=\"T\"\n",
    "print(my_DNA)"
   ]
  },
  {
   "cell_type": "code",
   "execution_count": 1,
   "metadata": {},
   "outputs": [
    {
     "name": "stdout",
     "output_type": "stream",
     "text": [
      "recognize\n",
      "4426252592\n",
      "*****\n",
      "recognise\n",
      "4427791920\n"
     ]
    }
   ],
   "source": [
    "# Here is another illustration of immutability:\n",
    "AlternativeSpelling='recognize'\n",
    "print(AlternativeSpelling)\n",
    "print(id(AlternativeSpelling))\n",
    "print(\"*\"*5)\n",
    "AlternativeSpelling=AlternativeSpelling.replace('z','s')\n",
    "print(AlternativeSpelling)\n",
    "print(id(AlternativeSpelling))\n",
    "# you should notice that we did not modify the string recognize, \n",
    "# we REPLACED the entire string and put it in a new place in memory.\n",
    "# if we had modified the string, it would still be stored in the same \n",
    "# place in memory. "
   ]
  },
  {
   "cell_type": "code",
   "execution_count": 3,
   "metadata": {},
   "outputs": [
    {
     "name": "stdout",
     "output_type": "stream",
     "text": [
      "ATGATGATGATGATG\n",
      "ATGATG\n",
      "10.0\n",
      "55\n",
      "10\n"
     ]
    }
   ],
   "source": [
    "#we can concatenate strings with + and we can multiply strings.\n",
    "# Remember: EVERYTHING IN PYTHON IS AN OBJECT! \n",
    "\n",
    "print(my_DNA*5)\n",
    "print(my_DNA+my_DNA)\n",
    "print(5.0+5)\n",
    "print(\"5\"+str(5))\n",
    "print(int(\"5\")+5)"
   ]
  },
  {
   "cell_type": "markdown",
   "metadata": {},
   "source": [
    "# Methods\n",
    "There are **methods** and **attributes** that are associated with \n",
    "strings. (Aside: in fact, there are methods associated with \n",
    "EVERYTHING in Python because EVERYTHING in Python IS AN OBJECT.) \n",
    "You can only use methods (functions) with the data type that they \n",
    "are associated with. String methods manipulate the string data type\n",
    "(there will be methods for the different data types that we will see \n",
    "this semester). You can find the list of string methods here \n",
    "(specifically in section 4.7.1): \n",
    "https://docs.python.org/3.6/library/stdtypes.html#string-formatting\n",
    "\n",
    "Or, even more straightforward, you can use the tab after the '.' to discover the methods associated with a type of data.\n",
    "Particularly useful methods include: **find, lower, upper, replace, rstrip, strip, find, count**\n",
    "\n",
    "** tangentially, we can TURN OTHER DATA TYPES INTO STRINGS by using the str() function. This is a feature that we will use really really often and usually in the circumstance of wanting to print a concatenated version of output. "
   ]
  },
  {
   "cell_type": "code",
   "execution_count": 17,
   "metadata": {},
   "outputs": [
    {
     "name": "stdout",
     "output_type": "stream",
     "text": [
      "********************\n",
      "2\n",
      "FOO\n"
     ]
    }
   ],
   "source": [
    "#type in a string like so:\n",
    "\n",
    "a = 'foo'\n",
    "\n",
    "#call the variable a followed by a dot and then use the tab to give\n",
    "#you all the possible attributes and methods associated with this \n",
    "# type of variable. This is called introspection. \n",
    "\n",
    "# I should admit that over the weekend, I \n",
    "# couldn't get this to work but suddenly it does \n",
    "# again. \n",
    "# One of the 'joys' of programming is that occasionally problems\n",
    "# appear and then disappear without you really \n",
    "# understanding why the IDE is doing that...\n",
    "\n",
    "# I have hashed these out in your notebook but you can unhash them \n",
    "#a.\n",
    "a.count('o')\n",
    "\n",
    "#we'll see .replace() method used in the next cell.... we can find out\n",
    "#what it does with by typing: ?variable_name.method\n",
    "\n",
    "#?a.replace\n",
    "\n",
    "count_items_a = a.count('o')\n",
    "print(\"*\"*20)\n",
    "print(count_items_a)\n",
    "\n",
    "#let's pick one of this methods like, oh say, UPPER.\n",
    "a_UPP = a.upper()\n",
    "print(a_UPP)\n",
    "\n",
    "# since hashtags are used for commenting code because Python \n",
    "#'ignores' everything that comes after it, what about the following:\n",
    "\n",
    "#print(\"What happens when a # is included in a string?\"+\" This is called 'embedding'\")\n",
    "\n",
    "# what happens when we try to concatenate and print a string and an integer\n",
    "\n",
    "#print('5'+5)"
   ]
  },
  {
   "cell_type": "markdown",
   "metadata": {},
   "source": [
    "During lecture examples (I will post the questions in the discussion section so that you can discuss answers to them with your peers and TAs): \n",
    "_______\n",
    "\n",
    "1. let's try to write a problem out in pseudo code: What if we had two strings and we wanted to concatenate them except omit the first char of each (think: pig latin). The strings will be at least of length 1 (so no strings of length 0).\n",
    "\n",
    "2. what if we want to print out the length of a string variable? "
   ]
  },
  {
   "cell_type": "code",
   "execution_count": 19,
   "metadata": {},
   "outputs": [
    {
     "name": "stdout",
     "output_type": "stream",
     "text": [
      "ATGCAGTCCAGCG\n",
      "Find method for 'CC' : \n",
      "7\n"
     ]
    }
   ],
   "source": [
    "#string methods\n",
    "\n",
    "my_dna=\"ATGCAGTCCAGCG\"\n",
    "print(my_dna)\n",
    "\n",
    "#what happens if we forget the quotes?\n",
    "\n",
    "#my_dna_1=ATGCAGTCCAGCG\n",
    "#print(my_dna_1)\n",
    "\n",
    "# first method: find. This is a bit of a tricky method because it returns a number instead of a string and it will only \n",
    "\n",
    "print(\"Find method for 'CC' : \")\n",
    "\n",
    "#record the first instance of the argument\n",
    "\n",
    "CC_location=my_dna.find(\"CC\")\n",
    "print(CC_location)"
   ]
  },
  {
   "cell_type": "code",
   "execution_count": 3,
   "metadata": {},
   "outputs": [
    {
     "name": "stdout",
     "output_type": "stream",
     "text": [
      "**********\n",
      "How many A's are there in our string 3\n",
      "the number of 'A' in:3\n",
      "Now how many litte 'a's are in this string: \n",
      "0\n",
      "**********\n"
     ]
    }
   ],
   "source": [
    "# a similar method is count. Like find, it takes a string \n",
    "# as an argument but spits out a number. \n",
    "\n",
    "print(\"*\"*10)\n",
    "Num_A=my_dna.count(\"A\")\n",
    "Num_a=my_dna.count(\"a\")\n",
    "\n",
    "#since print is a function that works on one data type at a time,\n",
    "# we need to convert the number to a string with the str function\n",
    "\n",
    "print(\"How many A's are there in our string\", Num_A)\n",
    "print(\"the number of 'A' in:\"+ str(Num_A))\n",
    "print(\"Now how many litte 'a's are in this string: \")\n",
    "print(str(Num_a))\n",
    "print(\"*\"*10)"
   ]
  },
  {
   "cell_type": "code",
   "execution_count": 18,
   "metadata": {},
   "outputs": [
    {
     "name": "stdout",
     "output_type": "stream",
     "text": [
      "ATGCAGTCCAGCG\n",
      "A\n",
      "AGTC\n",
      "A\n",
      "__________________\n",
      "G\n",
      "C\n",
      "****************\n",
      "13\n",
      "~~~~~~~~~~\n",
      "G\n"
     ]
    }
   ],
   "source": [
    "# We can extract a substring as well remember \n",
    "my_dna=\"ATGCAGTCCAGCG\"\n",
    "#what is the following going to print\n",
    "print(my_dna)\n",
    "print(my_dna[4])\n",
    "print(my_dna[4:8])\n",
    "\n",
    "#remember that in computer science we usually begin counting at 0 not 1\n",
    "\n",
    "first_nt=my_dna[0]\n",
    "print(first_nt)\n",
    "print(\"__________________\")\n",
    "last_nt=my_dna[-1]\n",
    "print(last_nt)\n",
    "print(my_dna[-2])\n",
    "print(\"****************\")\n",
    "print(len(my_dna))\n",
    "print(\"~~~~~~~~~~\")\n",
    "last_nt_version_2 = my_dna[len(my_dna)-1]\n",
    "print(last_nt_version_2)\n",
    "#last_nt_version_3 = my_dna[len(my_dna)]\n",
    "#print(last_nt_version_3)"
   ]
  },
  {
   "cell_type": "code",
   "execution_count": 27,
   "metadata": {},
   "outputs": [
    {
     "name": "stdout",
     "output_type": "stream",
     "text": [
      "ATGCAGTCCAGCG\n",
      "ATGCAGTCCAGCG\n",
      "TTGCAGTCCAGCG\n",
      "________________\n",
      "ATGCAGTCCAGCG\n",
      "atgcagtccagcg\n"
     ]
    }
   ],
   "source": [
    "#any guesses as to what these will print? \n",
    "print(my_dna)\n",
    "my_dna_CAPS = my_dna.upper()\n",
    "print(my_dna_CAPS)\n",
    "\n",
    "# upper doesn't actually change the original values of my_dna\n",
    "# - remember IMMUTABILITY?, it just returns a copy that is upper case\n",
    "\n",
    "print(my_dna.replace(\"AT\",\"TT\"))\n",
    "\n",
    "# Did the above statement actually change the original my_dna string? \n",
    "# We can have a look by printing it out \n",
    "print(\"________________\")\n",
    "print(my_dna)\n",
    "print(my_dna.lower())"
   ]
  },
  {
   "cell_type": "code",
   "execution_count": null,
   "metadata": {},
   "outputs": [],
   "source": [
    "#other important methods associated with strings\n",
    "\n",
    "print(len(my_dna))\n",
    "\n",
    "#the above command is equivalent to:\n",
    "\n",
    "print(len(\"ATGCAGTCCAGCG\"))\n",
    "\n",
    "#often we want to store the results of the len function on whatever argument we care about in a new variable - which will be a number, not a string - that we can access later: \n",
    "\n",
    "my_dna_length=len(my_dna)\n",
    "print(my_dna_length)\n",
    "\n",
    "#we can then do something useful - once we convert the number into a string - like: \n",
    "\n",
    "print(\"The length of the DNA sequence is: \" + str(my_dna_length))\n",
    "\n",
    "#the concatenation operator. YOU CAN CONCATENATE STRINGS! THIS IS A BIG DEAL!\n",
    "\n",
    "my_dna_plus=\"TAGC\"+\"AAAAAAA\"\n",
    "print(my_dna_plus)\n",
    "\n",
    "#you can use the concatenation operator with string variables as well: \n",
    "\n",
    "leader=\"TAGC\"\n",
    "my_dna_plus=leader+\"AAAAAAA\"\n",
    "print(my_dna_plus)"
   ]
  },
  {
   "cell_type": "code",
   "execution_count": 19,
   "metadata": {},
   "outputs": [
    {
     "name": "stdout",
     "output_type": "stream",
     "text": [
      "Two important individuals were born on this day in 1809.Charlesis the first\n",
      "The second one is Abraham\n",
      "The second one is  Abraham\n",
      "Any guesses?\n",
      "That is correct. Charles Darwin and Abraham Lincoln were both born February 12\n",
      "They both \"changed the world\"\n"
     ]
    }
   ],
   "source": [
    "#quotes: what is the difference between \" and '?\n",
    "\n",
    "name_1 =\"Charles\"\n",
    "name_2 =\"Abraham\"\n",
    "last_1 ='Darwin'\n",
    "last_2 ='Lincoln'\n",
    "month =\"February\"\n",
    "day = 12\n",
    "\n",
    "#print(\"Two important individuals were born on this day in 1809. %s is the first\" % name_1)\n",
    "print(\"Two important individuals were born on this day in 1809.\"+ name_1+\"is the first\")\n",
    "print(\"The second one is %s\" % name_2)\n",
    "print(\"The second one is \", name_2)\n",
    "print(\"Any guesses?\")\n",
    "\n",
    "# this line is tricky, try to get it exactly right\n",
    "print(\"That is correct. %s %s and %s %s were both born %s %d\" % (name_1, last_1, name_2, last_2,month,day))\n",
    "\n",
    "#a bit more straightforward use of quotes - when you want to output quotes into the resulting print statement, you can embed one type into the other type\n",
    "print('They both \"changed the world\"')"
   ]
  },
  {
   "cell_type": "markdown",
   "metadata": {},
   "source": [
    "**escape characters** if you don't use them then python will encounter the special character and interpret it in a python-meaningful way instead of how you actually meant them to be interpreted.\n",
    "\n",
    "\\n <--newline, \\r<-- return,\\t<---tab"
   ]
  },
  {
   "cell_type": "code",
   "execution_count": 20,
   "metadata": {},
   "outputs": [
    {
     "name": "stdout",
     "output_type": "stream",
     "text": [
      "..........\n",
      "Mon Tues Wed Thurs Fri Happy Days\n",
      "Jan\n",
      "Feb\n",
      "March\n",
      "Apr\n",
      "\n",
      "I am 5'4.5\" tall \n",
      "Yes – the 4.5\" is important to announce\n"
     ]
    }
   ],
   "source": [
    "#special characters - escape with the backslash character\n",
    "#DEBUGGING WITH PRINT STATEMENTS - an important skill!\n",
    "print(\".\"*10)\n",
    "days= \"Mon Tues Wed Thurs Fri Happy Days\"\n",
    "Months=\"Jan\\nFeb\\nMarch\\nApr\\n\"\n",
    "\n",
    "print(days)\n",
    "print(Months)\n",
    "\n",
    "#more relevant to me\n",
    "print(\"I am 5'4.5\\\" tall \")\n",
    "print(\"Yes – the 4.5\\\" is important to announce\")"
   ]
  },
  {
   "cell_type": "markdown",
   "metadata": {},
   "source": [
    "## SLICING strings\n",
    "* to extract a part of a string, we use []\n",
    "* _remember that we start counting at 0 (not 1)_\n",
    "* important methods include: .count(), .find()<-- takes single string as argument and then returns the location, the index, where it first occurs. "
   ]
  },
  {
   "cell_type": "markdown",
   "metadata": {},
   "source": [
    "### Another example for discussion thread, part 2:\n",
    "-----------------------------------------\n",
    "1. For the variable,  protein  =  \"vlspadktnv\", how do we replace valine-leucine (vl) with tyrosine-alanine(ya)? \n",
    "2. For the variable,  protein  =  \"vlspadktnv\", how would we determine how many lsp, v and w are present? ie. Is there a method that can take these as arguments and count them?\n",
    "3. Can we determine where the first v occurs?ie. Is there a method that will identify position/location where first instance occurs? \n",
    "4. How would we print the items in this amino acid sequence that begin at the item 3 and include the 6th item? "
   ]
  },
  {
   "cell_type": "code",
   "execution_count": null,
   "metadata": {},
   "outputs": [],
   "source": []
  }
 ],
 "metadata": {
  "kernelspec": {
   "display_name": "Python 3",
   "language": "python",
   "name": "python3"
  },
  "language_info": {
   "codemirror_mode": {
    "name": "ipython",
    "version": 3
   },
   "file_extension": ".py",
   "mimetype": "text/x-python",
   "name": "python",
   "nbconvert_exporter": "python",
   "pygments_lexer": "ipython3",
   "version": "3.7.4"
  }
 },
 "nbformat": 4,
 "nbformat_minor": 2
}
