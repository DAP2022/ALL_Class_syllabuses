{
 "cells": [
  {
   "cell_type": "markdown",
   "metadata": {},
   "source": [
    "# BioPython\n",
    "\n",
    "This is another popular and useful library. In fact, you'll probably discover that many of your early problem set questions have methods in Biopython that you could use (instead of having to write out the problem yourself - but it was good practice for developing your programming logic). \n",
    "\n",
    "In this lecture, I am not going to exhaustively list all of the features of BioPython. Instead, I am going to pull out a few items from the official BioPython tutorial (http://biopython.org/DIST/docs/tutorial/Tutorial.html) that focus on setting up a Seq object. Seq objects are the fundamental data type of the BioPython package and appreciating their syntax and flexibility will allow you to follow the many tutorials you will find online that apply BioPython Seq objects to solve Bioinformatics problems.  \n",
    "\n",
    "There are a few popular ways to use BioPython: \n",
    "1. Sequence handling and parsing from major databases\n",
    "    * BLAST, NCBI (Entrez), GenBank, FASTA files\n",
    "2. Alignment and basic Population Genetics (GenePop)\n",
    "    * and phylogenetics (ie. a pipeline that feeds directly into ClustalW, MUSCLE etc)\n",
    "    * Linkage disequilibrium, Hardy_weingberg, Fst, migration estimates\n",
    "3. 3D structure (but I don't know much about that field)\n",
    "\n",
    "Some of you will find BioPython to be efficient and maybe even indispensable for your final project. I found a tutorial online that I think does a straightfoward job of working through how to use BioPython to retrieve sequence information from NCBI, how to use BLAST via BioPyton and even takes you through a few examples (for instance, there is an example that takes you through diagnosing, genetically, Sickle Cell Anemia). The tutorial is found here:\n",
    "https://krother.gitbooks.io/biopython-tutorial/content/\n",
    "\n",
    "A more advanced tutorial, takes you through population genetics simulations, Cluster analysis, supervised learning etc. Once again: what you find interesting and useful about all of the features of BioPython will be dictated by what you are doing for your final project so don't panic if none of these options appeal to you!\n",
    "\n",
    "https://nbviewer.jupyter.org/github/tiagoantao/biopython-notebook/blob/master/notebooks/00%20-%20Tutorial%20-%20Index.ipynb"
   ]
  },
  {
   "cell_type": "markdown",
   "metadata": {},
   "source": [
    "BioPython focuses on tools that make bioinformatics and genomics easy.\n",
    "\n",
    "Of particular importance: parsing. Parsing has a particular meaning in computer science but you can generally think of it as taking information that is one format and translating it into the Biopython format so that you can manipulate the data.\n",
    "\n",
    "BioPython works seamlessly with the common formats (FASTA) and the common databases (Genbank, SwissProt, BLAST, Entrez, microarray etc) "
   ]
  },
  {
   "cell_type": "markdown",
   "metadata": {},
   "source": [
    "* Seq objects - like strings - are immutable in BioPython to make life easy. You don't normally want to accidentally 'write over' a sequence object: \n",
    "http://biopython.org/DIST/docs/tutorial/Tutorial.html#sec17\n",
    "* there are mutable versions of Seq objects called MutableSeq objects\n",
    "* you can also convert an immutable Seq object to a mutable one by using .tomutable() method (instead of using Seq() when you create the object out of a sequence string, you would use MutableSeq())\n",
    "\n",
    "The website that gives methods and attribute of Seq objects can be found here: https://biopython.org/DIST/docs/api/Bio.Seq.Seq-class.html\n",
    "You will undoubtedly notice that there are methods such as \"complement\", \"reverse_complement\", \"transcribe\", \"translate\", and many other methods that we wrote out as functions for your early problem sets. "
   ]
  },
  {
   "cell_type": "code",
   "execution_count": 2,
   "metadata": {},
   "outputs": [
    {
     "name": "stdout",
     "output_type": "stream",
     "text": [
      "ATGCGTTGCC\n",
      "~~~~~~~~~~~~~~~~~~~~\n",
      "AUGGCCAUUGUAAUGGGCCGCUGAAAGGGUGCCCGAUAG\n",
      "********************\n",
      "GGCAACGCAT\n",
      "MAIVMGR*KGAR*\n",
      "GTC\n",
      "10\n"
     ]
    },
    {
     "data": {
      "text/plain": [
       "Seq('ATGNNNNNNNNNNATCCCGNNNNNNNNNNTTGCA')"
      ]
     },
     "execution_count": 2,
     "metadata": {},
     "output_type": "execute_result"
    }
   ],
   "source": [
    "#import Biopython once you have installed it via Anaconda environment\n",
    "# especially the powerful Seq object\n",
    "from Bio.Seq import Seq\n",
    "# you could also import IUPAC which dictates the naming conventions for DNA and RNA\n",
    "from Bio.Alphabet import IUPAC\n",
    "\n",
    "# create a Seq object of DNA:\n",
    "DNA_seq=Seq(\"ATGCGTTGCC\",IUPAC.unambiguous_dna)\n",
    "# try to print out the DNA_seq object:\n",
    "print(DNA_seq)\n",
    "print(\"~\"*20)\n",
    "\n",
    "#create a Seq object of RNA:\n",
    "RNA_seq=Seq(\"AUGGCCAUUGUAAUGGGCCGCUGAAAGGGUGCCCGAUAG\", IUPAC.unambiguous_rna)\n",
    "print(RNA_seq)\n",
    "# create a Seq object of RNA: \n",
    "print(\"*\"*20)\n",
    "\n",
    "# let's try to do the same type of manipulations that we did in earlier problem sets\n",
    "print(DNA_seq.reverse_complement())\n",
    "print(RNA_seq.translate())\n",
    "# SO VERY MUCH EASIER, RIGHT?\n",
    "\n",
    "# you can also treat seq objects like strings in terms of slicing and other methods\n",
    "print(DNA_seq[4:-1:2])\n",
    "print(len(DNA_seq))\n",
    "# and there are methods like join, upper, lower and the usual string methods\n",
    "# here is an example of the join method taken from the biopython tutorial\n",
    "contigs = [Seq(\"ATG\"), Seq(\"ATCCCG\"), Seq(\"TTGCA\")]\n",
    "spacer = Seq(\"N\"*10)\n",
    "spacer.join(contigs)"
   ]
  },
  {
   "cell_type": "code",
   "execution_count": 34,
   "metadata": {},
   "outputs": [
    {
     "name": "stdout",
     "output_type": "stream",
     "text": [
      "AC12345\n",
      "C'est ne pas du vrai ADN\n",
      "ATGGCCATTGTAATGGGCCGCTGAAAGGGTGCCCGATAG\n",
      "~~~~~~~~~~~~~~~~~~~~\n",
      "MAIVMGR*KGAR*\n",
      "CTATCGGGCACCCTTTCAGCGGCCCATTACAATGGCCAT\n",
      "MAIVMGRWKGAR*\n",
      "MAIVMGRWKGAR\n"
     ]
    }
   ],
   "source": [
    "# you can even create SeqRecords which are suspiciously like the DNARecord objects that \n",
    "# we created when discussing OOP back in module 3. \n",
    "\n",
    "from Bio.Seq import Seq\n",
    "from Bio.SeqRecord import SeqRecord\n",
    "# SeqRecords are a datatype that contain the Seq objects but also a bunch of cool\n",
    "# additional attributes such as 'name', 'description','id', and 'seq' <-- like we saw above\n",
    "\n",
    "DNA_seq_object = Seq(\"ATGGCCATTGTAATGGGCCGCTGAAAGGGTGCCCGATAG\")\n",
    "DNA_seq_object_rec = SeqRecord(DNA_seq_object)\n",
    "DNA_seq_object_rec.id = \"AC12345\"\n",
    "DNA_seq_object_rec.description = \"C'est ne pas du vrai ADN\"\n",
    "\n",
    "# print summary\n",
    "print(DNA_seq_object_rec.id)\n",
    "print(DNA_seq_object_rec.description)\n",
    "print(DNA_seq_object_rec.seq)\n",
    "print(\"~\"*20)\n",
    "\n",
    "# translate the sequence (using standard code)\n",
    "translated_seq = DNA_seq_object_rec.seq.translate()\n",
    "print(translated_seq)\n",
    "reverse_seq = DNA_seq_object_rec.seq.reverse_complement()\n",
    "print(reverse_seq)\n",
    "\n",
    "# you can also translate based on the mitochondrial code instead by\n",
    "# using table as an argument and stating you are using the following name OR table number 2\n",
    "mito_seq=DNA_seq_object_rec.seq.translate(table=\"Vertebrate Mitochondrial\")\n",
    "print(mito_seq)\n",
    "# you can use the to_stop argument and the stop codon, *, won't be included in your \n",
    "# finished translation. Basically, there are MANY detailed options in BioPython \n",
    "# WE WILL NOT WORK THROUGH ALL OF THEM, THESE ARE JUST SOME ILLUSTRATIVE EXAMPLES taken\n",
    "# from the online BioPython tutorial. \n",
    "mito_seq_stop=DNA_seq_object_rec.seq.translate(table=\"Vertebrate Mitochondrial\", to_stop=True)\n",
    "print(mito_seq_stop)"
   ]
  },
  {
   "cell_type": "markdown",
   "metadata": {},
   "source": []
  },
  {
   "cell_type": "code",
   "execution_count": null,
   "metadata": {},
   "outputs": [],
   "source": []
  }
 ],
 "metadata": {
  "kernelspec": {
   "display_name": "Python 3",
   "language": "python",
   "name": "python3"
  },
  "language_info": {
   "codemirror_mode": {
    "name": "ipython",
    "version": 3
   },
   "file_extension": ".py",
   "mimetype": "text/x-python",
   "name": "python",
   "nbconvert_exporter": "python",
   "pygments_lexer": "ipython3",
   "version": "3.7.4"
  }
 },
 "nbformat": 4,
 "nbformat_minor": 2
}
