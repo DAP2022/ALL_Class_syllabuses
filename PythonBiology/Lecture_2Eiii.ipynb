{
 "cells": [
  {
   "cell_type": "markdown",
   "metadata": {},
   "source": [
    "This is a **simple** simulator of mutation which will clarify the type of large state space that MCMC addresses efficiently. There is a bit more to MCMC than is given in this program but it is a start... We will start with a simple four nucleotide sequence \"CTAG\" (note that you can, of course, start with any four letter nucleotide) and mutate it a specified number of times. We will use an extremely simplified mutation matrix (picture illustrating the model is given below) with a probability model defined as: the transition -0.1, tranversion - each transversion is 0.05- and no mutation -0.8- probabilities are the same for all nucleotides among other simplifying assumptions. To refresh your molecular evolution knowledge: Transversion is when a purine mutates to a pyramidine or vice versa, i.e. A--> C, A-->T or C-->G, transition is when a purine mutates to a different purine (A--> G or G-->A) or a pyramadine mutates to a different pyramidine (T-->C or C---> T). \n",
    "\n",
    "There is a question on one of your problem sets where I ask you to re-write this mess of a simulator in a much more elegant/efficient manner. \n",
    "\n",
    "Here is the breakdown of strategy: \n",
    "1. Start sequence is specified. In this case, we are running the string \"CTAG\" but I should be able to substitute any sequence of *any length*. \n",
    "2. Function that takes the starting sequence and number of times to repeat as an argument and using conditions, mutates the start string n times appropriately. Note that in this model, a mutation event can be a transition, transversion or no mutation at all. In fact, out of 1000000 simulations, you can expect mutations will occur about 200000 times (20%). \n",
    "3. We will want to sample the mutated sequence at different points in our simulator. This will partially be to trouble shoot and de-bug but also because we often want to do this in MCMC to sort of test whether the equilibrium state has been reached (that doesn't really work under this particular model since the nucleotides are considered completely independent but most models are more complex so it is a good habit to incorporate into this kind of code.)\n",
    "\n",
    "Here is the function that lays out one round of where the mutations happen. We can call the function with a specified *nsteps*."
   ]
  },
  {
   "cell_type": "markdown",
   "metadata": {},
   "source": [
    "<div>\n",
    "<img src=\"MCMC_mutations.jpg\" width=\"450\"/>\n",
    "</div>"
   ]
  },
  {
   "cell_type": "code",
   "execution_count": 3,
   "metadata": {},
   "outputs": [
    {
     "name": "stdout",
     "output_type": "stream",
     "text": [
      "CPU times: user 11 µs, sys: 6 µs, total: 17 µs\n",
      "Wall time: 45.1 µs\n",
      "['C', 'T', 'A', 'G']\n",
      "10000\n",
      "['A', 'T', 'G', 'A']\n",
      "1000\n",
      "['C', 'G', 'A', 'T']\n",
      "10\n",
      "['C', 'G', 'A', 'A']\n",
      "-0.01253951299804612\n"
     ]
    }
   ],
   "source": [
    "# Check out how you can determine how fast code it with a magic \n",
    "# command: \n",
    "%time\n",
    "# I will note that depending on your operating system you may need to\n",
    "# use the time module: from timeit import *. you will see at the bottom\n",
    "# of this cell, where I call the function, I have surrounded the call\n",
    "# by a start variable and an end variable. This should produce the\n",
    "# same kind of behaviour in both windows and OS. \n",
    "\n",
    "# Control statements - we are going to start with an exercise that you will improve \n",
    "# on/fix for your assignment 4.\n",
    "# This is a terrible and inefficient program and I want YOU to do BETTER!\n",
    "# we will import all the functions in the random module and we won't have to use \n",
    "#the syntax\n",
    "\n",
    "import timeit\n",
    "# random.randint() if we use this format; we can just use randint() instead. \n",
    "from random import *\n",
    "\n",
    "# This is a poorly written script and it doesn't do what I want it to do. Improve on it!\n",
    "def mutation(current_seq,nsteps):\n",
    "    while(nsteps > 1): \n",
    "        if(nsteps==1 or nsteps==10 or nsteps==1000 or nsteps==10000):\n",
    "            print(current_seq)\n",
    "            print(nsteps)\n",
    "        # one of the loci between site 0 and 3\n",
    "        #print(\"************\")\n",
    "        current_loci = randint(0,3)\n",
    "        #print(current_loci)\n",
    "        # pick a number between 1 and 20 to determine if that site mutates or not\n",
    "        current_mut_event = randint(1,20)\n",
    "        #print(\"~~~~~~~~\")\n",
    "        #print(current_mut_event)\n",
    "    # No MUTATION\n",
    "        if(current_mut_event<=16): \n",
    "            pass\n",
    "    #MUTATION\n",
    "        else:               \n",
    "            if(current_mut_event==17 or current_mut_event==18):  #TRANSITION MUTATIONS\n",
    "      #replace the nt with a transition mutation \n",
    "                if(current_seq[current_loci] == \"A\"):\n",
    "                    current_seq[current_loci]= \"G\"\n",
    "    \n",
    "                if(current_seq[current_loci] == \"G\"):\n",
    "                    current_seq[current_loci] = \"A\"\n",
    "       \n",
    "                if(current_seq[current_loci] == \"T\"): \n",
    "                    current_seq[current_loci] = \"C\"\n",
    "          \n",
    "                if(current_seq[current_loci]== \"C\"):\n",
    "                    current_seq[current_loci] = \"T\"\n",
    "         \n",
    "            else: #transversions are here\n",
    "                if(current_mut_event==19): #TRANSVERSION 1\n",
    "                    #print(\"What is the current_seq and current_loci? transversion 1\")\n",
    "                    #print(current_seq)\n",
    "                    #print(current_loci)\n",
    "                    if(current_seq[current_loci]==\"A\" or current_seq[current_loci]==\"G\"):\n",
    "                        current_seq[current_loci]= \"T\"\n",
    "                    else:\n",
    "                        current_seq[current_loci] =\"A\"\n",
    "                   # print(\"Am I where I am supposed to be in transversion 1?\")\n",
    "                    #print(current_seq[current_loci])\n",
    "           \n",
    "            #TRANSVERSION 2\n",
    "                else:\n",
    "                    #print(\"What is the current_seq and current_loci? transversion 2\")\n",
    "                    #print(current_seq)\n",
    "                    #print(current_loci)\n",
    "                    if(current_seq[current_loci]==\"A\" or current_seq[current_loci]==\"G\"):\n",
    "                        current_seq[current_loci] = \"C\"\n",
    "                    else:\n",
    "                        current_seq[current_loci] = \"G\"\n",
    "        #print(\"there can be only one\")\n",
    "        #print(current_seq)\n",
    "        nsteps = nsteps-1\n",
    "        #print(nsteps)\n",
    "    return current_seq\n",
    "\n",
    "# Now we need to call this inefficient excuse of a function and assign the results to a variable: \n",
    "start=timeit.timeit()\n",
    "test = mutation([\"C\",\"T\",\"A\",\"G\"],10000)\n",
    "end=timeit.timeit()\n",
    "print(test)\n",
    "print(start - end)"
   ]
  },
  {
   "cell_type": "code",
   "execution_count": null,
   "metadata": {},
   "outputs": [],
   "source": []
  }
 ],
 "metadata": {
  "kernelspec": {
   "display_name": "Python 3",
   "language": "python",
   "name": "python3"
  },
  "language_info": {
   "codemirror_mode": {
    "name": "ipython",
    "version": 3
   },
   "file_extension": ".py",
   "mimetype": "text/x-python",
   "name": "python",
   "nbconvert_exporter": "python",
   "pygments_lexer": "ipython3",
   "version": "3.7.4"
  }
 },
 "nbformat": 4,
 "nbformat_minor": 2
}
