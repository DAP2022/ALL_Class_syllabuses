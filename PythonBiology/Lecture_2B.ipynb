{
 "cells": [
  {
   "cell_type": "markdown",
   "metadata": {},
   "source": [
    "###  Summary of previous notebook \n",
    "1. Data types and their associated methods\n",
    "    * format: variable_name.method()\n",
    "    * special tricks such as variable_name.[tab key] will bring up method options for data type of variable_name\n",
    "    \n",
    "2. special manipulations with strings, ie. slicing, escape characters\n",
    "\n",
    "Remember that there will be lots of commands that are hashed out in the cells. I have usually done this to demonstrate that the command will result in an error or, occasionally, to show an alternative way to do something. You can unhash these lines as you follow along with the logic being shown. "
   ]
  },
  {
   "cell_type": "markdown",
   "metadata": {},
   "source": [
    "# Lecture 3 - I/O\n",
    "\n",
    "A useful program will usually require data input to manipulate and will spit out the results of this manipulation. We have learned a tiny bit of some manipulations with strings. \n",
    "\n",
    "In today's lecture, we will learn how to open, read and write files - sometimes even multiple files at multiple locations. \n",
    "\n",
    "We will use \"flat files\" (ie. no structured relationship) for this course until we are introduced to SQLite format. This means mostly text files (.txt) or comma-separated files (.csv). \n",
    "\n",
    "### What happens if we want to read in a file and then write to a different file?  \n",
    "\n",
    "What does the following program do? "
   ]
  },
  {
   "cell_type": "code",
   "execution_count": 3,
   "metadata": {},
   "outputs": [
    {
     "name": "stdout",
     "output_type": "stream",
     "text": [
      "[1, 4, 9, 16, 25, 36, 49, 64, 81, 100]\n"
     ]
    }
   ],
   "source": [
    "# we will look at what this list comprehensions means in a few lectures (and module 3) but,\n",
    "# for now, all you need to know is that we are creating a list. You can look back on this\n",
    "# cell in a few weeks and think, 'oh, yeah. That was easy'. But you probably don't think \n",
    "# that right at this second...unless you already happen to know a programming language. \n",
    "\n",
    "my_list = [i**2 for i in range(1,11)]\n",
    "print(my_list)\n",
    "#my_list=[\"AT\",\"CG\",\"cg\"]\n",
    "# what happens if you use this line, where \"w\" isn't specified? \n",
    "#f = open(\"output_test_1.txt\") \n",
    "\n",
    "#Does this provide a hint about what \"w\" is doing?\n",
    "# ---------------------\n",
    "# CHECK YOUR FOLDER AND SEE IF THERE IS A NEWLY CREATED FILE CALLED output_test_1.txt\n",
    "# ---------------------\n",
    "\n",
    "f = open(\"output.txt\",\"w+\")\n",
    "\n",
    "#if you check, you might notice that there is a file in the same path as this notebook\n",
    "#called 'output.txt' to determine what this program does. We haven't learned\n",
    "# about loops yet but hopefully you can\n",
    "# figure it out based on the code.... of course, you can also just open 'output.txt' file.\n",
    "\n",
    "for item in my_list:\n",
    "    f.write(str(item) + \"\\n\")\n",
    "f.close()"
   ]
  },
  {
   "cell_type": "markdown",
   "metadata": {},
   "source": [
    "## Reading Text from files\n",
    "\n",
    "We will need to read information from a file such as a FASTA file (https://en.wikipedia.org/wiki/FASTA_format\n",
    "):\n",
    "\n",
    "\\>seq0\n",
    "\n",
    "FQTWEEFSRAAEKLYLADPMKVRVVLKYRHVDGNLCIKVTDDLVCLVYRTDQAQDVKKIEKF\n",
    "\n",
    "\\>seq1\n",
    "\n",
    "KYRTWEEFTRAAEKLYQADPMKVRVVLKYRHCDGNLCIKVTDDVVCLLYRTDQAQDVKKIEKFHSQLMRLMELKVTDNKECLKFKTDQAQEAKKMEKLNNIFFTLM\n",
    "\n",
    "\\>seq2\n",
    "\n",
    "EEYQTWEEFARAAEKLYLTDPMKVRVVLKYRHCDGNLCMKVTDDAVCLQYKTDQAQDVKKVEKLHGK\n",
    "\n",
    "Or we want to write information to a file such as the results from a BLAST search.\n",
    "How do we accomplish such tasks? \n",
    "\n",
    "**The _major_ tasks that we want to be able to do when manipulating text files include:**\n",
    "\n",
    "1. Ensure that the file exists manually *and that it is in the correct path*\n",
    "2. Open the file <- Right now, we have to rely on raising an IOexception when we try to open a file that doesn’t exist, python will give us [Errno 2]: no such file or directory. We’ll learn about this later but there are tools to ensure that a file exists: Try/except system.\n",
    "3. Read file (or write to the file, or a different file, or read and write to the file)<-method for file object\n",
    "4. Close file <- method for file object\n",
    "\n",
    "### Procedure for _reading_ a file: \n",
    "1. Check file exists\n",
    "2. Open file\n",
    "3. Read file\n",
    "4. Close file\n",
    "\n",
    "### Procedure for _writing to_ an _existing_ file: \n",
    "1. Check file exists\n",
    "2. Open file\n",
    "3. _Append_ text to file\n",
    "4. Close file\n",
    "\n",
    "### Procedure for _writing to_ or _creating_ a _NEW_ file: \n",
    "1. Open (really, create) file\n",
    "2. Write to file\n",
    "3. Close file\n"
   ]
  },
  {
   "cell_type": "code",
   "execution_count": 75,
   "metadata": {},
   "outputs": [],
   "source": [
    "#How do we open a file?\n",
    "#-------------------------------\n",
    "# the format that we use is:\n",
    "# variable_name = open(path_if_necessary_and_file_name,mode)\n",
    "# where mode = append, read, write (see next cell for text explanation)\n",
    "# ---------------------------\n",
    "\n",
    "f = open(\"output.txt\", \"w+\")\n",
    "\n",
    "#the command above create a textfile called 'output.txt' in 'w' mode. \n",
    "#However, in the cell above, we created an output.txt file, too. What happened?\n",
    "# you should be able to check that there is now a file called output.txt\n",
    "# the new file **object** is stored as the f file object which now \n",
    "# has **attributes and methods **\n",
    "# instead of a filename,\"output.txt\", you can insert a path name - although we\n",
    "# won't worry about that so far in this course\n",
    "\n",
    "f.write(\"Hello World\"+\"\\n\")\n",
    "f.close()"
   ]
  },
  {
   "cell_type": "code",
   "execution_count": 76,
   "metadata": {},
   "outputs": [
    {
     "name": "stdout",
     "output_type": "stream",
     "text": [
      "<_io.TextIOWrapper name='output.txt' mode='r+' encoding='UTF-8'>\n"
     ]
    }
   ],
   "source": [
    "# if you created the same file but with 'r+' mode, the output.txt file would also be \n",
    "# different: \n",
    "my_list = [i**2 for i in range(1,11)]\n",
    "# recreate the original output.txt file: \n",
    "# ---------------------------------\n",
    "f = open(\"output.txt\",\"w\")\n",
    "for item in my_list:\n",
    "    f.write(str(item) + \"\\n\")\n",
    "f.close()\n",
    "# ---------------------------------\n",
    "# the following should ONLY overwrite the first 11 characters - including all of \n",
    "# the '\\n' that were added so that each number appeared on a different line - in the output.txt\n",
    "\n",
    "my_file=open(\"output.txt\",\"r+\")\n",
    "my_file.write(\"Hello World\"+\"\\n\")\n",
    "# as an example, what do you expect the following to give you? Why?#\n",
    "print(my_file)\n",
    "my_file.close()"
   ]
  },
  {
   "cell_type": "markdown",
   "metadata": {},
   "source": [
    "## Permissions for the open method\n",
    "r – default mode, cursor placed at beginning of file and can only read text (not write to a file)\n",
    "\n",
    "r+– read/write but doesn’t overwrite the entire file (to see what this means, replace the \"w+\" with \"r+\" and see what happens to the output file that was created in cell 1; there will be a difference). The cursor is placed at the beginning of the file so there will be some overwriting but the file won't be entirely overwritten as it would be with w+ \n",
    "\n",
    "w+ – opens a file for both reading and writing; overwrites file (if it exists), creates new file if it doesn’t exit<- \n",
    "as you can guess, this is a little dangerous so use with caution\n",
    "\n",
    "a – opens file for appending, file cursor at end of file (if it exists), at beginning of file if it needs to create a new file  \n",
    "\n",
    "a+ - opens file for appending and reading\n",
    "\n",
    "### Pointers: \n",
    "\n",
    "https://xkcd.com/138/\n",
    "\n",
    "### The subtle differences between file name, file object and file contents\n",
    "* File object <--Represents the file itself. You use methods like .read on file objects and ONLY on file objects (you will get an attribute error term if you attempt to use .read method on something that isn't a file object)\n",
    "\n",
    "* File name<--String with the name of the file\n",
    "\n",
    "* File content<--String that stores text of the file itself; .read()"
   ]
  },
  {
   "cell_type": "code",
   "execution_count": 78,
   "metadata": {},
   "outputs": [
    {
     "name": "stdout",
     "output_type": "stream",
     "text": [
      "/Users/daniellepresgraves/mypython/dna.csv\n",
      "-----------\n",
      "<_io.TextIOWrapper name='/Users/daniellepresgraves/mypython/dna.csv' mode='r' encoding='UTF-8'>\n",
      "~~~~~~~~~~~~~~~\n",
      "ATGCGCGTAGAGCTTTTTTTGGGGGGGAAAA\n",
      "*******\n",
      "dna.txt\n",
      "<_io.TextIOWrapper name='dna.txt' mode='r' encoding='UTF-8'>\n",
      "AAAAAAAAAAAAAAAAAAAAAAAAAAAAAAA\n",
      "\n"
     ]
    }
   ],
   "source": [
    "# my suggestion is that if are using a file to put it in the same directory/folder as the \n",
    "# jupyter notebook that is accessing it.if not, you can always type the full path to the file, it is \n",
    "# just a bit more complicated on the first step. \n",
    "# Note the file path will look different if \n",
    "# you are on a PC.\n",
    "#The file path below is for my mac os. \n",
    "my_file_test = \"/Users/daniellepresgraves/mypython/dna.csv\"\n",
    "# the same file path for windows should look something like this: \n",
    "# ---------------------------------\n",
    "# Note: most things in Anaconda should be the same regardless of operating system but\n",
    "# I am working on a MAC so you might find that windows has a different path system than\n",
    "# what I have written here. I can't test this path because I am not on Windows. \n",
    "# ---------------------------------\n",
    "#my_file_test = “\\Users\\daniellepresgraves\\mypython\\dna.csv”\n",
    "\n",
    "print(my_file_test)\n",
    "print(\"-----------\")\n",
    "# we are creating the file object my_file_test_pointer\n",
    "my_file_test_pointer = open(my_file_test)\n",
    "print(my_file_test_pointer)\n",
    "print(\"~\"*15)\n",
    "# the unimaginably named my_file_test_contents should regurgitate what is \n",
    "# actually in your file\n",
    "my_file_test_contents = my_file_test_pointer.read()\n",
    "print(my_file_test_contents)\n",
    "print(\"*******\")\n",
    "# the following is dna.txt NOT dna.csv and dna.txt should be located in the same folder\n",
    "# as your lecture_2B notebook if you want to avoid having to put in the full path\n",
    "my_file_name = \"dna.txt\"\n",
    "#Note: you can just create a PLAIN TEXT FILE with a random sequence in it. \n",
    "print(my_file_name)\n",
    "#my_file_pointer is the pointer\n",
    "my_file_pointer = open(my_file_name)\n",
    "print(my_file_pointer)\n",
    "#read my file contents\n",
    "my_file_contents = my_file_pointer.read()\n",
    "print(my_file_contents)\n",
    "my_file_pointer.close()"
   ]
  },
  {
   "cell_type": "markdown",
   "metadata": {},
   "source": [
    "## .rstrip() method\n",
    "\n",
    "Opening files can sometimes require something _extra_.\n",
    "\n",
    "For instance, files can contain **hidden** characters such as \\n (which means start a newline) which need to be removed. A straightforward way to do this is to use the string method: **_.rstrip(“\\n”)_**\n",
    "\n",
    "There is also a separate method for removing hidden characters from the left side of the string called **_.lstrip()_**. However, that generally isn't relevant for I/O so I mention it merely for completeness."
   ]
  },
  {
   "cell_type": "code",
   "execution_count": 80,
   "metadata": {},
   "outputs": [
    {
     "name": "stdout",
     "output_type": "stream",
     "text": [
      "Sequence is AAAAAAAAAAAAAAAAAAAAAAAAAAAAAAA and the length is 31 bp\n"
     ]
    }
   ],
   "source": [
    "#open the file\n",
    "my_file=open(\"dna.txt\")\n",
    "\n",
    "#read contents - you could do this in two lines:\n",
    "# 1. read in files contents\n",
    "my_file_contents= my_file.read()\n",
    "# 2. put file contents into variable WITHOUT the .rstrip(), see what happens: \n",
    "#my_DNA=my_file_contents\n",
    "\n",
    "# or 2. put file contents into variable WITH the .rstrip(), see what happens:\n",
    "my_DNA=my_file_contents.rstrip(\"\\n\")\n",
    "\n",
    "# -----------------------------\n",
    "#notice that you can BE MORE EFFICIENT AND append the .rstrip method to the read method.\n",
    "# --------------------------\n",
    "#my_DNA = my_file.read().rstrip(\"\\n\")\n",
    "#calculate length by using built in function len(). We will see this method A LOT. \n",
    "dna_length=len(my_DNA)\n",
    "#print output\n",
    "print(\"Sequence is \"+my_DNA+\" and the length is \"+str(dna_length) +\" bp\")\n",
    "my_file.close()"
   ]
  },
  {
   "cell_type": "markdown",
   "metadata": {},
   "source": [
    "## Writing to an output file\n",
    "The steps involved in writing to a file: \n",
    "\n",
    "1. Open/create file with permissions\n",
    "2. Write to file:  .write()\n",
    "3. Close file: .close() – ensures that output to a file is flushed\n"
   ]
  },
  {
   "cell_type": "code",
   "execution_count": 81,
   "metadata": {},
   "outputs": [],
   "source": [
    "#remember the first example we gave and we asked what it did?\n",
    "# Here it is again but this time you know what it does!\n",
    "my_list = [i**2 for i in range(1,11)]\n",
    "\n",
    "my_file = open(\"output.txt\", \"w\")\n",
    "\n",
    "for each in my_list:\n",
    "    my_file.write(str(each)+\"\\n\")\n",
    "\n",
    "# After running this cell, you could try running it again with the following line\n",
    "#hashed out. When you open output.txt, what happens when the .close() is hashed out? \n",
    "my_file.close()"
   ]
  },
  {
   "cell_type": "markdown",
   "metadata": {},
   "source": [
    "## Reading from an output file\n",
    "1. open file \n",
    "2. read file \n",
    "    a. read one line at a time from file. First time it is called, it reads first line, second time it is called, it reads second line etc. \n",
    "            .readline()\n",
    "    b. read entire file contents\n",
    "            .readlines()\n",
    "3. close file"
   ]
  },
  {
   "cell_type": "code",
   "execution_count": 83,
   "metadata": {},
   "outputs": [
    {
     "name": "stdout",
     "output_type": "stream",
     "text": [
      "1\n",
      "4\n",
      "9\n"
     ]
    }
   ],
   "source": [
    "#All contents of file are read at once\n",
    "my_file=open(\"output.txt\", \"r\")\n",
    "# you could print off only the first 5 characters -- including the \\n\n",
    "print(my_file.read(5))\n",
    "my_file.close()"
   ]
  },
  {
   "cell_type": "code",
   "execution_count": 84,
   "metadata": {},
   "outputs": [
    {
     "name": "stdout",
     "output_type": "stream",
     "text": [
      "1\n",
      "4\n"
     ]
    }
   ],
   "source": [
    "#one line at a time of the file contents are read\n",
    "# the difference between readlines() and readline() methods.\n",
    "my_file=open(\"output.txt\",\"r\")\n",
    "#print(my_file.readlines())\n",
    "#print(my_file.readline().rstrip(\"\\n\"))\n",
    "#print(my_file.readline().rstrip(\"\\n\"))\n",
    "#print(my_file.readline().rstrip(\"\\n\"))\n",
    "my_file.close()"
   ]
  },
  {
   "cell_type": "markdown",
   "metadata": {},
   "source": [
    "Discussion Thread Exercise on Bb: \n",
    "________________________\n",
    "\n",
    "(Don't need to do the first two parts of this, the sequence has been included along with your lecture notes in module 2)\n",
    "* go to ncbi and conduct a BLAST search( https://blast.ncbi.nlm.nih.gov/Blast.cgi ) for U81861 (This includes two protein for flagella in Salmonella) \n",
    "* download the aligned DNA sequence in FASTA format (the complete sequence is really long) and save the FASTA file in the same path as this lecture (so it can access it).\n",
    "(This is where you should start):\n",
    "* open the file, remove the first line of the FASTA file and then write the sequence to a different file.(This can be 'pseudocode' for now but it will be useful to think about it for your assignment.)  "
   ]
  },
  {
   "cell_type": "markdown",
   "metadata": {},
   "source": [
    "## Why do we need to *__close__* our files? \n",
    "Data is buffered during the I/O process which means it is held in a temporary location before being written to the file. \n",
    "\n",
    "Python doesn’t flush the buffer (write the buffer to the file) until it is sure that you are done writing so you must close the file or the data won’t be transferred to the correct file.\n",
    "\n",
    "Digression for when you want to use Python in the wild: Python can automatically close your files for you by using the two built in methods: __enter__(); __exit__() \n"
   ]
  },
  {
   "cell_type": "code",
   "execution_count": 85,
   "metadata": {},
   "outputs": [
    {
     "name": "stdout",
     "output_type": "stream",
     "text": [
      "Not closing files is VERY BAD.\n"
     ]
    }
   ],
   "source": [
    "#Open the file for reading\n",
    "read_file = open(\"dummy.txt\", \"r\")\n",
    "\n",
    "# Use a second file handler to open the file for writing\n",
    "write_file = open(\"dummy.txt\", \"w\")\n",
    "# Write to the file\n",
    "write_file.write(\"Not closing files is VERY BAD.\")\n",
    "# if we hash out the next line, the buffer won't know to read the line into our dummy.txt file\n",
    "write_file.close()\n",
    "\n",
    "# Try to read from the file\n",
    "print(read_file.read())\n",
    "read_file.close()"
   ]
  },
  {
   "cell_type": "code",
   "execution_count": 86,
   "metadata": {},
   "outputs": [
    {
     "name": "stdout",
     "output_type": "stream",
     "text": [
      "\n"
     ]
    }
   ],
   "source": [
    "# what happens when we use the same example as above but don't close our file? \n",
    "#Open the file for reading\n",
    "read_file = open(\"dummy.txt\", \"r\")\n",
    "\n",
    "# Use a second file handler to open the file for writing\n",
    "write_file = open(\"dummy.txt\", \"w\")\n",
    "# Write to the file\n",
    "write_file.write(\"Not closing files is VERY BAD.\")\n",
    "#*******\n",
    "#write_file.close()\n",
    "#*******\n",
    "# Try to read from the file but it doesn't read - why? \n",
    "print(read_file.read())\n",
    "read_file.close()"
   ]
  },
  {
   "cell_type": "markdown",
   "metadata": {},
   "source": [
    "### A bit of a digression but you may need it at some point:\n",
    "## \\__enter\\__ and \\__exit\\__ methods\n",
    "* These are context manager in classes <- we will learn what classes are in OOP in Lecture 14\n",
    "* We don't want to focus too much on these methods right now, since that would lead us into a digression about OOP before we are ready\n",
    "* However, you might encounter these ideas as you are out in the world so I have included this just in case.\n",
    "* briefly, context managers allow setup and cleanup behaviours on objects when created with a __with__ statement\n",
    "* Get rid of a lot of the opening and closing boilerplate by using these methods: \\__exit\\__() automatically closes the file\n",
    "* We can invoke \\__exit\\__() by using the **with** and **as** keywords\n",
    "Example syntax:\n",
    "\n",
    "with open(\"text.txt\", \"w\") as textfile:\n",
    "\n",
    "\ttextfile.write(\"Success!\")\n"
   ]
  },
  {
   "cell_type": "code",
   "execution_count": 70,
   "metadata": {},
   "outputs": [],
   "source": [
    "class File():\n",
    "    def __init__(self, file_name, method):\n",
    "        self.file_obj = open(file_name, method)\n",
    "    def __enter__(self):\n",
    "        return self.file_obj\n",
    "    def __exit__(self, type, value, traceback):\n",
    "        self.file_obj.close()\n",
    "#Just by defining __enter__ and __exit__ methods we can use it in a with statement. Let’s try:\n",
    "\n",
    "with File('demo.txt', 'w') as opened_file:\n",
    "    opened_file.write('Hola!')\n",
    "#this should create and write Hola to a file called demo.txt in the same path as your \n",
    "# Lecture_2B notebook\n",
    "#Our __exit__ function accepts three arguments. They are required by every\n",
    "# __exit__ method which is a\n",
    "#part of a Context Manager class. Let’s talk about what happens under-the-hood.\n",
    "\n",
    "#The with statement stores the __exit__ method of File class. \n",
    "# It calls the __enter__ method of File class.\n",
    "#__enter__ method opens the file and returns it.\n",
    "# The opened file handle is passed to opened_file. We write to\n",
    "# the file using .write()\n",
    "\n",
    "#with statement calls the stored __exit__ method.\n",
    "\n",
    "#the __exit__ method closes the file.\n",
    "   "
   ]
  },
  {
   "cell_type": "markdown",
   "metadata": {},
   "source": [
    "## Need to test whether file is open or closed\n",
    "Python file objects have a closed attribute which is True when the file is closed and False when it is open\n",
    "\n",
    "Example syntax: \n",
    "\n",
    "    File_object.closed\n",
    "    \n",
    "This will be more useful when we discuss logic/Boolean\n"
   ]
  },
  {
   "cell_type": "code",
   "execution_count": 72,
   "metadata": {},
   "outputs": [
    {
     "name": "stdout",
     "output_type": "stream",
     "text": [
      "True\n"
     ]
    }
   ],
   "source": [
    "with open (\"text.txt\",\"w\") as my_file: \n",
    "    my_file.write(\"Fisher's 1918 paper is hard. \")\n",
    "if my_file.closed == False:\n",
    "    my_file.close()\n",
    "print(my_file.closed)"
   ]
  },
  {
   "cell_type": "markdown",
   "metadata": {},
   "source": [
    "### Now back to the basics...\n",
    "## User input\n",
    "We are not always going to want to use a ‘hard coded’ path to a file; our program will be more flexible if we can ask a user for the input file\n",
    "\n",
    "This can lead to a problem, for instance, a file that doesn’t exist (perhaps because it has been mistyped)\n",
    "\n",
    "There are two main steps when seeking user input: \n",
    "\n",
    "        * User input\n",
    "        * User validation\n",
    "\n",
    "The **input()** function returns a string. This means that depending on what you are trying to enter you may need\n",
    "to convert it to an int(). "
   ]
  },
  {
   "cell_type": "code",
   "execution_count": 10,
   "metadata": {
    "scrolled": true
   },
   "outputs": [
    {
     "name": "stdout",
     "output_type": "stream",
     "text": [
      "Are you in your first, second, third, fourth or more year of university?: \n",
      "infinite\n",
      "What is your major?\n",
      "bio and math\n",
      "BIO AND MATH\n",
      "What is your favorite class so far?\n",
      "this one\n",
      "To summarize, you're in your 'infinite' year of university, are pursuing a 'bio and math' major and you love 'this one'\n",
      "Now onto inputting integers\n",
      "1\n",
      "2\n",
      "12\n",
      "We didn't mean to concatenate them, did we?\n",
      "Your total of the two numbers is: 3\n"
     ]
    }
   ],
   "source": [
    "print(\"Are you in your first, second, third, fourth or more year of university?: \")\n",
    "year = input()\n",
    "print(\"What is your major?\")\n",
    "major = input()\n",
    "print(major.upper())\n",
    "print(\"What is your favorite class so far?\")\n",
    "fav = input()\n",
    "print(\"To summarize, you're in your %r year of university, are pursuing a %r major and you love %r\"%(year, major, fav))\n",
    "\n",
    "#to demonstrate the sometimes necessary conversion to integers: \n",
    "print(\"Now onto inputting integers\")\n",
    "A = input()\n",
    "B = input()\n",
    "print(A+B)\n",
    "# this means that input() brings in user provided variables/info as a string\n",
    "print(\"We didn't mean to concatenate them, did we?\")\n",
    "total=int(A)+int(B)\n",
    "print(\"Your total of the two numbers is: \"+str(total))"
   ]
  },
  {
   "cell_type": "code",
   "execution_count": 73,
   "metadata": {},
   "outputs": [
    {
     "name": "stdout",
     "output_type": "stream",
     "text": [
      "Enter the accession name:adkjh9\n",
      "Here is the name: adkjh9\n",
      "Enter filename: dna.js\n",
      "False\n",
      "Here is your file name: 'dna.js'\n",
      "Here is the pointer to your file object: <_io.TextIOWrapper name='dna.js' mode='a+' encoding='UTF-8'>\n",
      "We can see that we are at the end of the text file. We are here: 0\n",
      "Here are the file contents: \n",
      "---------------------------\n",
      "\n",
      "**********\n"
     ]
    }
   ],
   "source": [
    "import os.path\n",
    "# I/O - a ever-so-slightly more sophisticated example\n",
    "accession = input(\"Enter the accession name:\")\n",
    "print(\"Here is the name: \" + accession)\n",
    "\n",
    "# you can enter a filename by input. We need to wait for a response. This should be a file\n",
    "# that exists so let's use dna.txt or dummy.txt since they are both in our \n",
    "# lecture_2B pathway\n",
    "filename = input(\"Enter filename: \")\n",
    "\n",
    "# open filename that user inputted - argv holds strings so you don't need quotes around\n",
    "# the filename open() creates a file object named txt\n",
    "#let's you check to see if the file your user inputted actually exists \n",
    "# does the file or folder exist - if it does, it should return True\n",
    "print(os.path.isfile(filename))\n",
    "\n",
    "txt = open(filename, \"a+\")\n",
    "# see what happens when you don't add the \"a+\" permission by unhashing out the next line .....\n",
    "#txt=open(filename,\"w+\")\n",
    "print(\"Here is your file name: %r\" % filename)\n",
    "# txt is a file object, print it out to remind yourself of the difference between file name and file object\n",
    "print(\"Here is the pointer to your file object: \" + str(txt))\n",
    "# read the text file object, txt, with the .read() method and print it to the screen\n",
    "file_contents = txt.read()\n",
    "\n",
    "# There is something strange that happens when you are in a+ permissions - the pointer position is after \n",
    "# the last character that is already in the file - so you can append to it instead of overwriting it! This means\n",
    "# that if we ask it to print the file contents, it will print nothing since the pointer is at the current end.\n",
    "# We can check where the pointer position with the method, .tell()\n",
    "print(\"We can see that we are at the end of the text file. We are here: \"+str(txt.tell()))\n",
    "# we can then reposition the pointer to be at 0 if we wanted to do so - obviously this is a little dangerous\n",
    "# and for the most part unnecessary. the Method is the .seek() method. \n",
    "print(\"Here are the file contents: \")\n",
    "print(\"---------------------------\")\n",
    "# this should print nothing since we are at the end of our text file - the pointer is at the end of the text file -\n",
    "# and we haven't added anything to it yet. \n",
    "print(file_contents)\n",
    "print(\"*\" * 10)\n",
    "txt.write(\"AAAAAAAAAAAAAAAAAAAAAAAAAAAAAAA_______\")\n",
    "# if you open up the dummy.txt file you should now see that the A's have been appended\n",
    "txt.close()\n",
    "# you need to close to flush the file"
   ]
  },
  {
   "cell_type": "code",
   "execution_count": null,
   "metadata": {},
   "outputs": [],
   "source": []
  }
 ],
 "metadata": {
  "kernelspec": {
   "display_name": "Python 3",
   "language": "python",
   "name": "python3"
  },
  "language_info": {
   "codemirror_mode": {
    "name": "ipython",
    "version": 3
   },
   "file_extension": ".py",
   "mimetype": "text/x-python",
   "name": "python",
   "nbconvert_exporter": "python",
   "pygments_lexer": "ipython3",
   "version": "3.7.4"
  }
 },
 "nbformat": 4,
 "nbformat_minor": 2
}
