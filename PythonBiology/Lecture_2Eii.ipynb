{
 "cells": [
  {
   "cell_type": "markdown",
   "metadata": {},
   "source": [
    "## while loops <-- the most dangerous loop of all....\n",
    "* Similar to an if statement – it executes code as long as condition is true\n",
    "* Can be dangerous since it is possible to (accidentally) create a loop that is always true--> leading to an infinite loop (a loop that will never exit either because the loop condition itself is never false or what happens in the loop prevents the condition from ever being false)\n",
    "\n",
    "* syntax: \n",
    "\n",
    "loop_condition = True\n",
    "    \n",
    "    while loop_condition:\n",
    "        print(\"I am a loop”)\n",
    "        loop_condition = False\n",
    "        \n",
    "* often used to *check that user input is appropriate* \n",
    "\n",
    "* you want a user to input only either a ‘y’ or a ‘n’ and nothing else:\n",
    "    \n",
    "    choice = input('Enjoying the course? (y/n)')\n",
    "\n",
    "    while choice !='y' and choice !='n':  \n",
    "   \n",
    "        choice = input(\"Sorry, I didn't catch that. Enter again: \")\n",
    "    \n",
    "* break is often used in conjuction with while loops so that they don't become infinite loops. "
   ]
  },
  {
   "cell_type": "code",
   "execution_count": 1,
   "metadata": {},
   "outputs": [
    {
     "name": "stdout",
     "output_type": "stream",
     "text": [
      "0\n",
      "**********\n",
      "1\n",
      "**********\n",
      "2\n",
      "**********\n",
      "3\n",
      "**********\n",
      "4\n",
      "**********\n",
      "5\n",
      "**********\n",
      "6\n",
      "**********\n",
      "7\n",
      "**********\n",
      "8\n",
      "**********\n",
      "9\n",
      "**********\n",
      "10\n",
      "~~~~~~~~~~~~\n",
      "10\n",
      "I am just before the break\n",
      "11\n"
     ]
    }
   ],
   "source": [
    "count=0\n",
    "while count<10:\n",
    "    print(count)\n",
    "    print(\"*\"*10)\n",
    "    count=count+1\n",
    "print(count)\n",
    "print(\"~~~~~~~~~~~~\")\n",
    "while count>=10:\n",
    "    print(count)\n",
    "    count+=1\n",
    "    print(\"I am just before the break\")\n",
    "    print(count)\n",
    "    #break will go through the while loop once and it will break out. \n",
    "    #WHAT WOULD HAPPEN IF THIS BREAK WASNT THERE?\n",
    "    break\n",
    "    print(\"-----------------\")"
   ]
  },
  {
   "cell_type": "code",
   "execution_count": 15,
   "metadata": {},
   "outputs": [
    {
     "name": "stdout",
     "output_type": "stream",
     "text": [
      "Lucky numbers! Three numbers will be generated\n",
      "If one of them is 5, you lose.\n",
      "1\n",
      "3\n",
      "5\n",
      "Sorry, you lose!\n",
      "See you again.\n"
     ]
    }
   ],
   "source": [
    "import random\n",
    "\n",
    "print(\"Lucky numbers! Three numbers will be generated\")\n",
    "print(\"If one of them is 5, you lose.\")\n",
    "\n",
    "count = 0\n",
    "while count <3:\n",
    "    num=random.randint(1,6)\n",
    "    print(num)\n",
    "    if num == 5:\n",
    "        print(\"Sorry, you lose!\")\n",
    "        break # the break means the else loop will be bypassed if the if condition is met\n",
    "    count+=1\n",
    "else:\n",
    "    print(\"you win!\")\n",
    "\n",
    "print(\"See you again.\")"
   ]
  },
  {
   "cell_type": "code",
   "execution_count": 16,
   "metadata": {},
   "outputs": [
    {
     "name": "stdout",
     "output_type": "stream",
     "text": [
      "Your guess: 3\n",
      "Your guess: 5\n",
      "Your guess: 60\n",
      "You lose\n"
     ]
    }
   ],
   "source": [
    "from random import randint\n",
    "#since you are importing a specific function, randint, you don't need to use it as a method\n",
    "#of random\n",
    "# Generates a number from 1 through 10 inclusive\n",
    "random_number = randint(1, 10)\n",
    "\n",
    "guesses_left = 3\n",
    "# Start your game!\n",
    "while guesses_left>0:\n",
    "    #cheating for the purpose of trouble shooting\n",
    "    #print(random_number)\n",
    "    guess=int(input(\"Your guess: \"))\n",
    "    if guess==random_number:\n",
    "        print(\"You win!\")\n",
    "        #the break goes through the loop once and then breaks out of it!\n",
    "        break\n",
    "    guesses_left-=1\n",
    "else:\n",
    "    print(\"You lose\")"
   ]
  },
  {
   "cell_type": "code",
   "execution_count": 20,
   "metadata": {},
   "outputs": [
    {
     "name": "stdout",
     "output_type": "stream",
     "text": [
      "24\n"
     ]
    }
   ],
   "source": [
    "#another example of counting down with a while loop\n",
    "def factorial(x):\n",
    "    fac=1\n",
    "    while x!=0:\n",
    "        fac=fac*x\n",
    "        x=x-1\n",
    "    return fac\n",
    "print(factorial(4))"
   ]
  },
  {
   "cell_type": "markdown",
   "metadata": {},
   "source": [
    "#### Another way of de-bugging: Try/Except\n",
    "\n",
    "* allows you to create your own meaningful (ie. specific) error term\n",
    "* https://docs.python.org/3/tutorial/errors.html\n",
    "\n",
    "1. often used with while loops\n",
    "2. Often used to confirm user input\n",
    "3. You can also use an else statement with it (although it is called Try/Except)\n",
    "4. You can also use finally statement with it"
   ]
  },
  {
   "cell_type": "code",
   "execution_count": 22,
   "metadata": {},
   "outputs": [
    {
     "name": "stdout",
     "output_type": "stream",
     "text": [
      "0\n",
      "Error case\n",
      "okay, we are back regardless of the value the user inputted. \n"
     ]
    }
   ],
   "source": [
    "# Enter integer value that is greater than 0 from the console.\n",
    "x = int(input())\n",
    "\n",
    "# try this code: Divide 1 by x to test error cases\n",
    "# in a try clause, all statements are executed until exception is raised \n",
    "try:\n",
    "    result = 1/x\n",
    "\n",
    "# Execute this code if there is an exception \n",
    "# if user has inputted a 0, we can't use it as a denominator \n",
    "# you could have multiple except statements, where each one corresponded to a particular\n",
    "# exception condition\n",
    "except:\n",
    "    print(\"Error case\")\n",
    "     \n",
    "# we have now created a pass case to get back to the body of the program and continue\n",
    "# IF NO EXCEPTIONS ARE ENCOUNTERED\n",
    "else:\n",
    "    print(\"Pass case\")\n",
    "    pass\n",
    "    \n",
    "# finally will ALWAYS run, even if an exception was encountered. \n",
    "finally: \n",
    "    print(\"okay, we are back regardless of the value the user inputted. \")"
   ]
  },
  {
   "cell_type": "code",
   "execution_count": null,
   "metadata": {},
   "outputs": [],
   "source": []
  }
 ],
 "metadata": {
  "kernelspec": {
   "display_name": "Python 3",
   "language": "python",
   "name": "python3"
  },
  "language_info": {
   "codemirror_mode": {
    "name": "ipython",
    "version": 3
   },
   "file_extension": ".py",
   "mimetype": "text/x-python",
   "name": "python",
   "nbconvert_exporter": "python",
   "pygments_lexer": "ipython3",
   "version": "3.7.4"
  }
 },
 "nbformat": 4,
 "nbformat_minor": 2
}
