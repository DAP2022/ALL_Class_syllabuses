{
 "cells": [
  {
   "cell_type": "markdown",
   "metadata": {},
   "source": [
    "### Summary:\n",
    "\n",
    "1. string manipulations\n",
    "\n",
    "2. I/O - file objects and the read and write methods associated with them\n",
    "    - always flush your buffer by closing your file objects!\n",
    "    "
   ]
  },
  {
   "cell_type": "code",
   "execution_count": 9,
   "metadata": {},
   "outputs": [
    {
     "name": "stdout",
     "output_type": "stream",
     "text": [
      "HUA\n",
      "CHI\n",
      "A\n",
      "HUAHUA\n"
     ]
    }
   ],
   "source": [
    "#review on slicing\n",
    "myDog=\"CHIHUAHUA\"\n",
    "print(myDog[-3:])\n",
    "print(myDog[:3])\n",
    "print(myDog[-1])\n",
    "print(myDog[3:])"
   ]
  },
  {
   "cell_type": "markdown",
   "metadata": {},
   "source": [
    "# Lists and loops\n",
    "\n",
    "Programming is particularly useful for repetitive processing of data sets that have multiple pieces of information (ie. not just one sequence but multiple sequences - an even unknown number of sequences). \n",
    "\n",
    "**WE WILL BEGIN TO COUNT FROM 0**\n",
    "\n",
    "## Lists\n",
    "\n",
    "* Data type which hold a *flexible* number of pieces of related information that are *homogenous* - the same type (such as strings or numbers although you can also have lists of lists which would allow you to combine different data types)\n",
    "* Allow us to store **many** elements in a **single variable**\n",
    "        * Similar to strings in how they are indexed \n",
    "            * Start counting at '0'\n",
    "        * Use square brackets: []\n",
    "* Lists do not have to be of a fixed length!\n",
    "* **mutable**\n",
    "    * Lists are objects which share similarities to strings but, unlike strings, lists are mutable (they can be changed after they are created). This is because lists are actually full of pointers to objects (strings point to the actual character)\n",
    "    \n",
    "* You will sometimes need to create a list that is initially empty: empty_list=[]\n",
    "* _Assignment_ to lists:\n",
    "        list_name=[item_1,item_2]\n",
    "\n",
    "## Loops\n",
    "* Repetition with variation\n",
    "* Allows us to process **lists** or **other iterable objects**  one element at a time "
   ]
  },
  {
   "cell_type": "code",
   "execution_count": 4,
   "metadata": {},
   "outputs": [
    {
     "name": "stdout",
     "output_type": "stream",
     "text": [
      "4533021184\n",
      "The first animal at the zoo is the pangolin\n",
      "4533047408\n",
      "The second animal at the zoo is the cassowary\n",
      "4533047664\n",
      "The third animal at the zoo is the sloth\n",
      "4533047728\n",
      "The fourth animal at the zoo is the platypus\n",
      "4533047984\n",
      "this line will be printed every time through a loop\n",
      "1\n",
      "this line only appears once.\n"
     ]
    }
   ],
   "source": [
    "# Simple example\n",
    "# I stole this from codeacademy and cut it down to demonstrate lists\n",
    "# and loop aspect\n",
    "#The list of animals is stored in one list variable, zoo_animals.\n",
    "# This makes it easier \n",
    "# to keep track of then if all the animals were separate variables\n",
    "\n",
    "zoo_animals = [\"pangolin\", \"cassowary\", \"sloth\",\"platypus\"]\n",
    "print(id(zoo_animals))\n",
    "#Here is a primative loop. We have not yet learned about \n",
    "# condition/criteria so don't worry about 'if' yet. \n",
    "if len(zoo_animals) > 3:\n",
    "    print(\"The first animal at the zoo is the \" + zoo_animals[0])\n",
    "    print(id(zoo_animals[0]))\n",
    "    print(\"The second animal at the zoo is the \" + zoo_animals[1])\n",
    "    print(id(zoo_animals[1]))\n",
    "    print(\"The third animal at the zoo is the \" + zoo_animals[2])\n",
    "    print(id(zoo_animals[2]))\n",
    "    print(\"The fourth animal at the zoo is the \" + zoo_animals[3])\n",
    "    print(id(zoo_animals[3]))\n",
    "print(zoo_animals.index(\"cassowary\"))\n",
    "#zoo_animals.append(\"Manatee\")\n",
    "#print(zoo_animals)\n",
    "#print(id(zoo_animals))\n",
    "#zoo_animals.append([\"Manatee\",\"Narwhal\"])\n",
    "#print(zoo_animals)\n",
    "#print(id(zoo_animals))"
   ]
  },
  {
   "cell_type": "markdown",
   "metadata": {},
   "source": [
    "Discussion thread TIME!: \n",
    "______________________________\n",
    "\n",
    "1. Mixed_list=[\"why\", \"was\", 6, \"afraid\", \"of\", 7,\"?\"] \n",
    "Make up your own 'mixed' list (note that while this not verboten, we usually use lists with homogeneous data types - it isn't good programming hygiene to mix our data types in a list). \n",
    "\n",
    "2. Check to see if you can make a \"list of lists\"\n",
    "\n",
    "3. a. Add a fifth animal to the zoo above. \n",
    "   b. Replace the sloth with a capybara.  "
   ]
  },
  {
   "cell_type": "markdown",
   "metadata": {},
   "source": [
    "## More about lists\n",
    "*Access individual values in a list by:*\n",
    "        1. Using [number] \n",
    "            * list_name[0], list_name[1], etc\n",
    "            \n",
    "        2. Using[-1]\n",
    "             * Last element (if you don’t know how long a list is this is very useful)\n",
    "             \n",
    "        3. .index() method\n",
    "            * See next cell for example\n",
    "            * you need to use () instead of [] <-- if you forget this, you will raise an exception (and then you will almost certainly have to google the exception to figure out what went wrong)\n",
    "            \n",
    "        4. Access a portion of a list\n",
    "            * Specify a range of elements from list using the format: [initial inclusive num: exclusive last num]\n",
    "            * This method doesn't overwrite or modify original list!\n",
    "            * examples: \n",
    "                    1. item_list[0:2] <-- access first and second item. NB: if you want to access last item \n",
    "                       ie. in this example, include item at index 2, you need to write it as:\n",
    "                            * item_list[0:n+1]\n",
    "                    2. item_list[3:] <-- access fourth up to the last item\n",
    "                    3. item_list[:5] <-- access the first five items\n",
    "           "
   ]
  },
  {
   "cell_type": "code",
   "execution_count": 2,
   "metadata": {},
   "outputs": [
    {
     "name": "stdout",
     "output_type": "stream",
     "text": [
      "The first Primate is Gorilla gorilla\n",
      "The second Primate is Homo sapiens\n",
      "The third Primate is Pan troglodytes\n",
      "1\n",
      "['Gorilla gorilla', 'Homo sapiens']\n"
     ]
    }
   ],
   "source": [
    "# Here is a basic example that we will build on:\n",
    "# List of great apes\n",
    "apes=[\"Gorilla gorilla\", \"Homo sapiens\",\"Pan troglodytes\"]\n",
    "print(\"The first Primate is \"+apes[0])\n",
    "print(\"The second Primate is \"+apes[1])\n",
    "print(\"The third Primate is \"+apes[2])\n",
    "\n",
    "#if you don’t know which element Homo sapiens is but you know that it is part of the list\n",
    "primate_index=apes.index(\"Homo sapiens\")\n",
    "#primate_index is now 1\n",
    "print(primate_index)\n",
    "\n",
    "#if you want the first two elements\n",
    "first_couple=apes[0:2]\n",
    "print(first_couple)\n"
   ]
  },
  {
   "cell_type": "markdown",
   "metadata": {},
   "source": [
    "## Why do you need lists?\n",
    "* No fixed length so you can add items to the end of the list with .append()\n",
    "* In fact, you can treat a string as a list of characters (once again: strings are immutable, though, I am just trying to point out that there are some similarities)\n",
    "    * you can use **len()** to get the length of the list\n",
    "    * *concatenate* two lists together with + (just like you can do with strings)\n",
    "* Once you have a list, you can easily replace one item for another: \n",
    "    * example. Replace item_3 in the following list: \n",
    "        * list_items=[\"item_1\",\"item_2\", \"item_3\"]\n",
    "        * list_items[2]=\"new_item\"\n",
    "\n",
    "### Some Useful list methods for adding to existing lists: \n",
    "#### BEWARE: They each do slightly different things....\n",
    "    1. .append(\"new_item\") <-- adds **one** element object to the end of an existing list (the added element could be a list itself) \n",
    "    2. .extend()<-- similar to append **but adding a second list to the end of an existing list will mean that you add each element from the second list one at a time**\n",
    "    3. + <-- concatenate, similar to extend\n",
    "    4. .join()<-- connects strings in a list but you need to use a connector like \",\". Technically, it takes an 'iterable' (iterables can be interated over like strings or lists) and it needs to put string that was just created from a list into a string like so: \n",
    "    list_dummy=['D','O','G']\n",
    "    # this is a tiny bit tricky because you are using NO separator for joining so you \n",
    "    #use an empty string indicated by \"\". Note that this is functionally similar to creating\n",
    "    # and empty list and then filling it up\n",
    "    print(\"\".join(list_dummy))\n",
    "    \n",
    "    5. .insert(number, \"new_item\")\n",
    "    \n",
    "  * Warning: it is prudent to determine the length of an existing list before adding to it with the **len(list_name)** function"
   ]
  },
  {
   "cell_type": "code",
   "execution_count": 3,
   "metadata": {},
   "outputs": [
    {
     "name": "stdout",
     "output_type": "stream",
     "text": [
      "['D', 'O', 'G', 'g']\n",
      "D*O*G*g\n",
      "D O G g\n",
      "D-O-G-g\n"
     ]
    }
   ],
   "source": [
    "# .join is a bit tricky because it is utilized with a bizarre syntax so here is an example \n",
    "list_dummy=['D','O','G']\n",
    "list_dummy.append('g')\n",
    "print(list_dummy)\n",
    "print(\"*\".join(list_dummy))\n",
    "print(\" \".join(list_dummy))\n",
    "print(\"-\".join(list_dummy))"
   ]
  },
  {
   "cell_type": "code",
   "execution_count": 2,
   "metadata": {},
   "outputs": [
    {
     "name": "stdout",
     "output_type": "stream",
     "text": [
      "['D', 'O', 'G', 8, 9]\n",
      "***********\n",
      "Extend:  [1, 2, 3, 4, 5]\n",
      "Concatenate:  ['D', 'O', 'G', 8, 9, 1, 2, 3, 4, 5]\n",
      "append:  [10, 11, 12, [13, 14, 15]]\n",
      "With append, what is the position where the entire list is added:  3\n",
      "~~~~~~~~\n",
      "So all three items are added as ONE element  [13, 14, 15]\n"
     ]
    }
   ],
   "source": [
    "#Demonstrated are a few ways of adding items to a list and HOW THEY DIFFER: \n",
    "# ------------------------------\n",
    "#concatenate operator\n",
    "L=[\"D\",\"O\",\"G\"]\n",
    "L=L+[8,9]\n",
    "print(L)\n",
    "print(\"***********\")\n",
    "#now we will set up a new list and use .extend method\n",
    "L2=[1,2,3]\n",
    "# ------------------------\n",
    "# Usually I want you to practice good programming hygiene and assign the results of the \n",
    "# method to a new variable. However, important note: \n",
    "#  .extend and .append return None so, in case you try it, \n",
    "# it is incorrect to assign the results of these methods to a new variable, like so: \n",
    "\n",
    "#L3=L2.extend([4,5])\n",
    "#print(L3)\n",
    "\n",
    "# in fact, you can un-hash the above two lines and see what gets printed out. I'll wait.\n",
    "# --------------------------\n",
    "L2.extend([4,5])\n",
    "print(\"Extend: \",L2)\n",
    "\n",
    "# concatenate\n",
    "L5= L+L2\n",
    "print(\"Concatenate: \",L5)\n",
    "\n",
    "#finally we will compare these two methods with .append method\n",
    "L4=[10,11,12]\n",
    "L4.append([13,14,15])\n",
    "print(\"append: \",L4)\n",
    "print(\"With append, what is the position where the entire list is added: \", L4.index([13,14,15]))\n",
    "print(\"~~~~~~~~\")\n",
    "print(\"So all three items are added as ONE element: \", L4[3])"
   ]
  },
  {
   "cell_type": "code",
   "execution_count": 3,
   "metadata": {
    "scrolled": true
   },
   "outputs": [
    {
     "name": "stdout",
     "output_type": "stream",
     "text": [
      "The first Primate is: Homo sapiens\n",
      "The second Primate is: Pan troglodytes\n",
      "The third Primate is: Gorilla gorilla\n",
      "********************\n",
      "0\n",
      "----------\n",
      "************************************\n",
      "['Homo sapiens', 'Pan troglodytes', 'Gorilla gorilla', 'Pan paniscus']\n",
      "['Homo sapiens', 'Pan troglodytes', 'Gorilla gorilla', 'Pan paniscus', 'Macaca arctoides']\n",
      "['Homo sapiens', 'Pan troglodytes', 'Gorilla gorilla', 'Pan paniscus', 'Hylobates agilis']\n",
      "~~~~~~~~~~~~~~~~~~~~\n",
      "['Homo sapiens', 'Pan troglodytes', 'Gorilla gorilla', 'Pan paniscus', 'Hylobates agilis', 'Papio ursinus', 'Macaca arctoides']\n",
      "5 apes\n",
      "2 monkeys\n",
      "7 primates\n"
     ]
    }
   ],
   "source": [
    "apes = [\"Homo sapiens\", \"Pan troglodytes\", \"Gorilla gorilla\"]\n",
    "print(\"The first Primate is: \"+apes[0])\n",
    "print(\"The second Primate is: \"+apes[1])\n",
    "print(\"The third Primate is: \"+apes[2])\n",
    "\n",
    "#what if you don't know which element Homo sapiens is but you know that it is a member\n",
    "# of the list?\n",
    "print(\"*\"*20)\n",
    "primate_index=apes.index(\"Homo sapiens\")\n",
    "print(primate_index)\n",
    "# look at the beautiful print statements that orient me in the program. Excellent for\n",
    "# trouble shooting and following along!\n",
    "print(\"-\"*10)\n",
    "#now you are adding an additional primate by appending it\n",
    "apes.append(\"Pan paniscus\")\n",
    "print(\"************************************\")\n",
    "print(apes)\n",
    "#this list is increasingly poorly named since it is now a bunch of primates and not apes.\n",
    "apes.insert(len(apes),\"Macaca arctoides\")\n",
    "#apes.insert(2,\"Macaca arctoides\")\n",
    "print(apes)\n",
    "#replace the Macaca with Hylobates agilis\n",
    "apes[4]=\"Hylobates agilis\"\n",
    "print(apes)\n",
    "#add two lists together\n",
    "monkeys=[\"Papio ursinus\",\"Macaca arctoides\"]\n",
    "primates=apes+monkeys\n",
    "print(\"~\"*20)\n",
    "print(primates)\n",
    "print(str(len(apes))+\" apes\")\n",
    "print(str(len(monkeys))+\" monkeys\")\n",
    "print(str(len(primates))+\" primates\")"
   ]
  },
  {
   "cell_type": "markdown",
   "metadata": {},
   "source": [
    "#Discussion thread example: \n",
    "\n",
    "Can you use lists to build a battleship board? A battleship board is 5 X 5 full of \"O\"s. We will build on this example (which was stolen from a Code Academy example) as we learn about for loops and, functions, and modules etc. "
   ]
  },
  {
   "cell_type": "markdown",
   "metadata": {},
   "source": [
    "### Some Useful list methods for removing items from existing lists: \n",
    "#### Once again, some subtle differences between these methods...\n",
    "\n",
    "    1. .remove(\"old_item\") <-- removes **first** matching item *if it finds it* \n",
    "    2. .pop(index)<-- removes item at index and returns it to you (so you could assign it to a variable, if you wanted to double check that it should be deleted)\n",
    "    3. del(list_name[index]) <-- not a method but it removes item at index but does not return it to you. It supports slicing syntax so you can delete everything above a set index in a list\n",
    "    4. .clear() <- removes all items from a list\n",
    "              "
   ]
  },
  {
   "cell_type": "code",
   "execution_count": 8,
   "metadata": {},
   "outputs": [
    {
     "name": "stdout",
     "output_type": "stream",
     "text": [
      "Here's our list:  [1, 3, 5, 7, 7, 9, 11, 13, 15]\n",
      "Let's investigate the standard ways of removing items from lists: \n",
      "First, .pop\n",
      "-----------\n",
      "Does the .pop method return anything? or is it just None? 15\n",
      "3\n",
      "What does the list look like now?\n",
      "[1, 5, 7, 7, 9, 11, 13]\n",
      "*******************************************\n",
      "Okay. Now, use .remove\n",
      "-----------\n",
      "Does the .remove method return anything? or is it just None? None\n",
      "What does the list look like now?\n",
      "[1, 5, 7, 9, 11, 13]\n",
      "Finally, the del function \n",
      "-----------\n",
      "What does the list look like now?\n",
      "[5, 7, 9, 11, 13]\n",
      "What does the list look like now?\n",
      "[5, 7, 9]\n"
     ]
    }
   ],
   "source": [
    "#demonstrates the seemingly subtle differences between the above \n",
    "# two methods and one command:\n",
    "n=[1,3,5,7,7,9,11,13,15]\n",
    "\n",
    "print(\"Here's our list: \", n)\n",
    "# OR convert it to a string so we can concatate it\n",
    "# print(\"Here's our list: \" +str(n))\n",
    "print(\"Let's investigate the standard ways of removing items from lists: \")\n",
    "print(\"First, .pop\")\n",
    "print(\"-----------\")\n",
    "#what will this print? Will there be a return variable when using .pop method? \n",
    "ret_var = n.pop()\n",
    "print(\"Does the .pop method return anything? or is it just None? \"+ str(ret_var))\n",
    "# Instead of popping off the last element, you can specify the element\n",
    "ret_var_2 = n.pop(1)\n",
    "print(ret_var_2)\n",
    "\n",
    "#Now print n\n",
    "print(\"What does the list look like now?\")\n",
    "print(n)\n",
    "print(\"*******************************************\")\n",
    "print(\"Okay. Now, use .remove\")\n",
    "print(\"-----------\")\n",
    "ret_var_2 =n.remove(7)\n",
    "print(\"Does the .remove method return anything? or is it just None? \"+str(ret_var_2))\n",
    "print(\"What does the list look like now?\")\n",
    "# the remove function should remove ONLY THE FIRST 7 THAT IT ENCOUNTERS SO THERE SHOULD STILL BE ONE PRESENT\n",
    "print(n)\n",
    "print(\"Finally, the del function \")\n",
    "print(\"-----------\")\n",
    "del(n[0])\n",
    "print(\"What does the list look like now?\")\n",
    "#What should be printed?\n",
    "print(n)\n",
    "#Slice \n",
    "del(n[3:])\n",
    "print(\"What does the list look like now?\")\n",
    "#What should be printed?\n",
    "print(n)"
   ]
  },
  {
   "cell_type": "markdown",
   "metadata": {},
   "source": [
    "### Some other useful list methods: \n",
    "https://docs.python.org/3/tutorial/datastructures.html\n",
    "\n",
    "    1. .index(element) <- returns the index of an element\n",
    "    2. list_name[-1] <- returns the last element of a list\n",
    "    3. .reverse()<- reverses list but changes the variable that they are used on\n",
    "    4. .sort(key, reverse = True or False) <- sorts list but changes the variable that they are used on\n",
    "    5. .count()<- counts how many are present in a list\n",
    "    \n",
    "* we will also see other useful complex data later (like lists of dictionaries or lists of tuples) but, for now, we can also have a list of lists: \n",
    "  \n",
    "  [[1,2,3],[4,5,6],[7,8],9]\n",
    "              "
   ]
  },
  {
   "cell_type": "code",
   "execution_count": 13,
   "metadata": {},
   "outputs": [
    {
     "name": "stdout",
     "output_type": "stream",
     "text": [
      "Our initial list is: ['Kingdom', 'Phylum', 'Class', 'order', 'family', 'genus', 'species']\n",
      "~~~~~~~~\n",
      "Let's see what happens when we reverse this list\n",
      "['species', 'genus', 'family', 'order', 'Class', 'Phylum', 'Kingdom']\n",
      "*******\n",
      "What has happened? The original list has been modified!\n",
      "['species', 'genus', 'family', 'order', 'Class', 'Phylum', 'Kingdom']\n",
      "..............\n",
      "What about sort? Does that also modify the list?\n",
      "by using .sort(), the original hierarchy list has been modified\n",
      "['Class', 'Kingdom', 'Phylum', 'family', 'genus', 'order', 'species']\n",
      "~~~~~~~~~ reverse = True ~~~~~~~~~~~\n",
      "['species', 'order', 'genus', 'family', 'Phylum', 'Kingdom', 'Class']\n",
      "****** Another example of slicing *******\n",
      "['species', 'order', 'genus', 'family', 'Phylum', 'Kingdom']\n"
     ]
    }
   ],
   "source": [
    "hierarchy= [\"Kingdom\",\"Phylum\",\"Class\",\"order\",\"family\",\"genus\",\"species\"]\n",
    "print(\"Our initial list is: \"+str(hierarchy))\n",
    "print(\"~~~~~~~~\")\n",
    "print(\"Let's see what happens when we reverse this list\")\n",
    "hierarchy.reverse()\n",
    "print(hierarchy)\n",
    "print(\"*******\")\n",
    "print(\"What has happened? The original list has been modified!\")\n",
    "print(hierarchy)\n",
    "print(\"..............\")\n",
    "print(\"What about sort? Does that also modify the list?\")\n",
    "hierarchy.sort()\n",
    "print(\"by using .sort(), the original hierarchy list has been modified\")\n",
    "print(hierarchy)\n",
    "print(\"~~~~~~~~~ reverse = True ~~~~~~~~~~~\")\n",
    "hierarchy.sort(reverse=True)\n",
    "print(hierarchy)\n",
    "print(\"****** Another example of slicing *******\")\n",
    "# Does this give you what you expect? replace -1, with -2\n",
    "# try moving the -1 to [-1:] and [-1:0] to see what prints out\n",
    "print(hierarchy[:-1])"
   ]
  },
  {
   "cell_type": "markdown",
   "metadata": {},
   "source": [
    "## Discussion thread time: \n",
    "___________________________________\n",
    "\n",
    "We all know that there is degeneracy in the universal genetic code. This means that every amino acid has one or more nucleotide codons. https://en.wikipedia.org/wiki/Codon_degeneracy\n",
    "\n",
    "How can a nucleotide string be fed into a program where the codons are translated using a list (you will see this in a problem set soon where you will be required to use a dictionary). \n"
   ]
  }
 ],
 "metadata": {
  "kernelspec": {
   "display_name": "Python 3",
   "language": "python",
   "name": "python3"
  },
  "language_info": {
   "codemirror_mode": {
    "name": "ipython",
    "version": 3
   },
   "file_extension": ".py",
   "mimetype": "text/x-python",
   "name": "python",
   "nbconvert_exporter": "python",
   "pygments_lexer": "ipython3",
   "version": "3.7.4"
  }
 },
 "nbformat": 4,
 "nbformat_minor": 2
}
