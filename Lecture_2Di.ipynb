{
 "cells": [
  {
   "cell_type": "markdown",
   "metadata": {},
   "source": [
    "# Functions\n",
    "\n",
    "* the important principles of modularization (breaking down into discrete chunks) and repetition in programming (I tend to think of this, generally, as encapsulation but encapsulation has the connotation of OOP which we haven't covered yet).\n",
    "\n",
    "* the inventor of the \"subroutine\" (function): https://en.wikipedia.org/wiki/Kathleen_Antonelli\n",
    "\n",
    "* We've already seen some built in methods that are associated with particular data type.\n",
    "    * ie. .upper(), lower(), len(), str()\n",
    "    \n",
    "* We've also seen built in functions that work more generally and might even work differently depending on the arguments that they are given\n",
    "    *  range()\n",
    "        * range(6) or range(0,6) result in: [0,1,2,3,4,5]\n",
    "        * range(1,6,3) results in: [1,4] since it encompasses the range from 1-6 with steps of size 4\n",
    "    * type() – returns type of data that is input as argument\n",
    "    * float() – converts integer to a float\n",
    "    * round()- rounds floats\n",
    "    * max() – takes any number of arguments and returns the largest one. Hard to use on strings so use of floats and integers\n",
    "    * min() – opposite of max()\n",
    "    * abs() – absolute value but only takes one argument\n",
    "\n",
    "Here is the link to more built in functions: \n",
    "https://docs.python.org/3/library/functions.html\n",
    "\n",
    "## Modules: \n",
    "\n",
    "* Python (and most other languages) have built-in functions that are general use\n",
    "* Modules and libraries (we’ll learn about them later) are a way to address discipline-centric functions\n",
    "    * Sometimes, we will will need to write a particular function for our own specific research needs\n",
    "    \n",
    "* We can import modules (we saw this in an earlier example) that contain functions and variables or we can create our own:\n",
    "\n",
    "<div class=\"alert alert-block alert-warning\">\n",
    "\t\t\n",
    "        \n",
    "        import math   \n",
    "#you can also import ALL functions from a module by using the astericks symbol, *\n",
    "\t\t\n",
    "        print(math.sqrt(100))\n",
    "        \n",
    " <div class=\"alert alert-block alert-warning\">\n",
    "    \n",
    "    \n",
    "#or, equivalently, we can bring in just one function from a module like so:\n",
    "        \n",
    "\t\tfrom math import sqrt\n",
    "\t\tprint(sqrt(100))\n"
   ]
  },
  {
   "cell_type": "markdown",
   "metadata": {},
   "source": [
    "## Creating our OWN FUNCTIONS offers a number of advantages: \n",
    "* Allows us to re-use a block of code many times\n",
    "        * Reusable piece of code; allows for repeatability\n",
    "* If we need to change the code, we only have to do it to the one function (instead of each time it is called in a program)\n",
    "* Encapsulation (an important programming idea) Splitting code into functions, into little chunks that we can work on independently \n",
    "        * benefits of modularization\n",
    "        * Can use the block of code in other programs\n",
    "### Parts of a function: \n",
    "1. Header\n",
    "    * def keyword – there are nomenclature rules\n",
    "    * :\n",
    "    * parameters – name of argument that located between ()\n",
    "          * Variable number of arguments *args \n",
    "                  * Passed into the function, \n",
    "                  * Ex: def hello_world():\n",
    "2. (optional) comment\n",
    "    * explanation of function following # \n",
    "3. Body\n",
    "    * The procedures of the function, indented four spaces\n",
    "\n",
    "**example: **\n",
    "<div class=\"alert alert-block alert-warning\">\n",
    "    \n",
    "    def function_name(argument or nothing at all):\n",
    "           Blah\n",
    "           Blah\n",
    "           Blah\n",
    "           return something\n"
   ]
  },
  {
   "cell_type": "markdown",
   "metadata": {},
   "source": [
    "* NB: There is a BIG difference between defining a function and calling it\n",
    "\n",
    "    * After defining a function, you must call it in order for it to be execute\n",
    "    \n",
    "    * **Functions return to where they are called from**\n",
    "    \n",
    "    * return prompts Python to exit the function and  assign any values on the return line to the variable that called the function in the first place. It is easy to forget to give a return line in which case python supplies “None” for you\n",
    "    \n",
    "    * To summarise: **the calling function suspends execution at the point of the call, the body of the function is executed, and control is returned to just after the point where the function was called.**\n",
    "    \n",
    "    * Similar **scoping rules** apply to functions as to loops. That is: variables created within the body of a function cannot be called outside of the function or you will get a NameError"
   ]
  },
  {
   "cell_type": "code",
   "execution_count": 6,
   "metadata": {
    "scrolled": false
   },
   "outputs": [
    {
     "name": "stdout",
     "output_type": "stream",
     "text": [
      "37 to the power of 2 is 1369.\n",
      "here is the return statement to orient me\n",
      "2\n",
      "1369\n"
     ]
    }
   ],
   "source": [
    "# here you are defining the function\n",
    "# This function raises a given number to a given power\n",
    "\n",
    "#you are passing in two arguments to the function when you call the function from the main\n",
    "# part of the program\n",
    "def power_to(base,exponent):\n",
    "    res = base**exponent\n",
    "    print(\"%d to the power of %d is %d.\" % (base, exponent, res))\n",
    "    print(\"here is the return statement to orient me\")\n",
    "    return res\n",
    "\n",
    "#here you are calling the function\n",
    "result_main=2\n",
    "result_again=power_to(37,result_main)\n",
    "\n",
    "# Why does this raise an exception? \n",
    "#print(res)\n",
    "# This error should help you with scope. \n",
    "\n",
    "print(result_main)\n",
    "print(result_again)"
   ]
  },
  {
   "cell_type": "markdown",
   "metadata": {},
   "source": [
    "### Revisiting scope \n",
    "\n",
    "* Scope  - is the region of the program from which a variable can be referenced. It is the hierarchical order in which namespace is searched to find the object. ** L.E.G.B ** is the acronym for how scope officially works: Local, Enclosed, Global and Built-in. Local can only be 'reached' by their local environment (Function), Enclosed is accessed from inside nested function, Global is accessed anywhere in the program and Built-in are reserved names in Python (like keywords such as 'def'). \n",
    "\n",
    "* The only way that a function can see a variable from another function (including the main body of the program itself) *is if the variable is passed as an argument/parameter to the function itself* \n",
    "\n",
    "* Local variables (within the function) cease to exist once the function is completed - the local variables are released from memory once the function is finished (so the memory is erased)... \n",
    "\n",
    "* Potential Confusion Warning: We saw the idea of scope when we discussed loops. Keep in mind that variables that are passed into a function don’t change their value outside of the function (ie. in the main body of the program)…usually. This is because most variables that we are interested in using are immutable such as numbers and tuples (python passes them ‘by value’). However, we were also talking about *iterating over lists* and confusingly, lists work a little bit differently than regular variables because they are made up of pointers rather than actual data/variables. Thus, they can be manipulated/changed from within a loop (called 'changed in place') and maintain that difference even once the loop is finished. Mutable data types such as lists CAN HAVE THEIR VALUE CHANGED by a function and passed back to the call where **it will remain changed.** However, this is not true of most variables since most variable are immutable. "
   ]
  },
  {
   "cell_type": "code",
   "execution_count": 12,
   "metadata": {},
   "outputs": [
    {
     "name": "stdout",
     "output_type": "stream",
     "text": [
      "Inside the function. The value of num is: \n",
      "14\n",
      "after being sent through the change_by_two function, the value of mynum2 set in the program is: \n",
      "14\n",
      "but the original value of mynum set in the program is still: \n",
      "7\n",
      "--------------\n"
     ]
    }
   ],
   "source": [
    "# functions usually don't change the values of passed parameters\n",
    "# however, if you are using lists - which contain pointers rather \n",
    "# than actual values, functions that are called CAN change the value\n",
    "# of elements of the list. Note: this example is stolen from CSC161\n",
    "\n",
    "def change_num_by_two(num):\n",
    "    #num = 2*num\n",
    "    num *= 2\n",
    "    print(\"Inside the function. The value of num is: \")\n",
    "    print(num)\n",
    "    return num\n",
    "\n",
    "mynum = 7\n",
    "mynum2 = change_num_by_two(mynum)\n",
    "\n",
    "print(\"after being sent through the change_by_two function, the value of mynum2 set in the program is: \")\n",
    "print(mynum2)\n",
    "print(\"but the original value of mynum set in the program is still: \")\n",
    "print(mynum)\n",
    "print(\"--------------\")"
   ]
  },
  {
   "cell_type": "code",
   "execution_count": 13,
   "metadata": {},
   "outputs": [
    {
     "name": "stdout",
     "output_type": "stream",
     "text": [
      "[7, 6, 5, 4, 3]\n",
      "do I get here?\n",
      "there is nothing in this list\n",
      "14\n",
      "[14, 6, 5, 4, 3]\n"
     ]
    }
   ],
   "source": [
    "#compare this to passing a list\n",
    "\n",
    "# note: you should put all of your function definitions at the top \n",
    "# of your program \n",
    "\n",
    "def change(my_list):\n",
    "    if(len(my_list)>0):\n",
    "        print(\"did I get here?\")\n",
    "        my_list[0]=my_list[0]*2\n",
    "    else:\n",
    "        print(\"there is nothing in this list\")\n",
    "        \n",
    "mylist=[7,6,5,4,3]\n",
    "empty_list=[]\n",
    "print(mylist)\n",
    "change(mylist)\n",
    "change(empty_list)\n",
    "print(mylist[0])\n",
    "print(mylist)"
   ]
  },
  {
   "cell_type": "markdown",
   "metadata": {},
   "source": [
    "#### We'll learn about it in an entire lecture dedicated just to it but, for a future placemarker:  functions can also call themselves!!*\n",
    "\n",
    "* recursive functions. How cool it that? "
   ]
  },
  {
   "cell_type": "markdown",
   "metadata": {},
   "source": [
    "## Functions can call *other* functions\n",
    "We’ll see more sophisticated versions of this fact in Module 3 lectures (there is an entire lecture based on recursion)\n",
    "\n",
    "I really want you to work through these examples and make sure you understand where the program is calling/running in the code. PythonTutor will probably help with this visualization. \n",
    "\n",
    "<div class=\"alert alert-block alert-warning\">\n",
    "example: \n",
    "    \n",
    "    def one_good_turn(n):\n",
    "       return n + 1   \n",
    "\n",
    "    def deserves_another(n):\n",
    "       return one_good_turn(n) + 2\n",
    "    \n",
    "    print(deserves_another(10))"
   ]
  },
  {
   "cell_type": "code",
   "execution_count": 3,
   "metadata": {},
   "outputs": [
    {
     "name": "stdout",
     "output_type": "stream",
     "text": [
      "13\n"
     ]
    }
   ],
   "source": [
    "def one_good_turn(n):\n",
    "    return n + 1   \n",
    "\n",
    "def deserves_another(n):\n",
    "    #return one_good_turn(n+2)\n",
    "    return one_good_turn(n) + 2\n",
    "\n",
    "#main body of the program    \n",
    "print(deserves_another(10)) #calls the function deserves_another"
   ]
  },
  {
   "cell_type": "code",
   "execution_count": 15,
   "metadata": {},
   "outputs": [
    {
     "name": "stdout",
     "output_type": "stream",
     "text": [
      "Call the DAP function which, in turn, calls the ran function\n",
      "1\n",
      "__________\n",
      "y:\n",
      "2\n",
      "z:\n",
      "3\n",
      "3\n"
     ]
    }
   ],
   "source": [
    "def ran(x):\n",
    "    x=42\n",
    "    return 2\n",
    "\n",
    "def DAP(x):\n",
    "    # here the second function, ran() is called from the middle of the first function\n",
    "    y=ran(x)\n",
    "    print(x)\n",
    "    print(\"_\"*10)\n",
    "    print(\"y:\")\n",
    "    print(y)\n",
    "    z=x+y\n",
    "    print(\"z:\")\n",
    "    print(z)\n",
    "    return z\n",
    "\n",
    "print(\"Call the DAP function which, in turn, calls the ran function\")\n",
    "print(DAP(1))"
   ]
  },
  {
   "cell_type": "code",
   "execution_count": 16,
   "metadata": {},
   "outputs": [
    {
     "name": "stdout",
     "output_type": "stream",
     "text": [
      "19683\n"
     ]
    }
   ],
   "source": [
    "# Another example just because I enjoy them so much!\n",
    "def cube(number):\n",
    "    return number**3\n",
    "    \n",
    "def by_three(number):\n",
    "    if number%3 ==0:\n",
    "        return cube(number)\n",
    "    else:\n",
    "        return False\n",
    "\n",
    "print(by_three(27))"
   ]
  },
  {
   "cell_type": "markdown",
   "metadata": {},
   "source": [
    "#Discussion thread example: \n",
    "_____________________\n",
    "1. Let's assume that we have a long DNA sequence in which each symbol is random and equally likely to be an A, C, T, or G. We'd like to determine the average number of symbols until we see the first occurrence of a start codon \"ATG\".  We'll break this into parts: \n",
    "\n",
    "       a. First, write a function in pseudocode called lengthToATG() that takes no input, generates a random letter from \"A\", \"T\", \"C\", or \"G\", and then if the last three letters generated are \"ATG\", it returns the total number of symbols that were generated. Otherwise, it repeats the process by generating a next random letter. \n",
    "       \n",
    "       \n",
    "       b. compute the average time to the ATG by creating another function that takes lengthToATC() as an argument and runs it *n* number of trials to see when an ATG is created (n=10 or 100 or 1000). "
   ]
  },
  {
   "cell_type": "markdown",
   "metadata": {},
   "source": [
    "## Other Miscellaneous facts about functions\n",
    "* Functions don’t necessarily have to return a value\n",
    "    * If no return, they will return None\n",
    "* Functions don’t need to take arguments\n",
    "* Functions don’t need to take arguments in particular order if you include a key word\n",
    "* Function arguments can have defaults \n",
    "* Functions can use *args, an argument passed into a function that **allows a flexible number of items to be inputted when the function is called**\n",
    "\n",
    "## Calling a function\n",
    "* What return value/type?\n",
    "* What argument type/number?\n",
    "* Sometimes you also need to know the order of the arguments\n",
    "    1. Key word arguments:\n",
    "        * Allows us to call functions with list of variables in whatever order we like\n",
    "    2. Defaults:\n",
    "        * Allows us to specify default values for arguments\n"
   ]
  },
  {
   "cell_type": "code",
   "execution_count": 4,
   "metadata": {},
   "outputs": [
    {
     "name": "stdout",
     "output_type": "stream",
     "text": [
      "0.47\n",
      "None\n",
      "_______\n",
      "0.54545\n",
      "None\n"
     ]
    }
   ],
   "source": [
    "# Slightly more challenging example and will look suspiciously similar to a problem set\n",
    "# question. In this case, we don't care if the A and the T are neighbours, we just care\n",
    "# about the total percentage of A and T in the sequence since it can be informative \n",
    "# about mutation rates: \n",
    "# https://journals.plos.org/plosgenetics/article?id=10.1371/journal.pgen.1001115\n",
    "\n",
    "# I fixed this by adding round() to print statement. \n",
    "def get_at_content(dna,sig_dig=2):\n",
    "# notice that we are passing two arguments to this function and \n",
    "# one of them has a default value also sig_dig is a keyword\n",
    "    length=len(dna)\n",
    "    #print(length)\n",
    "    a_count=dna.upper().count(\"A\")\n",
    "    t_count=dna.upper().count(\"T\")\n",
    "    at_content=(a_count+t_count)/length\n",
    "      #built in function round takes argument and number of decimal points \n",
    "      #remember not to mix tabs and spaces, pick either tabs or 4 spaces but not both\n",
    "      #or python will raise an indentation error exception\n",
    "    print(round(at_content,sig_dig))\n",
    "\n",
    "# main part of the program\n",
    "my_at_content=get_at_content(\"ATATATATACGGGGGGGGG\")\n",
    "# no sig dig have been specified so it gives you the default of 2 \n",
    "print(str(my_at_content))\n",
    "print(\"_______\")\n",
    "print(get_at_content(\"aactgtagcga\",5))\n"
   ]
  },
  {
   "cell_type": "code",
   "execution_count": 30,
   "metadata": {},
   "outputs": [
    {
     "name": "stdout",
     "output_type": "stream",
     "text": [
      "19\n",
      "0.47368421052631576\n",
      "0.47\n",
      "_______\n",
      "11\n",
      "0.5454545454545454\n",
      "0.54545\n"
     ]
    }
   ],
   "source": [
    "# ------------------------------------------------------------\n",
    "# SAME EXAMPLE AS ABOVE BUT WITH A default for both arguments\n",
    "def get_at_content(dna=\"ATATATATACGGGGGGGGG\",sig_dig=2):\n",
    "# notice that we are passing two arguments to this function and \n",
    "# one of them has a default value also sig_dig is a keyword\n",
    "    length=len(dna)\n",
    "    print(length)\n",
    "    a_count=dna.upper().count(\"A\")\n",
    "    t_count=dna.upper().count(\"T\")\n",
    "    at_content=(a_count+t_count)/length\n",
    "      #built in function round takes argument and number of decimal points \n",
    "      #remember not to mix tabs and spaces, pick either tabs or 4 spaces but not both\n",
    "      #or python will raise an indentation error exception\n",
    "    print(at_content)\n",
    "    return round(at_content,sig_dig)\n",
    "\n",
    "# Since both arguments have defaults, you don't have to provide an argument\n",
    "my_at_content=get_at_content()\n",
    "# no sig dig have been specified so it gives you the default of 2 \n",
    "print(str(my_at_content))\n",
    "print(\"_______\")\n",
    "# IN FACT BY USING KEY WORDS, YOU DON'T EVEN HAVE TO PROVIDE THE ARGUMENTS IN THE SAME ORDER!\n",
    "print(get_at_content(sig_dig=5,dna=\"aactgtagcga\"))"
   ]
  },
  {
   "cell_type": "code",
   "execution_count": 33,
   "metadata": {},
   "outputs": [
    {
     "name": "stdout",
     "output_type": "stream",
     "text": [
      "First let's print the whole file: \n",
      "\n",
      "Drosophila melanogaster,atatatatatcgcgtatatatacgactatatgcattaattatagcatatcgatatatatatcgatattatatcgcattatacgcgcgtaattatatcgcgtaattacga,kdy647,264\n",
      "Drosophila melanogaster,actgtgacgtgtactgtacgactatcgatacgtagtactgatcgctactgtaatgcatccatgctgacgtatctaagt,jdg766,185\n",
      "Drosophila simulans,atcgatcatgtcgatcgatgatgcatccgactatcgtcgatcgtgatcgatcgatcgatcatcgatcgatgtcgatcatgtcgatatcgt,kdy533,485\n",
      "Drosophila yakuba,cgcgcgctcgcgcatacggcctaatgcgcgcgctagcgatgc,hdt739,85\n",
      "Drosophila ananassae,ttacgatcgatcgatcgatcgatcgtcgatcgtcgatgctacatcgatcatcatcggattagtcacatcgatcgatcatcgactgatcgtcgatcgtagatgctgacatcgatagca,hdu045,356\n",
      "Drosophila ananassae,gcatcgatcgatcgcggcgcatcgatcgcgatcatcgatcatacgcgtcatatctatacgtcactgccgcgcgtatctacgcgatgactagctagact,teg436,222\n",
      "Now let's rewind this file like a tape. \n",
      "\n",
      "Let's print these three lines: \n",
      "1 Drosophila melanogaster,atatatatatcgcgtatatatacgactatatgcattaattatagcatatcgatatatatatcgatattatatcgcattatacgcgcgtaattatatcgcgtaattacga,kdy647,264\n",
      "\n",
      "2 Drosophila melanogaster,actgtgacgtgtactgtacgactatcgatacgtagtactgatcgctactgtaatgcatccatgctgacgtatctaagt,jdg766,185\n",
      "\n",
      "3 Drosophila simulans,atcgatcatgtcgatcgatgatgcatccgactatcgtcgatcgtgatcgatcgatcgatcatcgatcgatgtcgatcatgtcgatatcgt,kdy533,485\n",
      "\n"
     ]
    }
   ],
   "source": [
    "# this was an attempt to bring together a bunch of ideas that we have seen already. \n",
    "# you have also seen some of this code in a previous lecture. \n",
    "# it is a slightly more complicated program that calls a bunch of functions on a file object\n",
    "# I used it with a file called data.csv which has a couple of lines of sequence data \n",
    "# in it.  \n",
    "\n",
    "# we don't need this function for this example but maybe students could figure out how to\n",
    "# appropriately call it and use it? \n",
    "#def print_all(f):\n",
    "#    print(f.read())\n",
    "\n",
    "def rewind(f):\n",
    "    #What do you think the .seek method of file objects does? \n",
    "    f.seek(0)\n",
    "    \n",
    "#def print_a_line(line_count,f):\n",
    "#    print(line_count,f.readline())\n",
    "\n",
    "# create a file object called current_file:   \n",
    "current_file=open('data.csv')\n",
    "\n",
    "print(\"First let's print the whole file: \\n\")\n",
    "print_all(current_file)\n",
    "print(\"Now let's rewind this file like a tape. \\n\")\n",
    "\n",
    "#call the rewind function and use our FILE OBJECT as the argument to the function\n",
    "rewind(current_file)\n",
    "\n",
    "print(\"Let's print these three lines: \")\n",
    "\n",
    "# in the following commands, we COULD BUNDLE THEM MORE EFFICIENTLY AS A LOOP!!\n",
    "current_line=1\n",
    "print_a_line(current_line,current_file)\n",
    "\n",
    "current_line=current_line+1\n",
    "print_a_line(current_line,current_file)\n",
    "\n",
    "current_line=current_line+1\n",
    "print_a_line(current_line,current_file)\n",
    "\n",
    "# ALWAYS CLOSE OUR FILE OBJECT!\n",
    "current_file.close()"
   ]
  },
  {
   "cell_type": "code",
   "execution_count": 20,
   "metadata": {},
   "outputs": [
    {
     "name": "stdout",
     "output_type": "stream",
     "text": [
      "Here we are in the main body of the program\n",
      "AAAATCGCTAATATCCATGCTCACGCTATCACCTCGGTTCCGCTTTTGGCGATGTGGGTACGCTTGCCGGCGGGGCTGCC\n",
      "GCAGGCTGTTGTAATACACTTACCGGCTCATTCTGGCTTTCAGCGTTTTCATGCAAAATGGCCTGTTCCGCCTGTTTGTT\n",
      "TAACACCAGCAGGCTTATACGGCGGTTGATGGCGTCATCAGGACCGCGATCGCTCAGCCGCATCGTGGCGGCCATGCCAA\n",
      "CCACCCGTAATACTTTTCCGTTATCCAGCCCGCCAGCGACCAGTTCGCGACGAGAGGCATTGGCGCGATCGGCGGATAAC\n",
      "TCCCAGTTGCTATAGCCTTTTTCGCCGTTCGCGTAGGGAAAGTCATCGGTATGGCCGGCCAGGCTAATGCGATTAGGTAT\n",
      "ACCGTTTAACACTGGCGCAATCGCACGCAGGATATCGCGCATATACGGCTCAACTTCGGCGCTGCCGGTTTTAAACATCG\n",
      "GGCGGTTCTGGCTGTCGATAATCTGGATGCGCAACCCCTCCTGAACTAAATCAATTTTCAGATGCGGACGTAACGCGCGC\n",
      "AGTTTGGGATCGGATTCGATCAGTTGATCCAGATCGCCGCGCAGTTTGTTTAAGCGACTCTGCTCCATCCGTTTTTTCAG\n",
      "CTCGTCGATATTCGGCTGCTTTTCCACTTCACCCTGCTGTTGGGTGTAATCATCGCCGCCGCCTGGTATCGGGCTCTCGC\n",
      "TATTGGCAATCCGATTCCCCCCCGTTACCGCGGTGGCCAACGGCGTACGAAAATATTCGGCAATCTGAATTAATTCTTTA\n",
      "GGGCTGGAGATGGAAATCAGCCACATCACCAGAAAAAAAGCCATCATCGCCGTCATAAAATCGGCGTAGGCAATTTTCCA\n",
      "GGAACCGTGCGCCCCGCCGCCGTGCGGTTTGTGCCTGCGGCGTTTTACGACGACAATGGGATGAGCCTGATTTTTCATGC\n",
      "TTCCTCAGTCGTCTGCTGCTGGTTTGGGTTTCTCACTGCGCGAACGTGTTCTTCCAACTCAATAAACGATGGACGCTCAC\n",
      "TGGAATAAAGCGTTTTACGACCAAATTCCACGGCAATCGGCGGCGCATAGCCGTTCAGATTAGACAGCAGTGTGATTTTT\n",
      "ACGCACTGCATCATCTTGGTGGTTTCGGCGCTCTTCTGGCGCAAAACGGTCGCTAACGGTGAAATGAATCCATAAGCCAG\n",
      "TAAAATACCGAGGAACGTACCTACCATGGCATGGGCAATCAGCGCCCCCAACTCCGCTGCCGGACGATCGGCTGAAGCCA\n",
      "GAGCGTGAACCACCCCCATTACCGCCGCGACGATACCAAAGGCAGGCAGCGAATCCCCCACCATCGCCAGACTGTTGGCC\n",
      "GGGACTTCCGCCTCGCTTTCATGGGTTTCAATCTCTTCATCCATCAACGCTTCAATTTCGAACGTATTCATGTTGCCGCT\n",
      "GATGATCAGGCGCAGATAATCGACAATAAAATCAAGCATTACCGCATCGGCCAGAATACGCGGATAACTGGCGAAGATTT\n",
      "CACTCTCTTTTGGATTTTCAATATCGCGTTCAAGGGAGAACATCCCCTGCTGGCGTGATTTGGCCATCAGGCGATAGAGC\n",
      "AACGCCAGCAAATCCATGTACATAGATTTTGTGTATTTCGAACGACGAAATAACAACGGGATAGCTTTCATCGTGCCTTT\n",
      "GATGGCCTTCCCGTTGTTGCCGACAATGAACGCCCCTATCCCCGCGCCGCCAATGATGACCAGTTCAGCAGGTTGATAGA\n",
      "GTGCCCCAAGGTGTCCGCCGGTCATGACATAACCGCCGAAAACTGTACCGATAACCACCAGGTAACCTAATAAGATAAGC\n",
      "ACGACATCATCCTT\n",
      "here i am in the function\n",
      "1877\n",
      "a and t content\n",
      "0.4672349493873202\n",
      "0.4672\n"
     ]
    }
   ],
   "source": [
    "# this function should be SOME - not significantly - help for PS \n",
    "def get_at_content(dna=\"ATCG\",sig_dig=1):\n",
    "    length=len(dna)\n",
    "    print(\"here i am in the function\")\n",
    "    print(length)\n",
    "    a_count=dna.count(\"A\")\n",
    "    t_count=dna.count(\"T\")\n",
    "    c_count=dna.count(\"C\")\n",
    "    g_count=dna.count(\"G\")\n",
    "    at_content=(a_count+t_count)/length\n",
    "    print(\"a and t content\")\n",
    "    print(at_content)\n",
    "    return round(at_content,sig_dig)\n",
    "\n",
    "# main body of program begins here\n",
    "filename=\"dna5.txt\"\n",
    "#creating file object\n",
    "f=open(filename)\n",
    "# interact with file object using methods\n",
    "contents=f.read().rstrip(\"\\n\")\n",
    "print(\"Here we are in the main body of the program\")\n",
    "print(contents)\n",
    "print(get_at_content(contents,4))\n",
    "print(\"~~~~~~~~~~~~~~~~~~~~\")\n",
    "print(\"Default values: \",get_at_content())"
   ]
  },
  {
   "cell_type": "markdown",
   "metadata": {},
   "source": [
    "# Functions can take lists as input\n",
    "* Functions can take lists as arguments\n",
    "    * You can pass a list to a function the same way you pass any argument\n",
    "    * You will need to use one of the two formats: \n",
    "        function_name(listname) or function_name([list items])\n",
    "\n",
    "<div class=\"alert alert-block alert-warning\">\n",
    "example: \n",
    "   \n",
    "    def fizz_count(x):\n",
    "    #Define a function that counts the number of times \"fizz\" is in the list\n",
    "        count=0\n",
    "        for item in x:\n",
    "            if item==\"fizz\":\n",
    "                count=count+1\n",
    "        return count\n",
    "\n",
    "    fizz_count([\"fizz\",\"cat\",\"fizz\"])"
   ]
  },
  {
   "cell_type": "code",
   "execution_count": 27,
   "metadata": {},
   "outputs": [
    {
     "name": "stdout",
     "output_type": "stream",
     "text": [
      "2\n",
      "2\n"
     ]
    }
   ],
   "source": [
    "def fizz_count(x):\n",
    "#Define a function that counts the number of times \"fizz\" is in the list\n",
    "    count=0\n",
    "    for item in x:\n",
    "        if item==\"fizz\":\n",
    "            count=count+1\n",
    "    return count\n",
    "\n",
    "# we can create a list with a name\n",
    "fizzy_list=[\"fizz\",\"cat\",\"fizz\"]\n",
    "# pass list name into the function\n",
    "print(fizz_count(fizzy_list))\n",
    "# or we can directly pass a list into the function\n",
    "print(fizz_count([\"fizz\",\"cat\",\"fizz\"]))"
   ]
  },
  {
   "cell_type": "markdown",
   "metadata": {},
   "source": [
    "# Functions can also take multiple lists as input\n",
    "\n",
    "<div class=\"alert alert-block alert-warning\">\n",
    "example: \n",
    "   \n",
    "    m = [1, 2, 3]\n",
    "    n = [4, 5, 6]\n",
    "\n",
    "    def join_lists(x,y):\n",
    "        return x+y\n",
    "    \n",
    "    print(join_lists(m, n))\n",
    "    # You want this to print [1, 2, 3, 4, 5, 6]\n"
   ]
  },
  {
   "cell_type": "code",
   "execution_count": 22,
   "metadata": {},
   "outputs": [
    {
     "name": "stdout",
     "output_type": "stream",
     "text": [
      "[1, 2, 3, 4, 5, 6]\n"
     ]
    }
   ],
   "source": [
    "# Functions can also take multiple lists as input \n",
    "def join_lists(x,y):\n",
    "    return x+y\n",
    "\n",
    "m = [1, 2, 3]\n",
    "n = [4, 5, 6]\n",
    "\n",
    "print(join_lists(m, n))"
   ]
  },
  {
   "cell_type": "code",
   "execution_count": 32,
   "metadata": {},
   "outputs": [
    {
     "name": "stdout",
     "output_type": "stream",
     "text": [
      "How about with FOUR arguments provided: \n",
      "10\n",
      "What about with only two arguments provided: \n",
      "3\n"
     ]
    }
   ],
   "source": [
    "# Functions can also take a FLEXIBLE number of arguments. Note that the important part of \n",
    "# *args name isn't actually arg, it is *.\n",
    "# https://realpython.com/python-kwargs-and-args/\n",
    "def my_sum(*args):\n",
    "    result = 0\n",
    "    # Iterating over the Python args tuple\n",
    "    for x in args:\n",
    "        result += x\n",
    "    return result\n",
    "\n",
    "print(\"How about with FOUR arguments provided: \")\n",
    "print(my_sum(1,2,3,4))\n",
    "print(\"What about with only two arguments provided: \")\n",
    "print(my_sum(1,2))"
   ]
  },
  {
   "cell_type": "markdown",
   "metadata": {},
   "source": [
    "An example illustrating a simple function wherein I sneak in some Bayes' theorem because I love Bayes' and also because it harbours a fundamentally important philophy to computing, being able to update a prior probability/expectation based on new information. \n",
    "\n",
    "--------------------------------------\n",
    "\n",
    "#### BAYES IS SUPER IMPORTANT IN COMPUTING (especially with biological data): \n",
    "----------------------------------------\n",
    "* Functionally: it allows you to update your probability when you encounter new information or new evidence. \n",
    "\n",
    "Often we see Bayes' in the context of sensitivity and specificity of tests, like the tests for a certain disease. (https://en.wikipedia.org/wiki/Sensitivity_and_specificity)\n",
    "\n",
    "Example: \n",
    "\n",
    "Let's imagine that you are looking for an early indicator of a type of cancer. This cancer, call it cancer \"A\", is found at 1.5% of a population. Your research group has found a biomarker that is predictive of 80% of sufferers of this cancer. \n",
    "\n",
    "Most people (and, yes, sadly this does include physicians, who have been surveyed about this repeatedly and still mostly get it wrong) would conclude: \"80%?! That's great. That means if there is a positive test for this biomarker, the individual has an 80% chance of having cancer \"A\"\". \n",
    "\n",
    "However, THAT IS DEFINITELY NOT the correct interpretation. \n",
    "\n",
    "Is this surprisingly to you? \n",
    "\n",
    "In order to get to the correct interpretation, we need to know the answer to another question: \n",
    "\n",
    "**How many individual without the disease would get a positive result for this biomarker?**\n",
    "\n",
    "Let's plug in some numbers to illustrate the problem: \n",
    "--------------------------------------------------------------\n",
    "\n",
    "False positive rate = 4%\n",
    "True negative rate = 96%\n",
    "\n",
    "-------------------------\n",
    "\n",
    "True positive rate = 80%\n",
    "False negative rate = 20%\n",
    "\n",
    "-------------------------\n",
    "\n",
    "So, this test will only fail to identify 20 out of 100 sufferers, and it will only misdiagnose 4 out of 100 healthy individuals. Still sounds good, eh? \n",
    "\n",
    "Ah, but no. \n",
    "\n",
    "Let's use round numbers: We have a population of 10,000 individuals. We expect 1.5% of them to suffer from cancer A which means about 150 individuals have cancer A. Of this 150 sufferers, 120 of them will - accurately - get a positive test for the biomarker (based on the 80% true positive rate). \n",
    "\n",
    "But 9850 people in this population don't have cancer \"A\". And, with just a 4% false positive rate (which is quite low), we still expect there be 394 to test positive! \n",
    "\n",
    "If you are patient who has recieved a positive result, you will want to know \"what is the chance that i actually have cancer A?\". \n",
    "\n",
    "You have to **update** your probability. You walked into the clinic with a 1.5% chance of having cancer A, but now - with a positive test result - you have updated your probability to approximately 23%. This percentage comes from the fact that there are 514 positive individuals over all, (120 true positives and 394 false positives).  \n",
    "\n",
    "Notably, this is not 80%, though!\n",
    "\n",
    "(* note: these numbers are for the CA-125 biomarker used to detect ovarian cancer, with a lifetime risk for women of developing ovarian cancer is 1.34% and it has a false positive rate of 4%)"
   ]
  },
  {
   "cell_type": "code",
   "execution_count": null,
   "metadata": {},
   "outputs": [],
   "source": [
    "def biomarker(pDisease, pPosDisease, pPosNoDisease):\n",
    "    pNoDisease =1.0-pDisease\n",
    "    pPos=pPosDisease*pDisease+pPosNoDisease*pNoDisease\n",
    "    return round((pPosDisease*pDisease)/pPos,3)\n",
    "\n",
    "pDisease=0.015\n",
    "pPosDisease=0.8\n",
    "pPosNoDisease=0.04\n",
    "print(\"Probability(disease|positive result)= \", biomarker(pDisease, pPosDisease, pPosNoDisease))"
   ]
  },
  {
   "cell_type": "code",
   "execution_count": null,
   "metadata": {},
   "outputs": [],
   "source": [
    "# A simple and generalizable Bayesian function with Python String format\n",
    "def bayes(outComeA,outComeB,pB,pAGivenB,pAGivenNotB):\n",
    "    pNotB=1.0-pB\n",
    "    pA=pAGivenB*pB+pAGivenNotB*pNotB\n",
    "    pBGivenA=(pAGivenB*pB)/pA\n",
    "    return 'p (%s|%s) = %.2f' %(outComeB,outComeA,pBGivenA)\n",
    "\n",
    "#main part of program\n",
    "geneName='TP53 Tumor protein p53 [Homo sapiens]'\n",
    "geneID=7157\n",
    "matchProbability=98.64756341\n",
    "#print(\"The gene to be analyzed is: %s\" % geneName)\n",
    "print(\"The gene number is: %d: %s\"%(geneID,geneName))\n",
    "\n",
    "outComeA=\"Positive test result\"\n",
    "outComeB=\"has disease\"\n",
    "pB=0.015\n",
    "pAGivenB=0.8\n",
    "pAGivenNotB=0.04\n",
    "print(bayes(outComeA,outComeB,pB,pAGivenB,pAGivenNotB))"
   ]
  }
 ],
 "metadata": {
  "kernelspec": {
   "display_name": "Python 3",
   "language": "python",
   "name": "python3"
  },
  "language_info": {
   "codemirror_mode": {
    "name": "ipython",
    "version": 3
   },
   "file_extension": ".py",
   "mimetype": "text/x-python",
   "name": "python",
   "nbconvert_exporter": "python",
   "pygments_lexer": "ipython3",
   "version": "3.7.4"
  }
 },
 "nbformat": 4,
 "nbformat_minor": 2
}
