{
 "cells": [
  {
   "cell_type": "raw",
   "metadata": {},
   "source": []
  },
  {
   "cell_type": "markdown",
   "metadata": {},
   "source": [
    "## Random Walks\n",
    "* important in biology\n",
    "* ...and finance (sigh)\n",
    "* https://en.wikipedia.org/wiki/Random_walk\n",
    "We will begin our random walk at 0 and each step will consist of -1 or +1. We will only do 1000 steps because we are using regular ol' Python. __Your homework __ has your re-do this program using arrays in NumPy and you can compare the timing of 1000 steps but allow your program to go up to millions of steps since it should be more efficient."
   ]
  },
  {
   "cell_type": "code",
   "execution_count": 9,
   "metadata": {},
   "outputs": [
    {
     "name": "stdout",
     "output_type": "stream",
     "text": [
      "CPU times: user 29.8 ms, sys: 24.7 ms, total: 54.6 ms\n",
      "Wall time: 107 ms\n"
     ]
    },
    {
     "data": {
      "text/plain": [
       "[<matplotlib.lines.Line2D at 0x117ac32d0>]"
      ]
     },
     "execution_count": 9,
     "metadata": {},
     "output_type": "execute_result"
    },
    {
     "data": {
      "image/png": "[encoded data removed]",
      "text/plain": [
       "<Figure size 432x288 with 1 Axes>"
      ]
     },
     "metadata": {
      "needs_background": "light"
     },
     "output_type": "display_data"
    }
   ],
   "source": [
    "%%time\n",
    "import random\n",
    "# I am importing matplotlib so that I can plot the results of the Python code. You could\n",
    "# probably also do this with plotly but I didn't. \n",
    "import matplotlib.pyplot as plt\n",
    "# starting at point 0\n",
    "position = 0\n",
    "# setting up an array that begins with 0 and we will fill it up with 1000 steps\n",
    "# in the for loop below.\n",
    "walk = [position]\n",
    "steps = 1000\n",
    "for i in range(steps):\n",
    "    #random.randint generates 0 or 1 randomly.\n",
    "    if random.randint(0,1)==1:\n",
    "        step = 1\n",
    "    else:\n",
    "        step = -1\n",
    "    # obviously, if we were modeling proportionof alleles we would need to put a floor \n",
    "    # of 0 onto this calculation since you can't have a negative frequency of a gene. \n",
    "    # However, this example is simpler than that! \n",
    "    # In fact: How would we go about putting a floor of 0 into this code? \n",
    "    position = position + step\n",
    "    # append the new position to the array for each of the 1000 steps\n",
    "    walk.append(position)\n",
    "    \n",
    "# there should be 1000 steps in the filled-in array \n",
    "#print(walk)\n",
    "#print(len(walk))    \n",
    "# using matplotlib to plot results of 0-1000 steps\n",
    "plt.plot(walk[:1000])\n",
    "# we can refresh this code and expect to get different results each time. \n",
    "# We can also only take the first 100 steps or 500 step etc."
   ]
  },
  {
   "cell_type": "markdown",
   "metadata": {},
   "source": [
    "### 1. Intro to NumPy\n",
    "\n",
    "NumPy is a Python package. It stands for 'Numerical Python' and, unsurprisingly, it is a library consisting of all the things (data types and routines) that you might need for scientific computing. It contains \"list-like\" objects that are highly optimized and work like multidimensional array objects, matrices and data tables which is how scientists tend to think data should look: homogeneous. The tables that are produced by NumPy have tuples as indices....just so you know. It is, after all, kinda cool that someone built a more complex data type out of the data types that we have already seen. \n",
    "\n",
    "NumPy's array objects are considered the **lingua franca** of data 'exchange' since it 'talks' to C, C++ and Fortran and so it is often used along with packages like SciPy (Scientific Python) and MatPlotLib (plotting library) and PANDAS.  We'll look at those other packages, as well, but since NumPy was adopted first - and the other packages were often optimized wrt to NumPy - it makes sense to begin with it. \n",
    "\n",
    "\n",
    "Why do we care? \n",
    "•\tMathematical and logical operations on arrays (**ndarray** is an efficient multidimensional array object) WITHOUT HAVING TO WRITE LOOPS. This is crucial on LARGE data sets (like we have in genomics etc). It allows you to use Python in a way that is sort of a cross between R and Haskell (functional programming language) which makes it memory efficient. This is called *VECTORIZATION*. There is a special term for applying functions to each elements of multiple, compatibly-shaped arrays in NumPy: *BROADCASTING* It also uses a __contiguous block of memory to store data__ so the program isn't having to check the data type since the data is *homogeneous* (and other kinds of surveillance) which adds overhead to the working memroy...allowing it to be darn efficient. In fact, NumPy algorithms are 10-100X FASTER than their pure Python counterparts! We see this in the cell below. \n",
    "\n",
    "•\tFourier transforms (we mostly care about Fourier's ability to identify and process signals - especially repeating ones - in biology) and routines for shape manipulation of matrices (we don't really about these things in this class but they having easy access to these functions makes NumPy extremely useful!).\n",
    "\n",
    "•\tOperations related to linear algebra. NumPy has in-built functions for linear algebra and random number generation and also allows us to easily use popular methods for reducing-dimensionality like PCA (Principle Component Analysis). Broadcasting is when you use operations between arrays of different sizes. This is reasonably straightforward to do with NumPy but we won't cover it here except to note that when we multiply an array by a scalar that is an example of broadcasting (the scalar is 'stretched' to fit each element of the array). \n",
    "\n",
    "•\tEase of Importing/Exporting data: The numpy function __genfromtxt__ (https://docs.scipy.org/doc/numpy/reference/generated/numpy.genfromtxt.html) is a powerful way to import text data. It can use different delimiters, skip header rows, control the type of imported data, give columns of data names, and a number of other useful goodies. Basically, it allows you to import .csv files as easily as the R programming language does! Hurray!\n",
    "\n",
    "Anaconda should allow you to easily import numpy (and all the other libraries that we will use).\n",
    "\n",
    "A list of the methods (and attributes) that are available with the NumPy module are listed here: \n",
    "https://docs.scipy.org/doc/numpy-1.14.0/reference/generated/numpy.ndarray.html\n",
    "\n",
    "and here is a useful cheat sheet: \n",
    "https://s3.amazonaws.com/assets.datacamp.com/blog_assets/Numpy_Python_Cheat_Sheet.pdf"
   ]
  },
  {
   "cell_type": "markdown",
   "metadata": {},
   "source": [
    "#### Two major benefits of NumPy that we'll focus on:\n",
    "\n",
    "1. efficiency of the numpy array object\n",
    "\n",
    "2. slicing, slicing, slicing (okay, and subsetting)\n",
    "\n",
    "(3. methods associated with numpy array objects)"
   ]
  },
  {
   "cell_type": "code",
   "execution_count": 5,
   "metadata": {},
   "outputs": [
    {
     "name": "stdout",
     "output_type": "stream",
     "text": [
      "148.41312243255615\n",
      "CPU times: user 4.62 s, sys: 16.2 ms, total: 4.64 s\n",
      "Wall time: 4.66 s\n"
     ]
    }
   ],
   "source": [
    "%%time\n",
    "# Here is an example that illustrates numpy efficiency taken from this website: \n",
    "# https://towardsdatascience.com/one-simple-trick-for-speeding-up-your-python-code-with-numpy-1afc846db418\n",
    "# in the first cell is using regular ol' vanilla Python and the next cell is using numpy\n",
    "# to do the same thing\n",
    "\n",
    "num_multiplies = 50000000\n",
    "data = range(num_multiplies)\n",
    "\n",
    "number = 1\n",
    "for i in data:\n",
    "    number *= 1.0000001\n",
    "\n",
    "print(number)"
   ]
  },
  {
   "cell_type": "code",
   "execution_count": 6,
   "metadata": {},
   "outputs": [
    {
     "name": "stdout",
     "output_type": "stream",
     "text": [
      "148.41312243256164\n",
      "CPU times: user 156 µs, sys: 89 µs, total: 245 µs\n",
      "Wall time: 179 µs\n"
     ]
    }
   ],
   "source": [
    "%%time\n",
    "# let's use Numpy now to do the same thing \n",
    "import numpy as np\n",
    "\n",
    "num_multiplies = 50000000\n",
    "\n",
    "number = 1\n",
    "number *= np.power(1.0000001, num_multiplies)\n",
    "\n",
    "print(number)"
   ]
  },
  {
   "cell_type": "markdown",
   "metadata": {},
   "source": [
    "#### But, like, specifically: Why do we care about arrays? \n",
    "----------------------------------------------------------------\n",
    "* Arrays can be 1D, like lists, but they can also be 2D, like matrices, and higher-dimensional still. This allows them to represent many different kinds of numerical data. \n",
    "* Arrays can be operated on along axes. We will often want to do things like calculate the sum down each column. We do this by specifying axis=0.\n",
    "* Arrays allow the expression of many numerical operations at once. \n",
    "\n",
    "\n",
    "Investigating Basic Functions of NumPy including:\n",
    "_______________________________________\n",
    "1. fast vectorized array operations for data munging, subsetting, filtering, transformations without having to use if/elif/else branches. Basically, **applying conditions and criteria**. \n",
    "2. common algorithms such as sorting, unique, max, min, abs\n",
    "3. efficient descriptive statistics like filling an array from elements chosen from a normal distribution and aggregating data (probably mostly use PANDAS for that, though)\n",
    "4. slicing\n",
    "5. importing/exporting data using genfromtext (usually we will use Pandas for I/O)"
   ]
  },
  {
   "cell_type": "code",
   "execution_count": 3,
   "metadata": {},
   "outputs": [
    {
     "name": "stdout",
     "output_type": "stream",
     "text": [
      "--------- Numpy array ----------\n",
      "CPU times: user 216 ms, sys: 202 ms, total: 419 ms\n",
      "Wall time: 526 ms\n",
      "--------- Now for Python list ----------\n",
      "CPU times: user 12.6 s, sys: 3.44 s, total: 16 s\n",
      "Wall time: 22.6 s\n"
     ]
    }
   ],
   "source": [
    "# example of how much faster it is to use NumPy on large data sets rather than python\n",
    "# lists it import the numpy package (which I believe Anaconda already has - thanks,\n",
    "# package manager!) with the following CONVENTIONAL NOTATION.\n",
    "import numpy as np\n",
    "# use Numpy to create an array of 1000000 items\n",
    "my_arr=np.arange(1000000)\n",
    "# use Python to create an array of 1000000 items\n",
    "my_list=list(range(1000000))\n",
    "# multiple each sequence by 2\n",
    "# we haven't used many magic commands but %time is a useful one that allows us to\n",
    "# time how fast the process on ONE line took:\n",
    "print(\"--------- Numpy array ----------\")\n",
    "# first for numpy array\n",
    "%time for item in range(100): my_arr = my_arr*2  \n",
    "print(\"--------- Now for Python list ----------\")\n",
    "# now for python list using the most efficient list comprehension tool that we have\n",
    "# available for regular python:\n",
    "%time for item in range(100): my_list = [x*2 for x in my_list]"
   ]
  },
  {
   "cell_type": "markdown",
   "metadata": {},
   "source": [
    "#####  Example: Let's say that we have three genes and we are tracking their expression in two different cell lines (say, liver and brain cells). We are at a well-funded research university with access to nextgen sequencing and we get the following table that counts how many reads (proxy for gene expression levels) were observed for each gene in each cell type:\n",
    "------------------------------------------------------------------------\n",
    "\n",
    "                            Cell Type I                 Cell Type II\n",
    "                           --------------             ---------------\n",
    "                Gene 0       100                            200\n",
    "                Gene 1        50                              0\n",
    "                Gene 2       350                            100\n",
    "                \n",
    "We are going to see how this compare to our 'regular' Python tools (lists) to NumPy tools, in the next two cells.\n",
    "NB - we will use %time but we don't expect a big difference until we get to BIGGER arrays. "
   ]
  },
  {
   "cell_type": "code",
   "execution_count": 8,
   "metadata": {},
   "outputs": [
    {
     "name": "stdout",
     "output_type": "stream",
     "text": [
      "350\n",
      "CPU times: user 187 µs, sys: 85 µs, total: 272 µs\n",
      "Wall time: 216 µs\n"
     ]
    }
   ],
   "source": [
    "%%time \n",
    "# analysis this data with list of lists: \n",
    "#___________________________________\n",
    "gene0 =[100,200]\n",
    "gene1 = [50,0]\n",
    "gene2 = [350,100]\n",
    "expression_data=[gene0,gene1,gene2]\n",
    "# we can retrieve each individual value with a two dimensional array\n",
    "#print(expression_data)\n",
    "print(expression_data[2][0])"
   ]
  },
  {
   "cell_type": "code",
   "execution_count": 14,
   "metadata": {},
   "outputs": [
    {
     "name": "stdout",
     "output_type": "stream",
     "text": [
      "350\n",
      "CPU times: user 209 µs, sys: 78 µs, total: 287 µs\n",
      "Wall time: 229 µs\n"
     ]
    }
   ],
   "source": [
    "%%time\n",
    "# now do the same basic accessing of an element but with numpy\n",
    "import numpy as np\n",
    "\n",
    "# create NDarray with gene expression information\n",
    "# you could also write something like this, since gene_expression list is already present\n",
    "# in memory so you could convert it, like so:\n",
    "# gene_expression_np = np.array(expression_data)\n",
    "gene_expression_np =np.array([[100,200],[50,0],[350,100]])\n",
    "# time won't be too different on such a small array but there will be some difference because\n",
    "# of how memory is handled more efficiently with numpy arrays. \n",
    "\n",
    "print(gene_expression_np[2][0])"
   ]
  },
  {
   "cell_type": "code",
   "execution_count": 4,
   "metadata": {},
   "outputs": [
    {
     "name": "stdout",
     "output_type": "stream",
     "text": [
      "175 ms ± 41.7 ms per loop (mean ± std. dev. of 7 runs, 10 loops each)\n",
      "9.08 ms ± 3.49 ms per loop (mean ± std. dev. of 7 runs, 100 loops each)\n"
     ]
    }
   ],
   "source": [
    "# Okay. So now let's use a non-biological example to compare a REALLY BIG array with\n",
    "# the same items in a list so it is easy to compare times: \n",
    "import numpy as np\n",
    "\n",
    "# Create an ndarray of integers in the range 0 up to (but not including) \n",
    "# 1,000,000 using arange method on numpy\n",
    "array = np.arange(1000000)\n",
    "\n",
    "# Convert it to a list using tolist()\n",
    "list_array = array.tolist()\n",
    "\n",
    "#how long does it take to multiple every item in the list_array by 5?\n",
    "%timeit y = [val * 5 for val in list_array]\n",
    "\n",
    "# Now with using array\n",
    "%timeit x = array * 5\n",
    "# Note: this probably won't be instantaneous. "
   ]
  },
  {
   "cell_type": "markdown",
   "metadata": {},
   "source": [
    "#### Note that arrays are homogeneous and memory efficient but we do have to be careful about one rather major issue: unlike lists, when we make a change to an element in an array, it changes the original value (because it isn't a pointer, it is the real data). \n",
    "\n",
    "* We can get around this worry but using .copy() method"
   ]
  },
  {
   "cell_type": "code",
   "execution_count": 10,
   "metadata": {},
   "outputs": [
    {
     "name": "stdout",
     "output_type": "stream",
     "text": [
      "[1 2 3]\n",
      "[1 2]\n",
      "~~~~~~~~~~\n",
      "[6 2]\n",
      "[6 2 3]\n",
      "[42  2]\n",
      "[6 2 3]\n"
     ]
    }
   ],
   "source": [
    "#create an array with 3 items\n",
    "copy_demo = np.array([1, 2, 3])\n",
    "print(copy_demo)\n",
    "#slice it - LIKE WE SAW PREVIOUSLY WITH LISTS!\n",
    "slice_it= copy_demo[:2]\n",
    "print(slice_it)\n",
    "print(\"~~~~~~~~~~\")\n",
    "# Set the first element of the slice, y, to be 6\n",
    "slice_it[0] = 6\n",
    "print(slice_it)\n",
    "# ********************************\n",
    "# BUT NOW WHEN WE PRINT OUT COPY_DEMO, THE ARRAY HAS CHANGED. THIS IS A BIG DIFFERENCE \n",
    "# BETWEEN LISTS AND ARRAYS!\n",
    "# IT IS DUE TO THE FACT THAT NUMPY ARRAYS ARE NOT MADE UP OF POINTERS. You can always\n",
    "# prove this to yourself by creating the same list and slicing it and modifying\n",
    "# the slice and then reassuring yourself that you haven't changed the original list. \n",
    "# ********************************\n",
    "print(copy_demo)\n",
    "# ********************************\n",
    "# if you want to manipute the data without touching the original array you can easily\n",
    "# make a copy of it first. \n",
    "# ********************************\n",
    "slice_of_copy = np.copy(copy_demo[:2])\n",
    "# change first item\n",
    "slice_of_copy[0]=42\n",
    "print(slice_of_copy)\n",
    "print(copy_demo)"
   ]
  },
  {
   "cell_type": "code",
   "execution_count": 5,
   "metadata": {},
   "outputs": [
    {
     "name": "stdout",
     "output_type": "stream",
     "text": [
      "[[-1.   2.   0.   4. ]\n",
      " [ 4.  -0.5  6.   0. ]\n",
      " [ 2.6  0.   7.   8. ]\n",
      " [ 3.  -7.   4.   2. ]]\n",
      "Array with first 2 rows and alternate columns(0 and 2):\n",
      " [[-1.  0.]\n",
      " [ 4.  6.]]\n",
      "~~~~~~~~~~~~~~\n",
      "[[-2.  0.]\n",
      " [ 8. 12.]]\n",
      "**********\n",
      "9.0\n",
      "Across rows:\n",
      "[-1. 10.]\n",
      "Down columns:\n",
      "[3. 6.]\n"
     ]
    }
   ],
   "source": [
    "# a half step more difficult slicing: \n",
    "arr = np.array([[-1, 2, 0, 4], [4, -0.5, 6, 0], [2.6, 0, 7, 8], [3, -7, 4, 2.0]]) \n",
    "print(arr)  \n",
    "# Slicing array with only first two rows and alternate columns starting at column 0. \n",
    "illustrative = arr[:2, ::2] \n",
    "print (\"Array with first 2 rows and alternate columns(0 and 2):\\n\", illustrative) \n",
    "print(\"~~~~~~~~~~~~~~\")\n",
    "# We can do basic functions on narrays,too!\n",
    "print(illustrative*2)\n",
    "print(\"**********\")\n",
    "print(illustrative.sum())\n",
    "# Now let's see how easy it is to specify axes dimensions:\n",
    "print(\"Across rows:\")\n",
    "print(illustrative.sum(axis=1))\n",
    "print(\"Down columns:\")\n",
    "print(illustrative.sum(axis=0))"
   ]
  },
  {
   "cell_type": "markdown",
   "metadata": {},
   "source": [
    "### In lecture problems: \n",
    "1. BMI is a (rightfully) suspect term for tracking health but it is convenient and, thus, still widely used as a summary statistic. Working in pairs, create two lists - first in Python and then in NumPy - and compare the speed and ease of using plain old Python to Numpy when calculating BMI (which is weight/height^2) \n",
    "\n",
    "Data: \n",
    "height = [1.87,  1.87, 1.82, 1.91, 1.90, 1.85]\n",
    "weight = [81.65, 97.52, 95.25, 92.98, 86.18, 88.45]\n",
    "\n",
    "-ADDITIONALLY: can we impose a restriction to only care about individuals who have a BMI>25?\n",
    "\n",
    "2. Create a 8x8 matrix and fill it with a checkerboard pattern"
   ]
  },
  {
   "cell_type": "code",
   "execution_count": 13,
   "metadata": {},
   "outputs": [
    {
     "name": "stdout",
     "output_type": "stream",
     "text": [
      "We can create arrays by using the array method of the NumPy: \n",
      "[[1 2 3]\n",
      " [4 5 6]\n",
      " [7 8 9]]\n",
      "-----Investigate some basic methods of arrays in numpy ------\n",
      "multiply array by 10\n",
      "[[10 20 30]\n",
      " [40 50 60]\n",
      " [70 80 90]]\n",
      "divide array by 10\n",
      "[[0.1 0.2 0.3]\n",
      " [0.4 0.5 0.6]\n",
      " [0.7 0.8 0.9]]\n",
      "add array_1 to array_1\n",
      "[[ 2  4  6]\n",
      " [ 8 10 12]\n",
      " [14 16 18]]\n",
      "multiply array_1* array_1\n",
      "[[ 1  4  9]\n",
      " [16 25 36]\n",
      " [49 64 81]]\n",
      "powers of: array_1**3\n",
      "[[  1   8  27]\n",
      " [ 64 125 216]\n",
      " [343 512 729]]\n",
      "shape method returns a tuple of the size of each dimension\n",
      "(3, 3)\n",
      "data type?\n",
      "int64\n",
      "how many dimensions?\n",
      "2\n",
      "What is the size?\n",
      "9\n",
      "-----------\n",
      "Because they are used often, there are built in methods that create \n",
      " a matrix of a given size of 0's and 1's\n",
      "[[0. 0. 0. 0. 0. 0.]\n",
      " [0. 0. 0. 0. 0. 0.]\n",
      " [0. 0. 0. 0. 0. 0.]]\n",
      "[1. 1. 1. 1. 1. 1. 1. 1. 1. 1.]\n",
      "combine arrays:\n",
      "[[0. 1. 2. 3. 4. 5. 6. 7. 8. 9.]\n",
      " [1. 1. 1. 1. 1. 1. 1. 1. 1. 1.]]\n",
      "we can access a particular element by using a comma-separated list \n",
      " but I think this is a bit logically inconsistent\n",
      "9\n",
      "this is the more logically consistent way of accessing elements \n",
      " form a two dimensional array\n",
      "9\n",
      "We can slice by taking all rows but only the second column\n",
      "[2 5 8]\n",
      " We can also deploy Boolean logic on our narrays. In fact, we'll \n",
      " look at a but more complex example in one of the following cells: \n",
      "[[False False False]\n",
      " [False False False]\n",
      " [False False False]]\n",
      "******\n",
      "[[1 2 3]\n",
      " [4 5 6]\n",
      " [7 8 9]]\n",
      "Here is what happens when we impose the condition of even number on the above array\n",
      "[2 4 6 8]\n"
     ]
    }
   ],
   "source": [
    "# --------------------------------------\n",
    "# BASICS WITH NUMPY\n",
    "# --------------------------------------\n",
    "import numpy as np\n",
    "\n",
    "print(\"We can create arrays by using the array method of the NumPy: \")\n",
    "array_1 = np.array([[1, 2, 3], [4, 5, 6], [7, 8, 9]])\n",
    "# call it. \n",
    "print(array_1)\n",
    "print(\"-----Investigate some basic methods of arrays in numpy ------\")\n",
    "# multiplication over the entire array by a scalar: \n",
    "print(\"multiply array by 10\")\n",
    "print(array_1*10)\n",
    "print(\"divide array by 10\")\n",
    "print(array_1/10)\n",
    "print(\"add array_1 to array_1\")\n",
    "print(array_1+array_1)\n",
    "# element-wise since the two arrays are the same size\n",
    "print(\"multiply array_1* array_1\")\n",
    "print(array_1*array_1)\n",
    "print(\"powers of: array_1**3\")\n",
    "print(array_1**3)\n",
    "#remind ourselves how many items this array has? \n",
    "# It should be 3x3 and will give us 2 dimensions (x and y)\n",
    "print(\"shape method returns a tuple of the size of each dimension\")\n",
    "print(array_1.shape)\n",
    "print(\"data type?\")\n",
    "print(array_1.dtype)\n",
    "print(\"how many dimensions?\")\n",
    "print(array_1.ndim)\n",
    "print(\"What is the size?\")\n",
    "print(array_1.size)\n",
    "print(\"-----------\")\n",
    "print(\"Because they are used often, there are built in methods that create \\n a matrix of a given size of 0's and 1's\")\n",
    "array_zero = np.zeros((3,6))\n",
    "print(array_zero)\n",
    "# a vector of 1's\n",
    "array_ones = np.ones(10)\n",
    "print(array_ones)\n",
    "# We can combine these arrays:\n",
    "print(\"combine arrays:\")\n",
    "x = np.arange(0, 10) \n",
    "A = np.array([x, array_ones])\n",
    "print(A)\n",
    "# Lists prepared us for this type of data set. We can do all the things that we\n",
    "# needed to do with lists: \n",
    "# Index: what will this return? \n",
    "print(\"we can access a particular element by using a comma-separated list \\n but I think this is a bit logically inconsistent\")\n",
    "index_1=array_1[2,2]\n",
    "print(index_1)\n",
    "print(\"this is the more logically consistent way of accessing elements \\n form a two dimensional array\")\n",
    "# I think that the above can be confusing. The more consistent way - but slightly longer - to do it is like so: \n",
    "index_2 = array_1[2][2]\n",
    "print(index_2)\n",
    "print(\"We can slice by taking all rows but only the second column\")\n",
    "index_3 = array_1[:,1]\n",
    "print(index_3)\n",
    "print(\" We can also deploy Boolean logic on our narrays. In fact, we'll \\n look at a but more complex example in one of the following cells: \")\n",
    "# We can also use Boolean logic on narrays: \n",
    "array_bool_test = np.ones((3,3))\n",
    "print(array_bool_test>array_1)\n",
    "print(\"******\")\n",
    "print(array_1)\n",
    "print(\"Here is what happens when we impose the condition of even number on the above array\")\n",
    "print(array_1[array_1%2 ==0])"
   ]
  },
  {
   "cell_type": "markdown",
   "metadata": {},
   "source": [
    "Slicing is a done a bit differently in NumPy than in regular ol' Python: if you modify an array, it is not just the copy it is actually changing the original dataset. This is mostly due to the fact that NumPy is specifically designed to be more efficient with large data sets and it is *inefficient* to first copy an array and then modify the copy. \n",
    "\n",
    "We'll make some predictions about what will be produced under various circumstances and also draw out the matrices that we expect. "
   ]
  },
  {
   "cell_type": "code",
   "execution_count": 14,
   "metadata": {},
   "outputs": [
    {
     "name": "stdout",
     "output_type": "stream",
     "text": [
      "We can slice up narrays easily! Let's remember what array_1 looked like\n",
      "[[1 2 3]\n",
      " [4 5 6]\n",
      " [7 8 9]]\n",
      "let's start to slice up the array above: \n",
      "[1 4 7]\n",
      "[1 2 3]\n",
      "[[5 6]\n",
      " [8 9]]\n",
      "create a new narray: \n",
      "[0 1 2 3 4 5 6 7 8 9]\n",
      "5\n",
      "broadcasting is something we won't really discuss in this course but a very narrow example is the following:\n",
      "let's see what what the new array is now that we have broadcasted a scalar value, 12, through three of the elements of the array\n",
      "[ 0  1  2  3  4 12 12 12  8  9]\n",
      "the actual values of the array are changed! This is unlike what happens with a Python list and is very much to do with the fact that NumPy is designed for efficiency of large data sets!\n",
      "We could even recreate the array that we manually inputted above by using the arange method\n",
      " this is which is a lot like range() -  in NumPy:\n",
      "[0 1 2 3 4 5 6 7 8 9]\n",
      "[5 6 7 8 9]\n",
      "[1 3 5 7 9]\n",
      "To recreate the original array: \n",
      "[[1 2 3]\n",
      " [4 5 6]\n",
      " [7 8 9]]\n"
     ]
    }
   ],
   "source": [
    "# slice: What will these do?\n",
    "print('We can slice up narrays easily! Let\\'s remember what array_1 looked like')\n",
    "print(array_1)\n",
    "print(\"let's start to slice up the array above: \")\n",
    "slice_1 = array_1[:,0]\n",
    "print(slice_1)\n",
    "slice_2 = array_1[0,:]\n",
    "print(slice_2)\n",
    "slice_3 = array_1[1:3,1:3]\n",
    "print(slice_3)\n",
    "print(\"create a new narray: \")\n",
    "arr = np.arange(10)\n",
    "print(arr)\n",
    "arr[5]\n",
    "print(arr[5])\n",
    "arr[5:8]=12\n",
    "print(\"broadcasting is something we won't really discuss in this course but a very narrow example is the following:\")\n",
    "print(\"let's see what what the new array is now that we have broadcasted a scalar value, 12, through three of the elements of the array\")\n",
    "print(arr)\n",
    "print(\"the actual values of the array are changed! This is unlike what happens with a Python list and is very much to do with the fact that NumPy is designed for efficiency of large data sets!\")\n",
    "print(\"We could even recreate the array that we manually inputted above by using the arange method\")\n",
    "print(\" this is which is a lot like range() -  in NumPy:\")\n",
    "print(np.arange(10))\n",
    "print(np.arange(5,10))\n",
    "print(np.arange(1,10,2))\n",
    "print(\"To recreate the original array: \")\n",
    "array_2 = np.arange(1,10).reshape(3,3)\n",
    "print(array_2)"
   ]
  },
  {
   "cell_type": "code",
   "execution_count": 15,
   "metadata": {},
   "outputs": [
    {
     "name": "stdout",
     "output_type": "stream",
     "text": [
      "[[[ 1  2  3]\n",
      "  [ 4  5  6]]\n",
      "\n",
      " [[ 7  8  9]\n",
      "  [10 11 12]]]\n",
      "~~~~~~~~~\n",
      "[[1 2 3]\n",
      " [4 5 6]]\n",
      "---------\n",
      "[4 5 6]\n",
      "~~~~~~~~~\n",
      "3\n"
     ]
    }
   ],
   "source": [
    "# even more sophisticated example of slicing (since this helps demonstrate why we care \n",
    "# about it so much:). What about when you have a THREE dimensional (or higher) array? \n",
    "array_3d = np.array([[[1,2,3],[4,5,6]],[[7,8,9],[10,11,12]]])\n",
    "print(array_3d)\n",
    "# to orient you: this array would be a cube that has two rows on the front\n",
    "# with the values 1,2,3 and 7,8,9. \n",
    "print(\"~~~~~~~~~\")\n",
    "print(array_3d[0])\n",
    "print(\"---------\")\n",
    "print(array_3d[0][1])\n",
    "print(\"~~~~~~~~~\")\n",
    "print(array_3d[0][0][2])"
   ]
  },
  {
   "cell_type": "code",
   "execution_count": 17,
   "metadata": {},
   "outputs": [
    {
     "name": "stdout",
     "output_type": "stream",
     "text": [
      "['Violet' 'Stanley' 'Charles' 'Stanley' 'Fisher' 'Marion' 'Violet']\n",
      "+++++++++++++++++++\n",
      "[[-0.48373697 -0.76189573 -0.16938285  0.4161105 ]\n",
      " [ 0.60147655 -1.00297131  0.29887514 -0.79711679]\n",
      " [ 0.14726468  0.08811204  0.35292213 -0.419136  ]\n",
      " [ 0.8385054  -1.84182196  2.17401707 -1.24561012]\n",
      " [-1.57961857 -1.13878324 -0.51535245 -1.76889327]\n",
      " [ 0.62715133  1.46285667  0.40774668 -0.49535104]\n",
      " [ 2.35821307  0.2727742   1.45118634  0.92428157]]\n",
      "*******************\n",
      "[[ 0.60147655 -1.00297131  0.29887514 -0.79711679]\n",
      " [ 0.8385054  -1.84182196  2.17401707 -1.24561012]]\n",
      "~~~~~~~~~~~~~~\n",
      "[[ 0.29887514 -0.79711679]\n",
      " [ 2.17401707 -1.24561012]]\n",
      "~~~~~~~~~~~~~~\n",
      "what is the difference between: \n",
      "[ 0.60147655 -1.00297131  0.29887514 -0.79711679]\n",
      "and...\n",
      "[0.60147655 0.8385054 ]\n",
      "~~~~~~~~~~~~~~\n",
      "[[ 0.60147655 -1.00297131  0.29887514 -0.79711679]\n",
      " [ 0.8385054  -1.84182196  2.17401707 -1.24561012]\n",
      " [ 0.62715133  1.46285667  0.40774668 -0.49535104]]\n",
      "`````````````\n",
      "[[-0.48373697 -0.76189573 -0.16938285  0.4161105 ]\n",
      " [ 0.14726468  0.08811204  0.35292213 -0.419136  ]\n",
      " [-1.57961857 -1.13878324 -0.51535245 -1.76889327]\n",
      " [ 0.62715133  1.46285667  0.40774668 -0.49535104]\n",
      " [ 2.35821307  0.2727742   1.45118634  0.92428157]]\n"
     ]
    }
   ],
   "source": [
    "# including boolean logic in slicing\n",
    "# This is really cool because it allows us to merge data - something that we will see \n",
    "# a lot of in sqlite. \n",
    "# create an array of names\n",
    "array_string = np.array([\"Violet\",\"Stanley\",\"Charles\",\"Stanley\",\"Fisher\",\"Marion\",\"Violet\"])\n",
    "array_data = np.random.randn(7,4)\n",
    "print(array_string)\n",
    "print(\"+++++++++++++++++++\")\n",
    "print(array_data)\n",
    "print(\"*******************\")\n",
    "# we want to select all the data that is connected to Stanley. \n",
    "# No problem - comparisons, using ==, are vectorized in NumPy\n",
    "array_string == \"Stanley\"\n",
    "# we can use that as a index so it will take the data in array_data that is\n",
    "# associated with the same location as \"Stanley\".\n",
    "print(array_data[array_string == \"Stanley\"])\n",
    "print(\"~~~~~~~~~~~~~~\")\n",
    "# warning: you MUST ensure that the lengths of the two arrays are the same - unexpected\n",
    "# behaviour results when they aren't!\n",
    "# We can use Stanley and a particular number index to slice\n",
    "print(array_data[array_string == \"Stanley\", 2:])\n",
    "print(\"~~~~~~~~~~~~~~\")\n",
    "print(\"what is the difference between: \")\n",
    "# answer: you are slicing the entire row of element 0\n",
    "print(array_data[array_string == \"Stanley\"][0])\n",
    "print(\"and...\")\n",
    "# answer: you are only slicing the first element -the column 0 - from each row that fulfills\n",
    "# the criteria\n",
    "print(array_data[array_string == \"Stanley\",0])\n",
    "# you can use boolean combinations in the same way that you used them previously: ! | &\n",
    "print(\"~~~~~~~~~~~~~~\")\n",
    "print(array_data[(array_string == \"Stanley\")|(array_string == \"Marion\")])\n",
    "print(\"`````````````\")\n",
    "# not Stanley\n",
    "print(array_data[(array_string != \"Stanley\")])"
   ]
  },
  {
   "cell_type": "markdown",
   "metadata": {},
   "source": [
    "### Now, let's talk about I/O\n",
    "* You can use NumPy to input data sets BUT we will see that PANDAS is MUCH MUCH better for this purpose. \n",
    "* In order to try to not create a novel about each library, I will point you to the commands for I/O in NumPy and suggest that for our biological purposes, Pandas is usually going to be easier."
   ]
  },
  {
   "cell_type": "code",
   "execution_count": null,
   "metadata": {},
   "outputs": [],
   "source": [
    "# importing data: \n",
    "# YOU WILL NOTICE THAT THESE COMMANDS ARE HASHED OUT. YOU CAN SEE HOW YOU WOULD USE THEM HERE: \n",
    "# https://docs.scipy.org/doc/numpy/reference/generated/numpy.genfromtxt.html#numpy.genfromtxt\n",
    "#np.genfromtxt()\n",
    "# np.savetxt"
   ]
  },
  {
   "cell_type": "markdown",
   "metadata": {},
   "source": [
    "## Distributions using the random module of NumPy\n",
    "* you can find a list of these methods - and the arguments that they take - here: \n",
    "https://docs.scipy.org/doc/numpy-1.14.1/reference/routines.random.html"
   ]
  },
  {
   "cell_type": "code",
   "execution_count": 6,
   "metadata": {},
   "outputs": [
    {
     "name": "stdout",
     "output_type": "stream",
     "text": [
      "[[0.94782766 0.75531456 0.36281691 0.70156185]\n",
      " [0.95859225 0.30705224 0.7146703  0.5534169 ]\n",
      " [0.65528024 0.40602837 0.96010746 0.14620321]\n",
      " [0.23137797 0.22964725 0.29854027 0.3861136 ]]\n",
      "[[-2.83197419 -0.43307869  1.31371177 -1.13225473]\n",
      " [-0.1525666   0.9335954   0.15029012  0.39968549]\n",
      " [ 0.0041856  -0.62747426  0.2282753  -0.1332843 ]\n",
      " [ 0.06007535  0.87143436  0.34184423  2.44154774]]\n",
      "~~~~~~~~~~~~~~\n",
      "0.21352836660255767\n",
      "~~~~~~~~~~~~~~\n"
     ]
    }
   ],
   "source": [
    "# random number generator. The various types of random number generator are listed here: \n",
    "# https://docs.scipy.org/doc/numpy-1.15.1/reference/routines.random.html\n",
    "# 1. random uniform distribution (values are from 0 to 1) with 4 rows and 4 columns \n",
    "print(np.random.rand(4, 4))\n",
    "# 2. random normal distribution with mean =0, sd=1\n",
    "print(np.random.randn(4,4))\n",
    "# 3. random integers ie. np.random.randint(min, max, [rows, cols])\n",
    "# there is a strange but unexpectedly useful function called linspace(start,end, steps)\n",
    "#which result in a vector full of exactly equally spaced sequences\n",
    "#4. An item from a normal distribution. Argument: loc = mean, scale = standard deviation and size \n",
    "print(\"~~~~~~~~~~~~~~\")\n",
    "print(np.random.normal(loc=0,scale = 0.25))\n",
    "print(\"~~~~~~~~~~~~~~\")"
   ]
  },
  {
   "cell_type": "code",
   "execution_count": 18,
   "metadata": {},
   "outputs": [
    {
     "name": "stdout",
     "output_type": "stream",
     "text": [
      "reminder of what array_1 looks like\n",
      "[[1 2 3]\n",
      " [4 5 6]\n",
      " [7 8 9]]\n",
      "axis = 0 should give us the sum of columns\n",
      "[12 15 18]\n",
      "axis = 1 should give us the sum of rows\n",
      "[ 6 15 24]\n",
      "----- means ------\n",
      "----- mean of columns ------\n",
      "[4. 5. 6.]\n",
      "----- mean of rows ------\n",
      "[2. 5. 8.]\n",
      "~Here are some other useful methods that are built in to NumPy~\n",
      "vertically stack the two arrays: \n",
      "[[1 2 3]\n",
      " [4 5 6]\n",
      " [7 8 9]\n",
      " [1 2 3]\n",
      " [4 5 6]\n",
      " [7 8 9]]\n",
      "horizontally stack the two arrays: \n",
      "[[1 2 3 1 2 3]\n",
      " [4 5 6 4 5 6]\n",
      " [7 8 9 7 8 9]]\n",
      "[3 4 5 6 7 8 9]\n",
      "the np.sort() method allows you to choose an axis or a flattened axis by choosing None\n",
      "[1 2 3 4 5 6 7 8 9]\n",
      "16\n",
      "[[1.         1.41421356 1.73205081]\n",
      " [2.         2.23606798 2.44948974]\n",
      " [2.64575131 2.82842712 3.        ]]\n",
      "**************\n",
      "[2 2 2 3 3 3]\n",
      "(array([3, 4, 5, 6, 7, 8]),)\n",
      "~~~~~~~~~~~\n",
      "[[1 4 7]\n",
      " [2 5 8]\n",
      " [3 6 9]]\n",
      " The above examples were unary functions because they took one array as an argument.\n",
      " These include: abs,sqrt,square,exp,log,log10,isnan,cos,cosh,sin,sinh,tan,tanh,arccos etc\n",
      " There are also binary functions that require two arrays such as Maximum, add, subtract,multiply,power etc\n",
      "[[10 11 12]\n",
      " [13 14 15]\n",
      " [16 17 18]]\n"
     ]
    }
   ],
   "source": [
    "# Why else do we care about arrays? \n",
    "# Handy reasons like taking the sum, mean and other built in methods across rows \n",
    "# or columns axis =0, is across the colums and axis=1 means down the rows \n",
    "# <-- however, this seems pathologically opposite to me\n",
    "print(\"reminder of what array_1 looks like\")\n",
    "print(array_1)\n",
    "print(\"axis = 0 should give us the sum of columns\")\n",
    "col_sum = array_1.sum(axis=0)\n",
    "print(col_sum)\n",
    "print(\"axis = 1 should give us the sum of rows\")\n",
    "rows_sum = array_1.sum(axis=1)\n",
    "print(rows_sum)\n",
    "print(\"----- means ------\")\n",
    "# Oh! And we can take the mean value across rows or columns, too!\n",
    "print(\"----- mean of columns ------\")\n",
    "col_mean = array_1.mean(axis=0)\n",
    "print(col_mean)\n",
    "print(\"----- mean of rows ------\")\n",
    "rows_mean = array_1.mean(axis=1)\n",
    "print(rows_mean)\n",
    "print(\"~Here are some other useful methods that are built in to NumPy~\")\n",
    "# stacks arrays vertically\n",
    "print(\"vertically stack the two arrays: \")\n",
    "print(np.vstack([array_1,array_2]))\n",
    "print(\"horizontally stack the two arrays: \")\n",
    "# stacks arrays horizontally\n",
    "print(np.hstack([array_1,array_2]))\n",
    "#sorting: \n",
    "array_3= np.array([9,8,7,6,5,4,3])\n",
    "print(np.sort(array_3))\n",
    "print(\"the np.sort() method allows you to choose an axis or a flattened axis by choosing None\")\n",
    "# remember that array_1 is 2-dimensional\n",
    "print(np.sort(array_1,axis=None))\n",
    "print(np.power(2,4))\n",
    "print(np.sqrt(array_1))\n",
    "# You can also impose conditions. Let's create an one-dimensional array: \n",
    "array_4 = np.array([1,1,1,2,2,2,3,3,3])\n",
    "print(\"**************\")\n",
    "# which items are >1\n",
    "print(array_4[array_4>1])\n",
    "# where are items >1 (this returns the INDEX not the numbers)\n",
    "print(np.where(array_4>1))\n",
    "print(\"~~~~~~~~~~~\")\n",
    "# you can do easy things like transpose the array: \n",
    "print(array_1.T)\n",
    "print(\" The above examples were unary functions because they took one array as an argument.\")\n",
    "print(\" These include: abs,sqrt,square,exp,log,log10,isnan,cos,cosh,sin,sinh,tan,tanh,arccos etc\")\n",
    "print(\" There are also binary functions that require two arrays such as Maximum, add, subtract,multiply,power etc\")\n",
    "array_5 = [[10,11,12],[13,14,15],[16,17,18]]\n",
    "print(np.maximum(array_5,array_1))"
   ]
  },
  {
   "cell_type": "code",
   "execution_count": 19,
   "metadata": {},
   "outputs": [
    {
     "name": "stdout",
     "output_type": "stream",
     "text": [
      "[100.  100.   90.   40.   80.  100.   85.   70.   90.   65.   90.   85.\n",
      "  50.5]\n",
      "85.0\n",
      "18.277609414722697\n",
      "334.07100591715977\n",
      "*************\n",
      "100.0\n",
      "40.0\n",
      "[100.  100.   90.   40.   80.  100.   85.   70.   90.   65.   90.   85.\n",
      "  50.5]\n"
     ]
    }
   ],
   "source": [
    "import numpy as np\n",
    "# you can do basic statistics with methods in the Numpy library\n",
    "# boring old one dimensional array\n",
    "grades = np.array([100, 100, 90, 40, 80, 100, 85, 70, 90, 65, 90, 85, 50.5])\n",
    "print(grades)\n",
    "print(np.median(grades))\n",
    "print(np.std(grades))\n",
    "print(np.var(grades))\n",
    "print(\"*************\")\n",
    "print(np.max(grades))\n",
    "print(np.min(grades))\n",
    "print(np.abs(grades))"
   ]
  },
  {
   "cell_type": "markdown",
   "metadata": {},
   "source": [
    "### In lecture exercise (really a reminder of all of the stuff you have learned above)\n",
    "_____________________________\n",
    "* how would you create a 10X10 array filled with the numbers from 100 to 200? \n",
    "* how would you get the sum and the mean across the columns and rows?\n",
    "* How would slice out rows 5-10 and columns 3-6? "
   ]
  },
  {
   "cell_type": "markdown",
   "metadata": {},
   "source": [
    "### Now we can use NumPy to solve to model random walks (the example at the beginning of this lecture). You will want to ensure that you understand because your assignment will involve extending this to multiple, simultaneous random walks. "
   ]
  },
  {
   "cell_type": "code",
   "execution_count": 10,
   "metadata": {},
   "outputs": [
    {
     "name": "stdout",
     "output_type": "stream",
     "text": [
      "CPU times: user 26.3 ms, sys: 2.99 ms, total: 29.3 ms\n",
      "Wall time: 32.2 ms\n"
     ]
    },
    {
     "data": {
      "text/plain": [
       "[<matplotlib.lines.Line2D at 0x1178fbc10>]"
      ]
     },
     "execution_count": 10,
     "metadata": {},
     "output_type": "execute_result"
    },
    {
     "data": {
      "image/png": "[encoded data removed]",
      "text/plain": [
       "<Figure size 432x288 with 1 Axes>"
      ]
     },
     "metadata": {
      "needs_background": "light"
     },
     "output_type": "display_data"
    }
   ],
   "source": [
    "%%time\n",
    "#compare the time to the regular Python version\n",
    "# import some libraries\n",
    "import random\n",
    "import numpy as np\n",
    "import matplotlib.pyplot as plt \n",
    "# Let's try the same thing but using the NumPy library: \n",
    "nsteps =1000\n",
    "#1000 coin flips at once\n",
    "# note: you could use ANY distribution including, say, the normal distribution: \n",
    "# np.random.normal(look up arguments!)\n",
    "draws = np.random.randint(0,2,size = nsteps)\n",
    "#print(draws)\n",
    "# set these values to 1 or -1 using the WHERE CONDITIONAL \n",
    "steps = np.where(draws>0,1,-1)\n",
    "#print(steps)\n",
    "# the entire walk will be the cumulative distribution of the values -1 to 1 starting at 0\n",
    "walk = steps.cumsum()\n",
    "#print(walk)\n",
    "plt.plot(walk[:nsteps])\n",
    "# we can also look at a few interesting features: \n",
    "# minimum and maximum achieved - presumably we could just look at the graph to determine\n",
    "# this:  \n",
    "min_value_achieved = walk.min()\n",
    "print(min_value_achieved)\n",
    "max_value_achieved = walk.max()\n",
    "print(max_value_achieved)\n",
    "# If you are interested in Black-Scholes or, really, POPULATION GENETICS than you will be \n",
    "# interested in determining when a particular value is achieved on this random walk. \n",
    "# This is a hard but we have a 'cheat' to determine the index of this event. \n",
    "first_time_10_steps_away_from_0_index = (np.abs(walk) >= 10).argmax()\n",
    "print(first_time_10_steps_away_from_0_index)"
   ]
  },
  {
   "cell_type": "code",
   "execution_count": 8,
   "metadata": {},
   "outputs": [
    {
     "name": "stdout",
     "output_type": "stream",
     "text": [
      "CPU times: user 33.1 ms, sys: 2.34 ms, total: 35.4 ms\n",
      "Wall time: 34.1 ms\n"
     ]
    },
    {
     "data": {
      "text/plain": [
       "(0, 1)"
      ]
     },
     "execution_count": 8,
     "metadata": {},
     "output_type": "execute_result"
    },
    {
     "data": {
      "image/png": "[encoded data removed]",
      "text/plain": [
       "<Figure size 432x288 with 1 Axes>"
      ]
     },
     "metadata": {
      "needs_background": "light"
     },
     "output_type": "display_data"
    }
   ],
   "source": [
    "%%time\n",
    "#------------------------------------------\n",
    "# In fact, you may have noticed that the above code isn't ideal for situations where, \n",
    "# when the proportion hits 0, the run is over. This is particularly important in\n",
    "# Population Genetics for describing genetic drift (and other uses) \n",
    "# This example is taken from the following website which gives a basic background \n",
    "# for genetic drift using an example of bison. \n",
    "# http://bi1.caltech.edu/code/t03_stochastic_simulations.html\n",
    "\n",
    "#additionally, this might provide some hints about expanding the numpy simulation above \n",
    "# into multiple simulations that you will need to do for the homework 8!\n",
    "\n",
    "#------------------------------------------\n",
    "# Define some parameters of the simulation.\n",
    "pop_size = 25  # Number of individuals in the population.\n",
    "n_alleles = 2 * pop_size  # Total number of alleles in the population. \n",
    "n_gen = 130 # Number of generations to track the allele frequencies.\n",
    "freq = 0.5  # Allele frequency of allele A.\n",
    "\n",
    "# Set up a vector to store the allele frequency at each generation.\n",
    "frequency = np.zeros(n_gen)  # Full of zeros.\n",
    "\n",
    "# Set the initial condition.\n",
    "frequency[0] = freq\n",
    "\n",
    "# Loop through the generations. \n",
    "for i in range(1, n_gen):\n",
    "    # Flip a coin for each member of the population.\n",
    "    flips = np.random.rand(n_alleles)\n",
    "    \n",
    "    # Determine if each allele is 'A' or 'a' based on the frequency from\n",
    "    # the previous generation.\n",
    "    num_A = np.sum(flips < frequency[i-1])\n",
    "    \n",
    "    # Determine the new allele frequency.\n",
    "    new_freq = num_A / n_alleles\n",
    "    \n",
    "    # Store the new allele frequency.\n",
    "    frequency[i] = new_freq\n",
    "\n",
    "# Set up a vector for the number of generations.\n",
    "gen_vec = np.arange(0, n_gen, 1)\n",
    "\n",
    "# Plot this single trajectory.\n",
    "plt.plot(gen_vec, frequency)\n",
    "\n",
    "# Add axis labels.\n",
    "plt.xlabel('number of generations')\n",
    "plt.ylabel('frequency of $A$ allele')\n",
    "\n",
    "# Change the ylimits to cover the full range of possible frequencies.\n",
    "plt.ylim([0, 1])\n",
    "\n",
    "# Expand the simulation to cover all 5 recovering herds of bison. \n",
    "n_herds = 5\n",
    "frequency = np.zeros((n_herds, n_gen))\n",
    "\n",
    "# Loop through each herd and repeat the simulation.\n",
    "for i in range(n_herds):\n",
    "    # Set the initial frequency.\n",
    "    frequency[i, 0] = 0.5\n",
    "    for j in range(1, n_gen):\n",
    "        # Flip the coins.\n",
    "        flips = np.random.rand(n_alleles)\n",
    "        \n",
    "        # Find the number of 'A' alleles.\n",
    "        num_A = np.sum(flips < frequency[i, j-1])\n",
    "        \n",
    "        # Determine the new frequency\n",
    "        new_freq = num_A / n_alleles\n",
    "        \n",
    "        # Set the current allele frequency.\n",
    "        frequency[i, j] = new_freq\n",
    "# Plot the trajectories from all of the herds.\n",
    "for i in range(n_herds):\n",
    "    plt.plot(gen_vec, frequency[i, :])\n",
    "    \n",
    "# Add axis labels.\n",
    "plt.xlabel('number of generations')\n",
    "plt.ylabel('Frequency of $A$ allele')\n",
    "plt.ylim([0, 1])"
   ]
  },
  {
   "cell_type": "code",
   "execution_count": null,
   "metadata": {},
   "outputs": [],
   "source": []
  }
 ],
 "metadata": {
  "kernelspec": {
   "display_name": "Python 3",
   "language": "python",
   "name": "python3"
  },
  "language_info": {
   "codemirror_mode": {
    "name": "ipython",
    "version": 3
   },
   "file_extension": ".py",
   "mimetype": "text/x-python",
   "name": "python",
   "nbconvert_exporter": "python",
   "pygments_lexer": "ipython3",
   "version": "3.7.4"
  }
 },
 "nbformat": 4,
 "nbformat_minor": 2
}
