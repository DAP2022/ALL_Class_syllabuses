{
 "cells": [
  {
   "cell_type": "markdown",
   "metadata": {},
   "source": [
    "## Assertions - debugging\n",
    "* So far, in order to debug, we have relied on two general techniques: \n",
    "     1. print statements\n",
    "     2. Error statements (along with liberal use of google)\n",
    "* There are two other, more 'official' ways: \n",
    "        1. try/except \n",
    "        2. Assertions\n",
    "        \n",
    "* Assertions are a way of testing a function to ensure that it results in the expected value (are functions working as intended?)\n",
    "\n",
    "    * Assertions let us test functions… *especially ones that we have modified* (to ensure that we haven’t introduced any new errors)\n",
    "    \n",
    "* If assertion turns out to be false, the program stops and throw AssertionError \n",
    "\n",
    "* Useful also as documentation – by including a collection of assertion tests alongside a function, we can show exactly what output is expected\n",
    "\n",
    "* With the example that we have been using so far, we might run the following short code where we know what the function should give us: \n",
    "\n",
    "> **assert get_at_content(“ATGC”)==0.5**\n",
    "\n",
    "* If the assertion turns out to be false, the program will stop and it will through an AssertionError exception\n",
    "\n",
    "Here is Rear Admiral Dr. Grace Murray Hopper: \n",
    "\n",
    "<div class=\"alert alert-block alert-info\">\n",
    "<img src=\"http://image.slidesharecdn.com/FromAbacustoiPhonetoCrestaTVshare-090220174115-phpapp02/95/from-abacus-to-i-phone-to-cresta-tv-share-40-728.jpg?cb=1235151982\" alt=\"Alt text that describes the graphic\" title=\"Title text\" />\n"
   ]
  },
  {
   "cell_type": "code",
   "execution_count": 2,
   "metadata": {
    "scrolled": true
   },
   "outputs": [
    {
     "name": "stdout",
     "output_type": "stream",
     "text": [
      "~~~~~~~~\n",
      "100\n",
      "~~~~~~~~\n",
      "10000\n",
      "~~~~~~~~\n",
      "100\n"
     ]
    },
    {
     "ename": "AssertionError",
     "evalue": "",
     "output_type": "error",
     "traceback": [
      "\u001b[0;31m---------------------------------------------------------------------------\u001b[0m",
      "\u001b[0;31mAssertionError\u001b[0m                            Traceback (most recent call last)",
      "\u001b[0;32m<ipython-input-2-d69a2add43dd>\u001b[0m in \u001b[0;36m<module>\u001b[0;34m\u001b[0m\n\u001b[1;32m     13\u001b[0m \u001b[0;32massert\u001b[0m \u001b[0mbig2\u001b[0m \u001b[0;34m==\u001b[0m \u001b[0;36m10000\u001b[0m\u001b[0;34m\u001b[0m\u001b[0;34m\u001b[0m\u001b[0m\n\u001b[1;32m     14\u001b[0m \u001b[0;31m# this is not true\u001b[0m\u001b[0;34m\u001b[0m\u001b[0;34m\u001b[0m\u001b[0;34m\u001b[0m\u001b[0m\n\u001b[0;32m---> 15\u001b[0;31m \u001b[0;32massert\u001b[0m \u001b[0mbiggest_number\u001b[0m\u001b[0;34m(\u001b[0m\u001b[0;34m-\u001b[0m\u001b[0;36m10\u001b[0m\u001b[0;34m,\u001b[0m\u001b[0;34m-\u001b[0m\u001b[0;36m5\u001b[0m\u001b[0;34m,\u001b[0m\u001b[0;36m5\u001b[0m\u001b[0;34m,\u001b[0m\u001b[0;36m10\u001b[0m\u001b[0;34m,\u001b[0m\u001b[0;36m100\u001b[0m\u001b[0;34m)\u001b[0m\u001b[0;34m==\u001b[0m\u001b[0;36m10\u001b[0m\u001b[0;34m\u001b[0m\u001b[0;34m\u001b[0m\u001b[0m\n\u001b[0m\u001b[1;32m     16\u001b[0m \u001b[0;31m# this is true but we won't know that until we fix the assert statement above since the program stops when it encounters the error\u001b[0m\u001b[0;34m\u001b[0m\u001b[0;34m\u001b[0m\u001b[0;34m\u001b[0m\u001b[0m\n\u001b[1;32m     17\u001b[0m \u001b[0;32massert\u001b[0m \u001b[0mbiggest_number\u001b[0m\u001b[0;34m(\u001b[0m\u001b[0;34m-\u001b[0m\u001b[0;36m20\u001b[0m\u001b[0;34m,\u001b[0m\u001b[0;34m-\u001b[0m\u001b[0;36m5\u001b[0m\u001b[0;34m,\u001b[0m\u001b[0;36m5\u001b[0m\u001b[0;34m,\u001b[0m\u001b[0;36m10\u001b[0m\u001b[0;34m)\u001b[0m\u001b[0;34m==\u001b[0m\u001b[0;36m10\u001b[0m\u001b[0;34m\u001b[0m\u001b[0;34m\u001b[0m\u001b[0m\n",
      "\u001b[0;31mAssertionError\u001b[0m: "
     ]
    }
   ],
   "source": [
    "# Here is an example of a function that can take a variable number of arguments by using *args \n",
    "def biggest_number(*args):\n",
    "    print(\"~~~~~~~~\")\n",
    "    print(max(args))\n",
    "    return max(args)\n",
    "\n",
    "# we pass in 5 items\n",
    "big = biggest_number(-10,-5,5,10,100)\n",
    "# we pass in 3 items \n",
    "big2 = biggest_number(1,4,10000)\n",
    "# these should be true\n",
    "assert big ==100\n",
    "assert big2 == 10000\n",
    "# this is not true\n",
    "assert biggest_number(-10,-5,5,10,100)==10\n",
    "# this is true but we won't know that until we fix the assert statement above since the program stops when it encounters the error\n",
    "assert biggest_number(-20,-5,5,10)==10"
   ]
  },
  {
   "cell_type": "code",
   "execution_count": null,
   "metadata": {},
   "outputs": [],
   "source": []
  }
 ],
 "metadata": {
  "kernelspec": {
   "display_name": "Python 3",
   "language": "python",
   "name": "python3"
  },
  "language_info": {
   "codemirror_mode": {
    "name": "ipython",
    "version": 3
   },
   "file_extension": ".py",
   "mimetype": "text/x-python",
   "name": "python",
   "nbconvert_exporter": "python",
   "pygments_lexer": "ipython3",
   "version": "3.7.4"
  }
 },
 "nbformat": 4,
 "nbformat_minor": 2
}
